{
 "cells": [
  {
   "cell_type": "code",
   "execution_count": 1,
   "metadata": {},
   "outputs": [],
   "source": [
    "from netCDF4 import Dataset\n",
    "import plotly.graph_objects as go"
   ]
  },
  {
   "cell_type": "code",
   "execution_count": 2,
   "metadata": {},
   "outputs": [],
   "source": [
    "fuse_folder = 'C:/FUSE/CWATM'\n",
    "output_folder = fuse_folder + '/Output'\n",
    "\n",
    "reservoirs = \"/lakeResStorage_daily.nc\""
   ]
  },
  {
   "cell_type": "code",
   "execution_count": 3,
   "metadata": {},
   "outputs": [
    {
     "ename": "FileNotFoundError",
     "evalue": "[Errno 2] No such file or directory: b'/lakeResStorage_daily.nc'",
     "output_type": "error",
     "traceback": [
      "\u001b[1;31m---------------------------------------------------------------------------\u001b[0m",
      "\u001b[1;31mFileNotFoundError\u001b[0m                         Traceback (most recent call last)",
      "\u001b[1;32m<ipython-input-3-e9a8c61bd7e9>\u001b[0m in \u001b[0;36m<module>\u001b[1;34m\u001b[0m\n\u001b[1;32m----> 1\u001b[1;33m \u001b[0mnc\u001b[0m \u001b[1;33m=\u001b[0m \u001b[0mDataset\u001b[0m\u001b[1;33m(\u001b[0m\u001b[0mreservoirs\u001b[0m\u001b[1;33m,\u001b[0m \u001b[1;34m'r'\u001b[0m\u001b[1;33m)\u001b[0m\u001b[1;33m\u001b[0m\u001b[1;33m\u001b[0m\u001b[0m\n\u001b[0m",
      "\u001b[1;32mnetCDF4\\_netCDF4.pyx\u001b[0m in \u001b[0;36mnetCDF4._netCDF4.Dataset.__init__\u001b[1;34m()\u001b[0m\n",
      "\u001b[1;32mnetCDF4\\_netCDF4.pyx\u001b[0m in \u001b[0;36mnetCDF4._netCDF4._ensure_nc_success\u001b[1;34m()\u001b[0m\n",
      "\u001b[1;31mFileNotFoundError\u001b[0m: [Errno 2] No such file or directory: b'/lakeResStorage_daily.nc'"
     ]
    }
   ],
   "source": [
    "nc = Dataset(reservoirs, 'r')"
   ]
  },
  {
   "cell_type": "code",
   "execution_count": null,
   "metadata": {},
   "outputs": [],
   "source": [
    "for i in nc.variables:\n",
    "    print(i, nc.variables[i].units, nc.variables[i].shape)"
   ]
  },
  {
   "cell_type": "code",
   "execution_count": null,
   "metadata": {},
   "outputs": [],
   "source": [
    "nc.variables['lon'].shape[0]"
   ]
  },
  {
   "cell_type": "code",
   "execution_count": null,
   "metadata": {},
   "outputs": [],
   "source": [
    "storage = nc.variables['lakeResStorage'][0,143,55]"
   ]
  },
  {
   "cell_type": "code",
   "execution_count": null,
   "metadata": {},
   "outputs": [],
   "source": [
    "storage"
   ]
  },
  {
   "cell_type": "code",
   "execution_count": null,
   "metadata": {},
   "outputs": [],
   "source": [
    "storage.mask"
   ]
  },
  {
   "cell_type": "code",
   "execution_count": null,
   "metadata": {},
   "outputs": [],
   "source": [
    "Storage = nc.variables['lakeResStorage'][1,:,:]"
   ]
  },
  {
   "cell_type": "code",
   "execution_count": null,
   "metadata": {},
   "outputs": [],
   "source": [
    "reservoirs = []\n",
    "\n",
    "for i in range(nc.variables['lat'].shape[0]):\n",
    "    for j in range (nc.variables['lon'].shape[0]):\n",
    "        if Storage[i,j] > 0:\n",
    "            \n",
    "            reservoirs.append([Storage[i,j], i, j])\n",
    "            print('storage '+str(reservoirs[-1][0])+', lat '+str(i)+', lon '+str(j))"
   ]
  },
  {
   "cell_type": "code",
   "execution_count": null,
   "metadata": {},
   "outputs": [],
   "source": [
    "reservoirs"
   ]
  },
  {
   "cell_type": "code",
   "execution_count": null,
   "metadata": {},
   "outputs": [],
   "source": [
    "endDay = 365*6\n",
    "Gunjvane= nc.variables['lakeResStorage'][0:endDay,143,55]\n",
    "NiraDevdhar= nc.variables['lakeResStorage'][0:endDay,168,66]\n",
    "Bhatghar = nc.variables['lakeResStorage'][0:endDay,159,84]\n",
    "Veer = nc.variables['lakeResStorage'][0:endDay,164,111]\n",
    "\n",
    "#Gunjvane= nc.variables['lakeResStorage'][:,143,55]\n",
    "#NiraDevdhar= nc.variables['lakeResStorage'][:,168,66]\n",
    "#Bhatghar = nc.variables['lakeResStorage'][:,159,84]\n",
    "#Veer = nc.variables['lakeResStorage'][:,164,111]\n",
    "\n",
    "Dams = [Gunjvane, NiraDevdhar, Bhatghar, Veer]\n",
    "Dam_names = ['Gunjvane', 'NiraDevdhar', 'Bhatghar', 'Veer']"
   ]
  },
  {
   "cell_type": "code",
   "execution_count": null,
   "metadata": {},
   "outputs": [],
   "source": [
    "fig = go.Figure()\n",
    "\n",
    "for i in range(len(Dams)):\n",
    "    fig.add_trace(go.Scatter(y=Dams[i],\n",
    "                    mode='lines',\n",
    "                    name=Dam_names[i]))\n",
    "\n",
    "\n",
    "fig.update_layout(title='Reservoir storage',\n",
    "                       xaxis_title='Days',\n",
    "                       yaxis_title='Storage (m3)')\n",
    "\n",
    "fig.show()"
   ]
  },
  {
   "cell_type": "code",
   "execution_count": null,
   "metadata": {},
   "outputs": [],
   "source": [
    "import matplotlib.pyplot as plt\n",
    "plt.plot(Gunjvane)\n",
    "plt.ylabel('Storage (m3)')\n",
    "plt.show()"
   ]
  },
  {
   "cell_type": "code",
   "execution_count": null,
   "metadata": {},
   "outputs": [],
   "source": [
    "import matplotlib.pyplot as plt\n",
    "plt.plot(NiraDevdhar)\n",
    "plt.ylabel('Storage (m3)')\n",
    "plt.show()"
   ]
  },
  {
   "cell_type": "code",
   "execution_count": null,
   "metadata": {},
   "outputs": [],
   "source": [
    "plt.plot(Bhatghar)\n",
    "plt.ylabel('Storage (m3)')\n",
    "plt.show()"
   ]
  },
  {
   "cell_type": "code",
   "execution_count": null,
   "metadata": {},
   "outputs": [],
   "source": [
    "plt.plot(Veer)\n",
    "plt.ylabel('Storage (m3)')\n",
    "plt.show()"
   ]
  },
  {
   "cell_type": "code",
   "execution_count": null,
   "metadata": {},
   "outputs": [],
   "source": [
    "adminSegments = \"E:\\\\output_CWatM_priv_personal\\\\adminSegments_daily.nc\"\n",
    "ETRef_segment = \"E:\\\\output_CWatM_priv_personal\\\\ETRef_segments_monthavg.nc\"\n",
    "Rain_segment = \"E:\\\\output_CWatM_priv_personal\\\\rain_segments_monthavg.nc\""
   ]
  },
  {
   "cell_type": "code",
   "execution_count": null,
   "metadata": {},
   "outputs": [],
   "source": [
    "nc_segments = Dataset(adminSegments, 'r')\n",
    "nc_etref = Dataset(ETRef_segment, 'r')\n",
    "nc_rain = Dataset(Rain_segment, 'r')"
   ]
  },
  {
   "cell_type": "code",
   "execution_count": null,
   "metadata": {
    "scrolled": true
   },
   "outputs": [],
   "source": [
    "for i in nc_segments.variables:\n",
    "    print(i, nc_segments.variables[i].units, nc_segments.variables[i].shape)\n",
    "    \n",
    "for i in nc_etref.variables:\n",
    "    print(i, nc_etref.variables[i].units, nc_etref.variables[i].shape)\n",
    "    \n",
    "for i in nc_rain.variables:\n",
    "    print(i, nc_rain.variables[i].units, nc_rain.variables[i].shape)"
   ]
  },
  {
   "cell_type": "code",
   "execution_count": null,
   "metadata": {},
   "outputs": [],
   "source": [
    "segments = nc_segments.variables['adminSegments'][0,:,:]\n",
    "etref = nc_etref.variables['ETRef_segments_monthavg'][:,:,:]\n",
    "rain = nc_rain.variables['rain_segments_monthavg'][:,:,:]\n"
   ]
  },
  {
   "cell_type": "code",
   "execution_count": null,
   "metadata": {},
   "outputs": [],
   "source": [
    "segment_reps = []\n",
    "Segment_reps = []\n",
    "\n",
    "for i in range(nc_segments.variables['lat'].shape[0]):\n",
    "    for j in range (nc_segments.variables['lon'].shape[0]):\n",
    "        if segments[i,j]>0 and segments[i,j] not in segment_reps:\n",
    "            segment_reps.append(segments[i,j])\n",
    "            Segment_reps.append([segments[i,j], i, j])\n",
    "            print('Segment '+str(Segment_reps[-1][0])+', lat '+str(i)+', lon '+str(j))"
   ]
  },
  {
   "cell_type": "code",
   "execution_count": null,
   "metadata": {},
   "outputs": [],
   "source": [
    "ETREF = []\n",
    "RAIN = []\n",
    "for seg in Segment_reps:\n",
    "    ETREF.append([seg[0]])\n",
    "    RAIN.append([seg[0]])\n",
    "    for t in range(nc_etref.variables['time'].shape[0]):\n",
    "        ETREF[-1].append(etref[t, seg[1], seg[2]])\n",
    "        RAIN[-1].append(rain[t, seg[1], seg[2]])"
   ]
  },
  {
   "cell_type": "code",
   "execution_count": null,
   "metadata": {},
   "outputs": [],
   "source": [
    "ETREF"
   ]
  },
  {
   "cell_type": "code",
   "execution_count": null,
   "metadata": {},
   "outputs": [],
   "source": [
    "for i in ETREF:\n",
    "    plt.plot(i[1:])\n",
    "plt.ylabel('Monthly Average Reference ET (m/day)')\n",
    "plt.show()"
   ]
  },
  {
   "cell_type": "code",
   "execution_count": null,
   "metadata": {},
   "outputs": [],
   "source": [
    "for i in RAIN:\n",
    "    plt.plot(i[1:])\n",
    "plt.ylabel('Monthly Average Rainfall (m/day)')\n",
    "plt.show()"
   ]
  },
  {
   "cell_type": "code",
   "execution_count": null,
   "metadata": {},
   "outputs": [],
   "source": []
  }
 ],
 "metadata": {
  "kernelspec": {
   "display_name": "Python 3",
   "language": "python",
   "name": "python3"
  },
  "language_info": {
   "codemirror_mode": {
    "name": "ipython",
    "version": 3
   },
   "file_extension": ".py",
   "mimetype": "text/x-python",
   "name": "python",
   "nbconvert_exporter": "python",
   "pygments_lexer": "ipython3",
   "version": "3.7.5"
  }
 },
 "nbformat": 4,
 "nbformat_minor": 2
}
