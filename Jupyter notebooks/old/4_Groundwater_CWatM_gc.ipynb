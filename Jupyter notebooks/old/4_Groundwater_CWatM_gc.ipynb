{
 "cells": [
  {
   "cell_type": "markdown",
   "metadata": {},
   "source": [
    "<img style=\"float: right;\" src=\"https://drive.google.com/uc?export=view&id=1qVA-sPHp5TY5D7enbU7mF4zZ8obu5wrC\" width=120 height=120 />\n",
    "\n",
    "# Groundwater\n",
    "\n",
    "Presenting simulation results related to groundwater, alongside observations when available. \n",
    "\n",
    "#### Update the paths below, if necessary\n",
    "\n",
    "### Groundwater depth\n",
    "\n",
    "CWatM is coupled with the subsurface model Modflow. \n",
    "\n",
    "Water flows into the subsurface through four processes:\n",
    "1. through the soil layer, \n",
    "2. through riverbeds, \n",
    "3. through preferential root paths, and \n",
    "4. through reservoir & canal leakage. \n",
    "\n",
    "Water flows out of the subsurface through three processes: \n",
    "1. pumping, \n",
    "2. baseflow into rivers, and \n",
    "3. capillarly rise into the soil."
   ]
  },
  {
   "cell_type": "code",
   "execution_count": 1,
   "metadata": {
    "extensions": {
     "jupyter_dashboards": {
      "version": 1,
      "views": {
       "grid_default": {},
       "report_default": {
        "hidden": false
       }
      }
     }
    }
   },
   "outputs": [
    {
     "name": "stdout",
     "output_type": "stream",
     "text": [
      "ModFlow resolution is :  500.0  meters\n"
     ]
    },
    {
     "name": "stderr",
     "output_type": "stream",
     "text": [
      "c:\\users\\mikha\\envs\\test\\lib\\site-packages\\ipykernel_launcher.py:53: RuntimeWarning: Mean of empty slice\n"
     ]
    }
   ],
   "source": [
    "## Importing paths\n",
    "# Where CWATM results are stored\n",
    "path_model_outputs = r'C:/CWatM_output_Examples/CWatM_output_09Sept_GabConductivity/' # r'D:/FUSE/4_Model/1/'         #r'C:/Users/user/Downloads/fuse_results/'\n",
    "# Where observed data are stored\n",
    "path_observed_data = r'C:/GitHub/FUSE/Data_forNotebooks/WaterTable/'\n",
    "# Where ModFlow inputs for the grid are stored\n",
    "Inputs_file_modflow = r'C:/GitHub/FUSE/Modflow/modflow_inputs/newModFlow_inputs500m_Bhima/'\n",
    "\n",
    "## Importing Python modules\n",
    "import numpy as np\n",
    "import xarray as xr\n",
    "from scipy.interpolate import griddata\n",
    "import xlrd, shutil\n",
    "from datetime import datetime\n",
    "import matplotlib.pyplot as plt\n",
    "import matplotlib.backends.backend_pdf\n",
    "\n",
    "plt.rcParams['figure.figsize'] = [14, 8.0]\n",
    "\n",
    "## Loading files containing basin grid information\n",
    "Size = np.loadtxt(Inputs_file_modflow + 'UB_limits.txt')\n",
    "res_ModFlow = (Size[1]-Size[0])/(Size[5]-1)  # in [m]\n",
    "print('ModFlow resolution is : ', res_ModFlow, ' meters')\n",
    "basin = np.loadtxt(Inputs_file_modflow + 'Basin_limits.txt')\n",
    "\n",
    "## Map dimensions\n",
    "ncol = int((Size[1]-Size[0])/res_ModFlow)+1 \n",
    "nrow = int(abs((Size[3]-Size[2])/res_ModFlow)+1)\n",
    "#FOR NIRA DEACTIVATE NEXT LINE\n",
    "nrow=566 #MS\n",
    "basin = basin.reshape(nrow,ncol)              # ModFlow format\n",
    "\n",
    "## Upload simulated maps from the netcdf files\n",
    "ds = xr.open_dataset(path_model_outputs + 'modflowWaterLevel_monthend.nc')\n",
    "GWTable_ModFlow = ds['modflowWaterLevel_monthend'][:].data # Array of water levels [m] (time, nrow, ncol)\n",
    "Time_ModFlow = ds['time'][:].data\n",
    "Time_ModFlowV2 = (Time_ModFlow - np.datetime64('1970-01-01T00:00:00')) / np.timedelta64(1, 's')\n",
    "Time_ModFlowV3 = np.zeros(len(Time_ModFlow))\n",
    "for it in range(len(Time_ModFlow)):\n",
    "    dd = datetime.utcfromtimestamp(Time_ModFlowV2[it])\n",
    "    Time_ModFlowV3[it] = dd.toordinal()\n",
    "ds.close()\n",
    "\n",
    "## Upload topography defined in ModFlow and soil thickness defined in CWATM\n",
    "ds = xr.open_dataset(path_model_outputs + 'modflowtotalSoilThickness_totalend.nc')\n",
    "Soil_thickness = ds['modflowtotalSoilThickness_totalend'][:].data \n",
    "ds.close()\n",
    "\n",
    "Top = np.loadtxt(Inputs_file_modflow + 'Topo.txt')\n",
    "Topography_ModFlow = Top.reshape(nrow,ncol) + Soil_thickness # We need to add soil thickness to compare WTD\n",
    "\n",
    "## Computing the mean map of simulated water table and water table depth\n",
    "MeanWaterTable = np.nanmean(GWTable_ModFlow,0)\n",
    "MeanWaterTableDepth = Topography_ModFlow - MeanWaterTable\n"
   ]
  },
  {
   "cell_type": "markdown",
   "metadata": {},
   "source": [
    "## Uploading observed water table and find the ModFlow coordinates of each borehole"
   ]
  },
  {
   "cell_type": "code",
   "execution_count": 2,
   "metadata": {
    "extensions": {
     "jupyter_dashboards": {
      "version": 1,
      "views": {
       "grid_default": {},
       "report_default": {
        "hidden": false
       }
      }
     }
    }
   },
   "outputs": [
    {
     "name": "stdout",
     "output_type": "stream",
     "text": [
      "Number of boreholes in the Bhima basin :  382\n",
      "Number of boreholes used for water table comparison in the selected basin :  335\n"
     ]
    }
   ],
   "source": [
    "## Upload observed water table depth\n",
    "Measured_watertabledepth = np.zeros((382,21)) # 2D array containing measured data: 382 boreholes for Bhima, 21 dates\n",
    "wb = xlrd.open_workbook(path_observed_data + \"UB_GW_DataProcessed.xls\")\n",
    "sh = wb.sheet_by_name(u'Sheet1')\n",
    "for il in range(np.shape(Measured_watertabledepth)[0]):\n",
    "    for ic in range(np.shape(Measured_watertabledepth)[1]):\n",
    "        val=sh.row_values(il+1)[ic]\n",
    "        if val == '':\n",
    "            Measured_watertabledepth[il][ic] = np.nan\n",
    "        else:\n",
    "            Measured_watertabledepth[il][ic] = val\n",
    "\n",
    "## Upload associated dates\n",
    "Measured_dates = np.zeros(np.shape(Measured_watertabledepth)[1])\n",
    "for ic in range(np.shape(Measured_watertabledepth)[1]):\n",
    "    Measured_dates[ic] = datetime(1900, 1, 1).toordinal() + int(sh.row_values(0)[ic]) - 2\n",
    "    \n",
    "## Upload coordinates, water table and topography of each borehole\n",
    "x_GW = np.loadtxt(path_observed_data + 'GW_level_x.txt')\n",
    "y_GW = np.loadtxt(path_observed_data + 'GW_level_y.txt')\n",
    "z_GW = np.loadtxt(path_observed_data + 'GW_level_z.txt')\n",
    "\n",
    "## List containing only boreholes in the basin and not too close from the basin limit (at least 1 cell)\n",
    "x_GW_bhima = np.zeros(np.shape(Measured_watertabledepth)[0])   # Boreholes out of the basin will be removed after            \n",
    "y_GW_bhima = np.zeros(np.shape(Measured_watertabledepth)[0]) \n",
    "z_GW_bhima = np.zeros(np.shape(Measured_watertabledepth)[0])\n",
    "wt_GW_bhima = np.zeros((np.shape(Measured_watertabledepth)[0],np.shape(Measured_watertabledepth)[1]))                 # Observed water table\n",
    "wtd_GW_bhima = np.zeros((np.shape(Measured_watertabledepth)[0],np.shape(Measured_watertabledepth)[1]))                # Observed water table depth\n",
    "Sim_wtd_GW_bhima = np.zeros((np.shape(Measured_watertabledepth)[0],np.shape(Measured_watertabledepth)[1]))            # Simulated water table\n",
    "Sim_wt_GW_bhima = np.zeros((np.shape(Measured_watertabledepth)[0],np.shape(Measured_watertabledepth)[1]))             # Simulated water table depth\n",
    "Sim_z_GW_bhima = np.zeros(np.shape(Measured_watertabledepth)[0])              # Altitude of the cell in the model (different from borehole information)\n",
    "\n",
    "## Preparing data for the linear interpolation inside the grid\n",
    "X = np.arange(0, ncol)\n",
    "Y = np.arange(0, nrow)\n",
    "X,Y = np.meshgrid(X,Y)\n",
    "points = np.array( (X.flatten(), Y.flatten()) ).T\n",
    "\n",
    "# We assume the period April 1997 to April 2007 is included in the model\n",
    "# For each date of observation, we look for the closer date of simulation\n",
    "Index_measured_date = np.zeros(len(Measured_dates))\n",
    "for it in range(len(Measured_dates)):\n",
    "    Index_measured_date[it] = np.argmin(np.abs(Time_ModFlowV3-Measured_dates[it])) # index corresponding to the closer date\n",
    "\n",
    "Index_measured_date2 = [Index_measured_date[0]]\n",
    "for i in range (1,len(Index_measured_date)):\n",
    "    if Index_measured_date[i]-Index_measured_date[i-1] == 5 or Index_measured_date[i]-Index_measured_date[i-1] == 7:\n",
    "        Index_measured_date2.append(Index_measured_date[i])\n",
    "Index_measured_date = np.array(Index_measured_date2)\n",
    "Measured_dates = Measured_dates[:len(Index_measured_date)]\n",
    "\n",
    "valuesWaterTable = np.zeros((np.shape(Measured_watertabledepth)[1], nrow*ncol))\n",
    "valuesWaterTableDepth = np.zeros((np.shape(Measured_watertabledepth)[1], nrow*ncol))\n",
    "\n",
    "for it in range(len(Measured_dates)): # For each measured time\n",
    "    PiezoMap = GWTable_ModFlow[int(Index_measured_date[it])]\n",
    "    PiezoDepthMap = Topography_ModFlow - GWTable_ModFlow[int(Index_measured_date[it])]\n",
    "    valuesWaterTable[it] = PiezoMap.flatten()           # Map of the simulated water table for each date of observation\n",
    "    valuesWaterTableDepth[it] = PiezoDepthMap.flatten() # Map of the simulated water table depth for each date of observation\n",
    "\n",
    "valuesTopography_ModFlow = Topography_ModFlow.flatten() # Map of the topography defined in ModFlow\n",
    "\n",
    "som=0\n",
    "for pz in range(len(x_GW)): # For each monitoring borehole\n",
    "\n",
    "    # Find the corresponding column and row where the borehole is located\n",
    "    colPz = int(round((x_GW[pz]-float(Size[0]))/res_ModFlow))\n",
    "    rowPz = int(round((float(Size[2])-y_GW[pz])/res_ModFlow))\n",
    "\n",
    "    if colPz>0 and rowPz>0 and colPz<ncol and rowPz<nrow:       # If the borehole is in the model\n",
    "        if basin[rowPz][colPz] == 1:         # If the borehole is in the basin\n",
    "\n",
    "            # Interpolating the simulated value as observation points are not in the cells center\n",
    "            X0 = (x_GW[pz]-float(Size[0]))/res_ModFlow\n",
    "            Y0 = (float(Size[2])-y_GW[pz])/res_ModFlow\n",
    "            \n",
    "            close_points = points[np.sqrt((points[:,0]-X0)**2+(points[:,1]-Y0)**2) < 15] # all points at distance < 4 cell units\n",
    "            # If the cell is not too close from an inactive cell (= too close from the basin limits)\n",
    "            if 0 not in basin[close_points[:,1],close_points[:,0]]:\n",
    "                som=som+1\n",
    "\n",
    "                x_GW_bhima[som-1] = x_GW[pz]\n",
    "                y_GW_bhima[som-1] = y_GW[pz]\n",
    "                z_GW_bhima[som-1] = z_GW[pz]\n",
    "                wtd_GW_bhima[som-1][:] = Measured_watertabledepth[pz]               # Each column corresponds to a specific date between April 1997 and April 2007\n",
    "                wt_GW_bhima[som-1][:] = z_GW[pz]-Measured_watertabledepth[pz]\n",
    "\n",
    "                # As interpolation seems to long for the Bhima, we create a new grid closer from the observation point\n",
    "                points2 = points[np.sqrt((points[:,0]-X0)**2+(points[:,1]-Y0)**2) < 2]\n",
    "                \n",
    "                # Interpolation\n",
    "                valuesTopography_ModFlow2 = valuesTopography_ModFlow[np.sqrt((points[:,0]-X0)**2+(points[:,1]-Y0)**2) < 2]\n",
    "                Val = griddata(points2, valuesTopography_ModFlow2, (X0,Y0), method='linear' )\n",
    "                Sim_z_GW_bhima[som-1] = Val\n",
    "\n",
    "                compt=0\n",
    "                for ii in range(len(Measured_dates)): # For each measured time\n",
    "\n",
    "                    valuesWaterTableDepth2 = valuesWaterTableDepth[ii][np.sqrt((points[:,0]-X0)**2+(points[:,1]-Y0)**2) < 2]\n",
    "                    valuesWaterTable2 = valuesWaterTable[ii][np.sqrt((points[:,0]-X0)**2+(points[:,1]-Y0)**2) < 2]\n",
    "                    Val = griddata(points2, valuesWaterTableDepth2, (X0,Y0), method='linear' )\n",
    "                    Sim_wtd_GW_bhima[som-1][compt] = Val\n",
    "                    Val = griddata(points2, valuesWaterTable2, (X0,Y0), method='linear' )\n",
    "                    Sim_wt_GW_bhima[som-1][compt] = Val\n",
    "                    compt+=1\n",
    "\n",
    "print('Number of boreholes in the Bhima basin : ', np.shape(Measured_watertabledepth)[0])            \n",
    "print('Number of boreholes used for water table comparison in the selected basin : ', som)\n",
    "\n",
    "## Keep only boreholes inside the basin and not too close from the basin limits\n",
    "x_GW_bhima = x_GW_bhima[:som]       \n",
    "y_GW_bhima = y_GW_bhima[:som] \n",
    "z_GW_bhima = z_GW_bhima[:som] \n",
    "wt_GW_bhima = wt_GW_bhima[:som] \n",
    "wtd_GW_bhima = wtd_GW_bhima[:som] \n",
    "Sim_wtd_GW_bhima = Sim_wtd_GW_bhima[:som] \n",
    "Sim_wt_GW_bhima = Sim_wt_GW_bhima[:som] \n",
    "Sim_z_GW_bhima = Sim_z_GW_bhima[:som]\n"
   ]
  },
  {
   "cell_type": "markdown",
   "metadata": {
    "extensions": {
     "jupyter_dashboards": {
      "version": 1,
      "views": {
       "grid_default": {},
       "report_default": {
        "hidden": true
       }
      }
     }
    }
   },
   "source": [
    "## Here I come"
   ]
  },
  {
   "cell_type": "code",
   "execution_count": 3,
   "metadata": {},
   "outputs": [
    {
     "ename": "ValueError",
     "evalue": "Shape of passed values is (335, 21), indices imply (335, 18)",
     "output_type": "error",
     "traceback": [
      "\u001b[1;31m---------------------------------------------------------------------------\u001b[0m",
      "\u001b[1;31mValueError\u001b[0m                                Traceback (most recent call last)",
      "\u001b[1;32mc:\\users\\mikha\\envs\\test\\lib\\site-packages\\pandas\\core\\internals\\managers.py\u001b[0m in \u001b[0;36mcreate_block_manager_from_blocks\u001b[1;34m(blocks, axes)\u001b[0m\n\u001b[0;32m   1653\u001b[0m                 blocks = [\n\u001b[1;32m-> 1654\u001b[1;33m                     \u001b[0mmake_block\u001b[0m\u001b[1;33m(\u001b[0m\u001b[0mvalues\u001b[0m\u001b[1;33m=\u001b[0m\u001b[0mblocks\u001b[0m\u001b[1;33m[\u001b[0m\u001b[1;36m0\u001b[0m\u001b[1;33m]\u001b[0m\u001b[1;33m,\u001b[0m \u001b[0mplacement\u001b[0m\u001b[1;33m=\u001b[0m\u001b[0mslice\u001b[0m\u001b[1;33m(\u001b[0m\u001b[1;36m0\u001b[0m\u001b[1;33m,\u001b[0m \u001b[0mlen\u001b[0m\u001b[1;33m(\u001b[0m\u001b[0maxes\u001b[0m\u001b[1;33m[\u001b[0m\u001b[1;36m0\u001b[0m\u001b[1;33m]\u001b[0m\u001b[1;33m)\u001b[0m\u001b[1;33m)\u001b[0m\u001b[1;33m)\u001b[0m\u001b[1;33m\u001b[0m\u001b[1;33m\u001b[0m\u001b[0m\n\u001b[0m\u001b[0;32m   1655\u001b[0m                 ]\n",
      "\u001b[1;32mc:\\users\\mikha\\envs\\test\\lib\\site-packages\\pandas\\core\\internals\\blocks.py\u001b[0m in \u001b[0;36mmake_block\u001b[1;34m(values, placement, klass, ndim, dtype)\u001b[0m\n\u001b[0;32m   3046\u001b[0m \u001b[1;33m\u001b[0m\u001b[0m\n\u001b[1;32m-> 3047\u001b[1;33m     \u001b[1;32mreturn\u001b[0m \u001b[0mklass\u001b[0m\u001b[1;33m(\u001b[0m\u001b[0mvalues\u001b[0m\u001b[1;33m,\u001b[0m \u001b[0mndim\u001b[0m\u001b[1;33m=\u001b[0m\u001b[0mndim\u001b[0m\u001b[1;33m,\u001b[0m \u001b[0mplacement\u001b[0m\u001b[1;33m=\u001b[0m\u001b[0mplacement\u001b[0m\u001b[1;33m)\u001b[0m\u001b[1;33m\u001b[0m\u001b[1;33m\u001b[0m\u001b[0m\n\u001b[0m\u001b[0;32m   3048\u001b[0m \u001b[1;33m\u001b[0m\u001b[0m\n",
      "\u001b[1;32mc:\\users\\mikha\\envs\\test\\lib\\site-packages\\pandas\\core\\internals\\blocks.py\u001b[0m in \u001b[0;36m__init__\u001b[1;34m(self, values, placement, ndim)\u001b[0m\n\u001b[0;32m    124\u001b[0m             raise ValueError(\n\u001b[1;32m--> 125\u001b[1;33m                 \u001b[1;34mf\"Wrong number of items passed {len(self.values)}, \"\u001b[0m\u001b[1;33m\u001b[0m\u001b[1;33m\u001b[0m\u001b[0m\n\u001b[0m\u001b[0;32m    126\u001b[0m                 \u001b[1;34mf\"placement implies {len(self.mgr_locs)}\"\u001b[0m\u001b[1;33m\u001b[0m\u001b[1;33m\u001b[0m\u001b[0m\n",
      "\u001b[1;31mValueError\u001b[0m: Wrong number of items passed 21, placement implies 18",
      "\nDuring handling of the above exception, another exception occurred:\n",
      "\u001b[1;31mValueError\u001b[0m                                Traceback (most recent call last)",
      "\u001b[1;32m<ipython-input-3-bd8d74c63924>\u001b[0m in \u001b[0;36m<module>\u001b[1;34m\u001b[0m\n\u001b[0;32m     10\u001b[0m \u001b[1;31m## Results arrays to dataframes ........................................\u001b[0m\u001b[1;33m\u001b[0m\u001b[1;33m\u001b[0m\u001b[1;33m\u001b[0m\u001b[0m\n\u001b[0;32m     11\u001b[0m \u001b[1;32mfor\u001b[0m \u001b[0mi\u001b[0m \u001b[1;32min\u001b[0m \u001b[0mrange\u001b[0m\u001b[1;33m(\u001b[0m\u001b[0mlen\u001b[0m\u001b[1;33m(\u001b[0m\u001b[0mdf_ids\u001b[0m\u001b[1;33m)\u001b[0m\u001b[1;33m)\u001b[0m\u001b[1;33m:\u001b[0m\u001b[1;33m\u001b[0m\u001b[1;33m\u001b[0m\u001b[0m\n\u001b[1;32m---> 12\u001b[1;33m     \u001b[0mglobals\u001b[0m\u001b[1;33m(\u001b[0m\u001b[1;33m)\u001b[0m\u001b[1;33m[\u001b[0m\u001b[1;34m'df_'\u001b[0m\u001b[1;33m+\u001b[0m\u001b[0mdf_ids\u001b[0m\u001b[1;33m[\u001b[0m\u001b[0mi\u001b[0m\u001b[1;33m]\u001b[0m\u001b[1;33m]\u001b[0m \u001b[1;33m=\u001b[0m \u001b[0mpandas\u001b[0m\u001b[1;33m.\u001b[0m\u001b[0mDataFrame\u001b[0m\u001b[1;33m(\u001b[0m\u001b[0mresults_arrays\u001b[0m\u001b[1;33m[\u001b[0m\u001b[0mi\u001b[0m\u001b[1;33m]\u001b[0m\u001b[1;33m,\u001b[0m\u001b[0mcolumns\u001b[0m\u001b[1;33m=\u001b[0m\u001b[0mMeasured_dates\u001b[0m\u001b[1;33m)\u001b[0m\u001b[1;33m\u001b[0m\u001b[1;33m\u001b[0m\u001b[0m\n\u001b[0m\u001b[0;32m     13\u001b[0m     \u001b[0mglobals\u001b[0m\u001b[1;33m(\u001b[0m\u001b[1;33m)\u001b[0m\u001b[1;33m[\u001b[0m\u001b[1;34m'df_'\u001b[0m\u001b[1;33m+\u001b[0m\u001b[0mdf_ids\u001b[0m\u001b[1;33m[\u001b[0m\u001b[0mi\u001b[0m\u001b[1;33m]\u001b[0m\u001b[1;33m]\u001b[0m\u001b[1;33m.\u001b[0m\u001b[0minsert\u001b[0m\u001b[1;33m(\u001b[0m\u001b[0mloc\u001b[0m\u001b[1;33m=\u001b[0m\u001b[1;36m0\u001b[0m\u001b[1;33m,\u001b[0m \u001b[0mcolumn\u001b[0m\u001b[1;33m=\u001b[0m\u001b[1;34m'Easting'\u001b[0m\u001b[1;33m,\u001b[0m \u001b[0mvalue\u001b[0m\u001b[1;33m=\u001b[0m\u001b[0mx_GW_bhima\u001b[0m\u001b[1;33m)\u001b[0m\u001b[1;33m\u001b[0m\u001b[1;33m\u001b[0m\u001b[0m\n\u001b[0;32m     14\u001b[0m     \u001b[0mglobals\u001b[0m\u001b[1;33m(\u001b[0m\u001b[1;33m)\u001b[0m\u001b[1;33m[\u001b[0m\u001b[1;34m'df_'\u001b[0m\u001b[1;33m+\u001b[0m\u001b[0mdf_ids\u001b[0m\u001b[1;33m[\u001b[0m\u001b[0mi\u001b[0m\u001b[1;33m]\u001b[0m\u001b[1;33m]\u001b[0m\u001b[1;33m.\u001b[0m\u001b[0minsert\u001b[0m\u001b[1;33m(\u001b[0m\u001b[0mloc\u001b[0m\u001b[1;33m=\u001b[0m\u001b[1;36m1\u001b[0m\u001b[1;33m,\u001b[0m \u001b[0mcolumn\u001b[0m\u001b[1;33m=\u001b[0m\u001b[1;34m'Northing'\u001b[0m\u001b[1;33m,\u001b[0m \u001b[0mvalue\u001b[0m\u001b[1;33m=\u001b[0m\u001b[0my_GW_bhima\u001b[0m\u001b[1;33m)\u001b[0m\u001b[1;33m\u001b[0m\u001b[1;33m\u001b[0m\u001b[0m\n",
      "\u001b[1;32mc:\\users\\mikha\\envs\\test\\lib\\site-packages\\pandas\\core\\frame.py\u001b[0m in \u001b[0;36m__init__\u001b[1;34m(self, data, index, columns, dtype, copy)\u001b[0m\n\u001b[0;32m    462\u001b[0m                 \u001b[0mmgr\u001b[0m \u001b[1;33m=\u001b[0m \u001b[0minit_dict\u001b[0m\u001b[1;33m(\u001b[0m\u001b[1;33m{\u001b[0m\u001b[0mdata\u001b[0m\u001b[1;33m.\u001b[0m\u001b[0mname\u001b[0m\u001b[1;33m:\u001b[0m \u001b[0mdata\u001b[0m\u001b[1;33m}\u001b[0m\u001b[1;33m,\u001b[0m \u001b[0mindex\u001b[0m\u001b[1;33m,\u001b[0m \u001b[0mcolumns\u001b[0m\u001b[1;33m,\u001b[0m \u001b[0mdtype\u001b[0m\u001b[1;33m=\u001b[0m\u001b[0mdtype\u001b[0m\u001b[1;33m)\u001b[0m\u001b[1;33m\u001b[0m\u001b[1;33m\u001b[0m\u001b[0m\n\u001b[0;32m    463\u001b[0m             \u001b[1;32melse\u001b[0m\u001b[1;33m:\u001b[0m\u001b[1;33m\u001b[0m\u001b[1;33m\u001b[0m\u001b[0m\n\u001b[1;32m--> 464\u001b[1;33m                 \u001b[0mmgr\u001b[0m \u001b[1;33m=\u001b[0m \u001b[0minit_ndarray\u001b[0m\u001b[1;33m(\u001b[0m\u001b[0mdata\u001b[0m\u001b[1;33m,\u001b[0m \u001b[0mindex\u001b[0m\u001b[1;33m,\u001b[0m \u001b[0mcolumns\u001b[0m\u001b[1;33m,\u001b[0m \u001b[0mdtype\u001b[0m\u001b[1;33m=\u001b[0m\u001b[0mdtype\u001b[0m\u001b[1;33m,\u001b[0m \u001b[0mcopy\u001b[0m\u001b[1;33m=\u001b[0m\u001b[0mcopy\u001b[0m\u001b[1;33m)\u001b[0m\u001b[1;33m\u001b[0m\u001b[1;33m\u001b[0m\u001b[0m\n\u001b[0m\u001b[0;32m    465\u001b[0m \u001b[1;33m\u001b[0m\u001b[0m\n\u001b[0;32m    466\u001b[0m         \u001b[1;31m# For data is list-like, or Iterable (will consume into list)\u001b[0m\u001b[1;33m\u001b[0m\u001b[1;33m\u001b[0m\u001b[1;33m\u001b[0m\u001b[0m\n",
      "\u001b[1;32mc:\\users\\mikha\\envs\\test\\lib\\site-packages\\pandas\\core\\internals\\construction.py\u001b[0m in \u001b[0;36minit_ndarray\u001b[1;34m(values, index, columns, dtype, copy)\u001b[0m\n\u001b[0;32m    208\u001b[0m         \u001b[0mblock_values\u001b[0m \u001b[1;33m=\u001b[0m \u001b[1;33m[\u001b[0m\u001b[0mvalues\u001b[0m\u001b[1;33m]\u001b[0m\u001b[1;33m\u001b[0m\u001b[1;33m\u001b[0m\u001b[0m\n\u001b[0;32m    209\u001b[0m \u001b[1;33m\u001b[0m\u001b[0m\n\u001b[1;32m--> 210\u001b[1;33m     \u001b[1;32mreturn\u001b[0m \u001b[0mcreate_block_manager_from_blocks\u001b[0m\u001b[1;33m(\u001b[0m\u001b[0mblock_values\u001b[0m\u001b[1;33m,\u001b[0m \u001b[1;33m[\u001b[0m\u001b[0mcolumns\u001b[0m\u001b[1;33m,\u001b[0m \u001b[0mindex\u001b[0m\u001b[1;33m]\u001b[0m\u001b[1;33m)\u001b[0m\u001b[1;33m\u001b[0m\u001b[1;33m\u001b[0m\u001b[0m\n\u001b[0m\u001b[0;32m    211\u001b[0m \u001b[1;33m\u001b[0m\u001b[0m\n\u001b[0;32m    212\u001b[0m \u001b[1;33m\u001b[0m\u001b[0m\n",
      "\u001b[1;32mc:\\users\\mikha\\envs\\test\\lib\\site-packages\\pandas\\core\\internals\\managers.py\u001b[0m in \u001b[0;36mcreate_block_manager_from_blocks\u001b[1;34m(blocks, axes)\u001b[0m\n\u001b[0;32m   1662\u001b[0m         \u001b[0mblocks\u001b[0m \u001b[1;33m=\u001b[0m \u001b[1;33m[\u001b[0m\u001b[0mgetattr\u001b[0m\u001b[1;33m(\u001b[0m\u001b[0mb\u001b[0m\u001b[1;33m,\u001b[0m \u001b[1;34m\"values\"\u001b[0m\u001b[1;33m,\u001b[0m \u001b[0mb\u001b[0m\u001b[1;33m)\u001b[0m \u001b[1;32mfor\u001b[0m \u001b[0mb\u001b[0m \u001b[1;32min\u001b[0m \u001b[0mblocks\u001b[0m\u001b[1;33m]\u001b[0m\u001b[1;33m\u001b[0m\u001b[1;33m\u001b[0m\u001b[0m\n\u001b[0;32m   1663\u001b[0m         \u001b[0mtot_items\u001b[0m \u001b[1;33m=\u001b[0m \u001b[0msum\u001b[0m\u001b[1;33m(\u001b[0m\u001b[0mb\u001b[0m\u001b[1;33m.\u001b[0m\u001b[0mshape\u001b[0m\u001b[1;33m[\u001b[0m\u001b[1;36m0\u001b[0m\u001b[1;33m]\u001b[0m \u001b[1;32mfor\u001b[0m \u001b[0mb\u001b[0m \u001b[1;32min\u001b[0m \u001b[0mblocks\u001b[0m\u001b[1;33m)\u001b[0m\u001b[1;33m\u001b[0m\u001b[1;33m\u001b[0m\u001b[0m\n\u001b[1;32m-> 1664\u001b[1;33m         \u001b[0mconstruction_error\u001b[0m\u001b[1;33m(\u001b[0m\u001b[0mtot_items\u001b[0m\u001b[1;33m,\u001b[0m \u001b[0mblocks\u001b[0m\u001b[1;33m[\u001b[0m\u001b[1;36m0\u001b[0m\u001b[1;33m]\u001b[0m\u001b[1;33m.\u001b[0m\u001b[0mshape\u001b[0m\u001b[1;33m[\u001b[0m\u001b[1;36m1\u001b[0m\u001b[1;33m:\u001b[0m\u001b[1;33m]\u001b[0m\u001b[1;33m,\u001b[0m \u001b[0maxes\u001b[0m\u001b[1;33m,\u001b[0m \u001b[0me\u001b[0m\u001b[1;33m)\u001b[0m\u001b[1;33m\u001b[0m\u001b[1;33m\u001b[0m\u001b[0m\n\u001b[0m\u001b[0;32m   1665\u001b[0m \u001b[1;33m\u001b[0m\u001b[0m\n\u001b[0;32m   1666\u001b[0m \u001b[1;33m\u001b[0m\u001b[0m\n",
      "\u001b[1;32mc:\\users\\mikha\\envs\\test\\lib\\site-packages\\pandas\\core\\internals\\managers.py\u001b[0m in \u001b[0;36mconstruction_error\u001b[1;34m(tot_items, block_shape, axes, e)\u001b[0m\n\u001b[0;32m   1692\u001b[0m     \u001b[1;32mif\u001b[0m \u001b[0mblock_shape\u001b[0m\u001b[1;33m[\u001b[0m\u001b[1;36m0\u001b[0m\u001b[1;33m]\u001b[0m \u001b[1;33m==\u001b[0m \u001b[1;36m0\u001b[0m\u001b[1;33m:\u001b[0m\u001b[1;33m\u001b[0m\u001b[1;33m\u001b[0m\u001b[0m\n\u001b[0;32m   1693\u001b[0m         \u001b[1;32mraise\u001b[0m \u001b[0mValueError\u001b[0m\u001b[1;33m(\u001b[0m\u001b[1;34m\"Empty data passed with indices specified.\"\u001b[0m\u001b[1;33m)\u001b[0m\u001b[1;33m\u001b[0m\u001b[1;33m\u001b[0m\u001b[0m\n\u001b[1;32m-> 1694\u001b[1;33m     \u001b[1;32mraise\u001b[0m \u001b[0mValueError\u001b[0m\u001b[1;33m(\u001b[0m\u001b[1;34mf\"Shape of passed values is {passed}, indices imply {implied}\"\u001b[0m\u001b[1;33m)\u001b[0m\u001b[1;33m\u001b[0m\u001b[1;33m\u001b[0m\u001b[0m\n\u001b[0m\u001b[0;32m   1695\u001b[0m \u001b[1;33m\u001b[0m\u001b[0m\n\u001b[0;32m   1696\u001b[0m \u001b[1;33m\u001b[0m\u001b[0m\n",
      "\u001b[1;31mValueError\u001b[0m: Shape of passed values is (335, 21), indices imply (335, 18)"
     ]
    }
   ],
   "source": [
    "# Importing modules ..................................................................................\n",
    "import pandas\n",
    "\n",
    "# Procesing ......................................................................................\n",
    "## Creating dataframes .................................................\n",
    "results_arrays = [wt_GW_bhima, wtd_GW_bhima, Sim_wt_GW_bhima, Sim_wtd_GW_bhima]\n",
    "df_ids = ['wt_obs', 'wtd_obs', 'wt_sim', 'wtd_sim']\n",
    "df_stats, df_ave_stats, nrmse = pandas.DataFrame([]), pandas.DataFrame([1]), []\n",
    "\n",
    "## Results arrays to dataframes ........................................\n",
    "for i in range(len(df_ids)):\n",
    "    globals()['df_'+df_ids[i]] = pandas.DataFrame(results_arrays[i],columns=Measured_dates)\n",
    "    globals()['df_'+df_ids[i]].insert(loc=0, column='Easting', value=x_GW_bhima)\n",
    "    globals()['df_'+df_ids[i]].insert(loc=1, column='Northing', value=y_GW_bhima)\n",
    "    globals()['df_'+df_ids[i]].insert(loc=2, column='Altitude', value=Sim_z_GW_bhima)\n",
    "    \n",
    "## Transient statistics per borehole ...................................\n",
    "### Mean\n",
    "    df_stats.insert(loc=i, column='MEAN_'+df_ids[i], value=globals()['df_'+df_ids[i]].iloc[:,3:].mean(axis=1, skipna=True))\n",
    "### Normalized Root Mean Squared Error\n",
    "for i in range(int(len(df_ids)/2)):\n",
    "    nrmse = [np.sqrt(np.nansum(((globals()['df_'+df_ids[i]].iloc[j,3:]-np.nanmean(globals()['df_'+df_ids[i]].iloc[j,3:]))-(globals()['df_'+df_ids[i+2]].iloc[j,3:]-np.nanmean(globals()['df_'+df_ids[i+2]].iloc[j,3:])))**2) / np.count_nonzero(~np.isnan(globals()['df_'+df_ids[i]].iloc[j,3:]))) / np.nanstd(globals()['df_'+df_ids[i]].iloc[j,3:]) for j in range(len(df_wt_obs))]\n",
    "    df_stats.insert(loc=np.shape(df_stats)[1], column='NRMSE_'+df_ids[i][:-4], value=nrmse)\n",
    "### Normalize water table depth difference\n",
    "n_dif = (df_stats.MEAN_wtd_obs - df_stats.MEAN_wtd_sim) / df_stats.MEAN_wtd_obs*100\n",
    "df_stats.insert(loc=np.shape(df_stats)[1], column='NDIFF_'+df_ids[i][:-4], value=n_dif)\n",
    "\n",
    "## Average statistics summary table ....................................\n",
    "for i in range(int(len(df_ids)/2)):\n",
    "    pearson = np.corrcoef(df_stats.iloc[:,i],df_stats.iloc[:,i+2])[0][1]\n",
    "    rmse = np.sqrt(np.sum((df_stats.iloc[:,i] - df_stats.iloc[:,i+2])**2) / len(df_stats.iloc[:,i]))\n",
    "    nrmse = rmse / np.nanstd(df_stats.iloc[:,i])\n",
    "    df_ave_stats.insert(loc=np.shape(df_ave_stats)[1], column='Pearson_'+df_ids[i][:-4], value=pearson)\n",
    "    df_ave_stats.insert(loc=np.shape(df_ave_stats)[1], column='RMSE_'+df_ids[i][:-4], value=rmse)\n",
    "    df_ave_stats.insert(loc=np.shape(df_ave_stats)[1], column='NRMSE_'+df_ids[i][:-4], value=nrmse)\n",
    "n_dif_ave = np.nanmean(np.abs(df_stats.MEAN_wtd_obs - df_stats.MEAN_wtd_sim) / df_stats.MEAN_wtd_obs*100) * (np.nanmean(n_dif)/np.abs(np.nanmean(n_dif)))\n",
    "df_ave_stats.insert(loc=np.shape(df_ave_stats)[1], column='NDIFF_'+df_ids[i][:-4], value=n_dif_ave)\n",
    "df_ave_stats.drop([0], axis=1, inplace=True)\n",
    "\n",
    "print('Dataframes successfully created!')"
   ]
  },
  {
   "cell_type": "code",
   "execution_count": null,
   "metadata": {
    "scrolled": false
   },
   "outputs": [],
   "source": [
    "# Plotting .......................................................................................\n",
    "'''Same plots as in the original notebook... but with pandas'''\n",
    "borehole = 1  # [1 - 335] Choose a borehole ID if you want to evaluate measured-simulated water tables\n",
    "\n",
    "## Plot the water balance trend in Groundwater:\n",
    "fig100 = plt.figure()\n",
    "plt.plot_date(Time_ModFlowV3, np.nanmean(np.nanmean(Topography_ModFlow - GWTable_ModFlow,1),1), linestyle='solid', marker=None, linewidth=2)\n",
    "label = ' Minimum mean water table depth [m] : ' + str(round(np.nanmin(MeanWaterTableDepth)*100)/100) + '\\n Maximum mean water table depth [m] : ' + str(round(np.nanmax(MeanWaterTableDepth)*100)/100) \n",
    "plt.text(Time_ModFlowV3.min(), np.nanmean(np.nanmean(Topography_ModFlow - GWTable_ModFlow,1),1).min(), label, fontsize=15, bbox=dict(facecolor='white', alpha=0.5), linespacing=2)\n",
    "plt.ylabel('Basin-scale average water table depth trend [m]', fontsize=15)\n",
    "plt.xlabel('Time [Monthly]', fontsize=15)\n",
    "plt.xticks(fontsize=14), plt.yticks(fontsize=14), plt.grid()\n",
    "\n",
    "## Plot time-averaged results for water table comparison ...............\n",
    "fig101 = plt.figure()\n",
    "plt.plot([df_stats.MEAN_wt_obs.min(),df_stats.MEAN_wt_obs.max()],[df_stats.MEAN_wt_obs.min(),df_stats.MEAN_wt_obs.max()], linestyle='solid', linewidth=2, marker=None)\n",
    "plt.plot(df_stats.MEAN_wt_obs, df_stats.MEAN_wt_sim, marker='o', markersize=10, color='r', linestyle='')\n",
    "# label = ' Pearson correlation coefficient : ' + str(round(df_ave_stats.iloc[0,0]*100)/100) + '\\n RMSE [m] : ' + str(round(df_ave_stats.iloc[0,1]*100)/100) + '\\n Normalized RMSE: ' + str(round(df_ave_stats.iloc[0,2]*100)/100) \n",
    "# plt.text(df_stats.MEAN_wt_obs.min(), df_stats.MEAN_wt_sim.max()-50, label, fontsize=15, bbox=dict(facecolor='white', alpha=0.5), linespacing=2)\n",
    "plt.xlabel('Measured Mean Water Table [m]', fontsize=16)\n",
    "plt.ylabel('Simulated Mean Water Table [m]', fontsize= 16)\n",
    "plt.grid(), plt.xticks(fontsize=14), plt.yticks(fontsize=14)\n",
    "plt.show()\n",
    "\n",
    "## Plot time-averaged results for water table depth comparison .........\n",
    "fig102 = plt.figure()\n",
    "plt.plot([df_stats.MEAN_wtd_obs.min(),df_stats.MEAN_wtd_obs.max()],[df_stats.MEAN_wtd_obs.min(),df_stats.MEAN_wtd_obs.max()], linestyle='solid', linewidth=2, marker=None)\n",
    "plt.plot(df_stats.MEAN_wtd_obs, df_stats.MEAN_wtd_sim, marker='o', markersize=10, color='r', linestyle='')\n",
    "# label = 'Pearson correlation coefficient : ' + str(round(df_ave_stats.iloc[0,3]*100)/100) + '\\n RMSE [m] : ' + str(round(df_ave_stats.iloc[0,4]*100)/100) + '\\n Normalized RMSE: ' + str(round(df_ave_stats.iloc[0,5]*100)/100) + '\\n Mean difference [%] : ' + str(round(df_ave_stats.iloc[0,6]*100)/100) \n",
    "# plt.text(df_stats.MEAN_wtd_obs.min(), df_stats.MEAN_wtd_sim.max()-25, label, fontsize=15, bbox=dict(facecolor='white', alpha=0.5), linespacing=2)\n",
    "plt.xlabel('Measured time-averaged water table depth [m]', fontsize= 16)\n",
    "plt.ylabel('Simulated time-averaged water table depth [m]', fontsize= 16)\n",
    "plt.grid(), plt.xticks(fontsize=14), plt.yticks(fontsize=14)\n",
    "plt.show()\n",
    "\n",
    "## Plotting timeseries .................................................\n",
    "plt.figure()\n",
    "plt.plot_date(df_wt_obs.columns[3:], df_wt_obs.iloc[borehole-1][3:], label='Observed water table fluctuations [m]', linestyle='solid', marker=None, linewidth=2, color='k')\n",
    "plt.plot_date(df_wt_sim.columns[3:], df_wt_sim.iloc[borehole-1][3:], label='Simulated water table fluctuations [m]', linestyle='solid', marker=None, linewidth=2, color='r')\n",
    "plt.grid(), plt.legend(fontsize=15), plt.xticks(fontsize=14), plt.yticks(fontsize=14)\n",
    "plt.xlabel('Time [monthly]', fontsize=14)\n",
    "plt.ylabel('Water Table fluctuations (average across all boreholes) [m]', fontsize=14)\n",
    "plt.show()\n"
   ]
  },
  {
   "cell_type": "code",
   "execution_count": null,
   "metadata": {
    "scrolled": false
   },
   "outputs": [],
   "source": [
    "# Further analysis: depending on time ............................................................\n",
    "## Residual analysis ...................................................\n",
    "'''Shows a graph with the residuals based o nthe average values per borehole'''\n",
    "residual_wt  = -df_stats.MEAN_wt_obs + df_stats.MEAN_wt_sim\n",
    "residual_wtd = df_stats.MEAN_wtd_obs - df_stats.MEAN_wtd_sim\n",
    "\n",
    "fig103 = plt.figure(figsize=(10,5))\n",
    "plt.plot(residual_wt, label='Water tables residuals', linestyle='solid', linewidth=2)\n",
    "plt.plot(residual_wtd, label='Water table depths residuals', linestyle='solid', linewidth=1.5)\n",
    "plt.xlabel('Boreholes', fontsize=12)\n",
    "plt.ylabel('Residual water levels [m]', fontsize= 12)\n",
    "plt.grid(), plt.legend(fontsize=12), plt.xticks(fontsize=12), plt.yticks(fontsize=12)\n",
    "plt.show()\n",
    "\n",
    "## Plotting results for water table depth comparison ...................\n",
    "plt.figure(figsize=(10,5))\n",
    "plt.plot([df_wtd_obs.iloc[:,3:].min().min(),df_wtd_obs.iloc[:,3:].max().max()],[df_wtd_obs.iloc[:,3:].min().min(),df_wtd_obs.iloc[:,3:].max().max()], linestyle='solid', linewidth=2, marker=None)\n",
    "for i in range (np.shape(df_wtd_obs)[1]-3):\n",
    "    plt.plot(df_wtd_obs.iloc[:,i+3], df_wtd_sim.iloc[:,i+3], label=datetime.date(datetime.fromordinal(int(df_wtd_obs.columns[i+3]))), marker='o', markersize=5, linestyle='')\n",
    "plt.xlabel('Measured water table depth [m]', fontsize= 12)\n",
    "plt.ylabel('Simulated water table depth [m]', fontsize= 12)\n",
    "plt.grid(), plt.legend(fontsize=8), plt.xticks(fontsize=12), plt.yticks(fontsize=12)\n",
    "plt.show()\n",
    "\n",
    "## Plotting results for water table depth comparison per date ..........\n",
    "'''Shows the measured-simulated graph per recorded date'''\n",
    "for i in range (np.shape(df_wtd_obs)[1]-3):\n",
    "    plt.figure(figsize=(10,3))\n",
    "    plt.plot([df_wtd_obs.iloc[:,i+3].min(),df_wtd_obs.iloc[:,i+3].max()],[df_wtd_obs.iloc[:,i+3].min(),df_wtd_obs.iloc[:,i+3].max()], linestyle='solid', linewidth=2, marker=None)\n",
    "    plt.plot(df_wtd_obs.iloc[:,i+3], df_wtd_sim.iloc[:,i+3], label=datetime.date(datetime.fromordinal(int(df_wtd_obs.columns[i+3]))), marker='o', markersize=5, linestyle='')\n",
    "    plt.xlabel('Measured water table depth [m]', fontsize= 10)\n",
    "    plt.ylabel('Simulated water table depth [m]', fontsize= 10)\n",
    "    plt.grid(), plt.legend(fontsize=10), plt.xticks(fontsize=10), plt.yticks(fontsize=10)\n",
    "    plt.show()"
   ]
  },
  {
   "cell_type": "code",
   "execution_count": null,
   "metadata": {},
   "outputs": [],
   "source": [
    "# Further analysis: depending on borehole's altitude .............................................\n",
    "'''Only specify the number of altitude intervals'''\n",
    "steps = 4\n",
    "\n",
    "perc = df_wtd_obs.drop(columns=df_wtd_obs.columns)\n",
    "for i in range (steps):\n",
    "    if i==0: perc.loc[df_wtd_obs.Altitude < df_wtd_obs.Altitude.quantile((i+1)/steps), 'perc'] = i+1\n",
    "    elif i==steps-1: perc.loc[df_wtd_obs.Altitude > df_wtd_obs.Altitude.quantile(i/steps), 'perc'] = i+1\n",
    "    else: perc.loc[(df_wtd_obs.Altitude > df_wtd_obs.Altitude.quantile(i/steps)) & (df_wtd_obs.Altitude < df_wtd_obs.Altitude.quantile((i+1)/steps)), 'perc'] = i+1\n",
    "\n",
    "## Plotting results for water table depth comparison ...................\n",
    "plt.figure(figsize=(10,5))\n",
    "plt.plot([df_stats.MEAN_wtd_obs.min(),df_stats.MEAN_wtd_obs.max()],[df_stats.MEAN_wtd_obs.min(),df_stats.MEAN_wtd_obs.max()], linestyle='solid', linewidth=2, marker=None)\n",
    "for i in range (steps):\n",
    "    plt.plot(df_stats.MEAN_wtd_obs.loc[perc.perc==i+1], df_stats.MEAN_wtd_sim.loc[perc.perc==i+1], label='> '+str(int(df_wtd_obs.Altitude.quantile(i/steps)))+' m', marker='o', markersize=5, linestyle='')\n",
    "plt.xlabel('Measured time-averaged water table depth [m]', fontsize= 12)\n",
    "plt.ylabel('Simulated time-averaged water table depth [m]', fontsize= 12)\n",
    "plt.grid(), plt.legend(fontsize=8), plt.xticks(fontsize=12), plt.yticks(fontsize=12)\n",
    "plt.show()\n",
    "\n",
    "## Plotting results for water table depth comparison ...................\n",
    "for i in range (steps):\n",
    "    plt.figure(figsize=(10,2))\n",
    "    plt.plot([df_stats.MEAN_wtd_obs.min(),df_stats.MEAN_wtd_obs.max()],[df_stats.MEAN_wtd_obs.min(),df_stats.MEAN_wtd_obs.max()], linestyle='solid', linewidth=2, marker=None)\n",
    "    plt.plot(df_stats.MEAN_wtd_obs.loc[perc.perc==i+1], df_stats.MEAN_wtd_sim.loc[perc.perc==i+1], label='> '+str(int(df_wtd_obs.Altitude.quantile(i/steps)))+' m', marker='o', markersize=5, linestyle='')\n",
    "    plt.xlabel('Measured water table depth [m]', fontsize= 10)\n",
    "    plt.ylabel('Simulated water table depth [m]', fontsize= 10)\n",
    "    plt.grid(), plt.legend(fontsize=10), plt.xticks(fontsize=10), plt.yticks(fontsize=10)\n",
    "    plt.show()"
   ]
  },
  {
   "cell_type": "code",
   "execution_count": null,
   "metadata": {},
   "outputs": [],
   "source": [
    "# Further analysis: spatial variation ............................................................\n",
    "extent = (float(Size[0])-res_ModFlow/2, float(Size[1])+res_ModFlow/2, float(Size[2])+res_ModFlow/2, float(Size[3])-res_ModFlow/2)\n",
    "Topo = np.copy(Topography_ModFlow)\n",
    "Topo[np.isnan(MeanWaterTable)] = np.nan\n",
    "\n",
    "## Plotting spatial discrepancy in water table depth ...................\n",
    "fig104 = plt.figure()\n",
    "plt.imshow(Topo, cmap='copper', alpha=0.7, extent=extent, origin='lower')\n",
    "plt.gca().invert_yaxis()\n",
    "plt.title('Mean Water Table Depth Comparison at several boreholes', fontsize=12)\n",
    "plt.xticks(fontsize=12), plt.yticks(fontsize=12)\n",
    "plt.scatter(df_wtd_obs.Easting, df_wtd_obs.Northing, c=df_stats.NDIFF_wtd, s=50)\n",
    "cb = plt.colorbar()\n",
    "cb.ax.tick_params(labelsize=12)\n",
    "cb.set_label('Water Table Depth Difference [%]\\n(<0 if too deep)', fontsize=12)"
   ]
  },
  {
   "cell_type": "code",
   "execution_count": null,
   "metadata": {},
   "outputs": [],
   "source": [
    "# Exporting results ..............................................................................\n",
    "'''Only add the working folder path'''\n",
    "working_folder = 'GW_output/'\n",
    "\n",
    "## Exporting graphs to pdf .............................................\n",
    "pdf = matplotlib.backends.backend_pdf.PdfPages(path_model_outputs + working_folder + '/Graphs.pdf')\n",
    "pdf.savefig(fig100)\n",
    "pdf.savefig(fig101)\n",
    "pdf.savefig(fig102)\n",
    "pdf.savefig(fig103)\n",
    "pdf.savefig(fig104)\n",
    "pdf.close()\n",
    "\n",
    "## Exporting tables to excel ...........................................\n",
    "writer = pandas.ExcelWriter(path_model_outputs + working_folder + '/Tables.xlsx')\n",
    "df_wt_sim.to_excel(writer,'WT_sim', index=False)\n",
    "df_wtd_sim.to_excel(writer,'WTd_sim', index=False)\n",
    "df_stats.to_excel(writer,'Trans_stats', index=False)\n",
    "df_ave_stats.to_excel(writer,'Ave_stats', index=False)\n",
    "writer.save()\n",
    "\n",
    "## Copying useful .nc files ............................................\n",
    "shutil.copyfile(path_model_outputs+'modflowWaterLevel_monthend.nc', path_model_outputs+working_folder+'modflowWaterLevel_monthend.nc')\n",
    "shutil.copyfile(path_model_outputs+'modflowtotalSoilThickness_totalend.nc', path_model_outputs+working_folder+'modflowtotalSoilThickness_totalend.nc')\n",
    "\n",
    "print('Successfully exported')"
   ]
  },
  {
   "cell_type": "code",
   "execution_count": null,
   "metadata": {},
   "outputs": [],
   "source": []
  }
 ],
 "metadata": {
  "extensions": {
   "jupyter_dashboards": {
    "activeView": "report_default",
    "version": 1,
    "views": {
     "grid_default": {
      "name": "grid",
      "type": "grid"
     },
     "report_default": {
      "name": "report",
      "type": "report"
     }
    }
   }
  },
  "kernelspec": {
   "display_name": "Python 3 (ipykernel)",
   "language": "python",
   "name": "python3"
  },
  "language_info": {
   "codemirror_mode": {
    "name": "ipython",
    "version": 3
   },
   "file_extension": ".py",
   "mimetype": "text/x-python",
   "name": "python",
   "nbconvert_exporter": "python",
   "pygments_lexer": "ipython3",
   "version": "3.10.2"
  }
 },
 "nbformat": 4,
 "nbformat_minor": 4
}
