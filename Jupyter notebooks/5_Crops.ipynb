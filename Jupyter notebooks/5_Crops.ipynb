{
 "cells": [
  {
   "cell_type": "markdown",
   "metadata": {
    "extensions": {
     "jupyter_dashboards": {
      "version": 1,
      "views": {
       "grid_default": {},
       "report_default": {
        "hidden": false
       }
      }
     }
    }
   },
   "source": [
    "<img style=\"float: right;\" src=\"https://drive.google.com/uc?export=view&id=1qVA-sPHp5TY5D7enbU7mF4zZ8obu5wrC\" width=150 height=150 />\n",
    "\n",
    "# CWatM: Community Water Model\n",
    "### CWatM is an open-source hydrological model developed at IIASA\n",
    "This notebook runs CWatM using the excel file cwatm_settings.xlsx.\n",
    "<br><br>\n",
    "\n",
    "The **output_folder** in the accompanied notebook should point to where the simulations are held. <br>\n",
    "The **basepath** should point to the folder \"CWatM_settings\" containing:\n",
    " - *cwatm_settings.xlsx*: \n",
    " - *settings_CwatM_template.ini*"
   ]
  },
  {
   "cell_type": "code",
   "execution_count": 1,
   "metadata": {
    "extensions": {
     "jupyter_dashboards": {
      "version": 1,
      "views": {
       "grid_default": {},
       "report_default": {
        "hidden": true
       }
      }
     }
    }
   },
   "outputs": [],
   "source": [
    "basepath = 'C:\\GitHub\\FUSE\\CWatM_settings'"
   ]
  },
  {
   "cell_type": "code",
   "execution_count": 20,
   "metadata": {
    "extensions": {
     "jupyter_dashboards": {
      "version": 1,
      "views": {
       "grid_default": {},
       "report_default": {
        "hidden": true
       }
      }
     }
    }
   },
   "outputs": [],
   "source": [
    "def crops(xl_settings_file_path):\n",
    "    import pandas as pd\n",
    "    df = pd.read_excel(xl_settings_file_path, sheet_name='Crops')\n",
    "    \n",
    "    Crops = []\n",
    "    for i in df.index:\n",
    "        crop = [df['Planting month'][i]]\n",
    "        \n",
    "        for gs in range(1,5):\n",
    "            gs_parameters = [df['EM'+str(gs)][i], df['KC'+str(gs)][i], df['KY'+str(gs)][i]]\n",
    "            crop.append(gs_parameters)\n",
    "        \n",
    "        Crops.append(crop)\n",
    "        \n",
    "\n",
    "def create_cwatm_settings_dict_obj_TEST(xl_settings_file_path):\n",
    "    import xlrd\n",
    "    import pandas as pd\n",
    "    # Create dictionary from excel file\n",
    "    settings_dict = {}\n",
    "    df = pd.read_excel(xl_settings_file_path)\n",
    "    wb = xlrd.open_workbook(xl_settings_file_path)\n",
    "    sh = wb.sheet_by_index(0)\n",
    "    for i in range(len(df)+1): #MS\n",
    "        cell_key = sh.cell(i, 0).value\n",
    "        cell_value = sh.cell(i, 1).value\n",
    "        settings_dict[cell_key] = cell_value\n",
    "    return settings_dict\n",
    "    \n"
   ]
  },
  {
   "cell_type": "code",
   "execution_count": 21,
   "metadata": {
    "extensions": {
     "jupyter_dashboards": {
      "version": 1,
      "views": {
       "grid_default": {},
       "report_default": {
        "hidden": false
       }
      }
     }
    },
    "scrolled": true
   },
   "outputs": [
    {
     "name": "stdout",
     "output_type": "stream",
     "text": [
      "[[1, [1, 0.4, 0.75], [3, 0.8, 0.75], [9, 1.25, 0.5], [11, 0.75, 0.1]], [6, [2, 0.4, 0.75], [5, 0.8, 0.75], [14, 1.25, 0.5], [17, 0.75, 0.1]], [10, [1, 0.4, 0.75], [4, 0.8, 0.75], [12, 1.25, 0.5], [15, 0.75, 0.1]], [1, [1, 0.4, 0.75], [3, 0.8, 0.75], [10, 1.25, 0.5], [12, 0.75, 0.1]], [11, [1, 0.7, 0.2], [2, 0.925, 0.55], [3, 1.15, 0.45], [4, 0.55, 0.2]], [6, [1, 0.45, 0.2], [2, 0.75, 0.4], [4, 0.95, 0.7], [5, 0.75, 0.2]], [11, [1, 0.45, 0.2], [2, 0.75, 0.4], [4, 0.95, 0.7], [5, 0.75, 0.2]], [11, [1, 0.45, 0.2], [2, 0.75, 0.4], [4, 0.95, 0.7], [5, 0.75, 0.2]]]\n"
     ]
    }
   ],
   "source": [
    "import time\n",
    "from datetime import date\n",
    "\n",
    "today = date.today().strftime(\"%B%d\")\n",
    "\n",
    "settings_template = basepath + r'\\settings_CWatM_template.ini'\n",
    "excel_settings_file =basepath + r'\\cwatm_settings.xlsx'\n",
    "new_settings_file = basepath + r'\\settings_CWatM_'+today+'.ini'\n",
    "\n",
    "# Create an initial settings dictionary object from the excel file.\n",
    "# This dictionary be modified by the urban and ag calculations to pass file paths or values\n",
    "#settings_dict = create_cwatm_settings_dict_obj_TEST(excel_settings_file)\n",
    "crops(excel_settings_file)"
   ]
  },
  {
   "cell_type": "code",
   "execution_count": null,
   "metadata": {},
   "outputs": [],
   "source": []
  }
 ],
 "metadata": {
  "extensions": {
   "jupyter_dashboards": {
    "activeView": "report_default",
    "version": 1,
    "views": {
     "grid_default": {
      "name": "grid",
      "type": "grid"
     },
     "report_default": {
      "name": "report",
      "type": "report"
     }
    }
   }
  },
  "kernelspec": {
   "display_name": "Python 3",
   "language": "python",
   "name": "python3"
  },
  "language_info": {
   "codemirror_mode": {
    "name": "ipython",
    "version": 3
   },
   "file_extension": ".py",
   "mimetype": "text/x-python",
   "name": "python",
   "nbconvert_exporter": "python",
   "pygments_lexer": "ipython3",
   "version": "3.7.5"
  }
 },
 "nbformat": 4,
 "nbformat_minor": 2
}
