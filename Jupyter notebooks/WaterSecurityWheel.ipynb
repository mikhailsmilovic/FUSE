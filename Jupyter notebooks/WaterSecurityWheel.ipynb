{
 "cells": [
  {
   "cell_type": "markdown",
   "metadata": {
    "extensions": {
     "jupyter_dashboards": {
      "version": 1,
      "views": {
       "grid_default": {},
       "report_default": {
        "hidden": false
       }
      }
     }
    }
   },
   "source": [
    "<img style=\"float: right;\" src=\"https://drive.google.com/uc?export=view&id=1qVA-sPHp5TY5D7enbU7mF4zZ8obu5wrC\" width=150 height=150 />\n",
    "\n",
    "# Water Balance\n",
    "### CWatM is an open-source hydrological model developed at IIASA\n",
    "<br><br>\n",
    "## User inputs:\n",
    " - The folder path holding CWatM simulations.\n",
    " - Was MODFLOW activated?\n",
    " - The coordinates for the outlet of the basin"
   ]
  },
  {
   "cell_type": "code",
   "execution_count": 1,
   "metadata": {
    "extensions": {
     "jupyter_dashboards": {
      "version": 1,
      "views": {
       "grid_default": {},
       "report_default": {
        "hidden": false
       }
      }
     }
    },
    "scrolled": true
   },
   "outputs": [],
   "source": [
    "# The folder path holding CWatM simulations\n",
    "#output_folder =  'C:/CWatM_output_Examples/CWatM_output_22Oct_01051995_01051996' #_Examples/CWatM_output_full2015_normal' #_Examples/Experiment1_withIrrigation_fullYear_31July2020' #_Bhima_17June20'\n",
    "#output_folder = 'C:/CWatM_output_Examples/CWatM_output_oneYear_FallowAsStandard'\n",
    "#output_folder = 'C:/GitHub/nira_repo/modules/hydro/hydro_outputs'\n",
    "# If MODFLOW was activated for sub-surface simulation, set to True\n",
    "\n",
    "#output_folder = 'C:/CWatM_output_Examples/CWatM_output_2005'\n",
    "if not 'Modflow' in locals():\n",
    "    Modflow = True\n",
    "    \n",
    "if not 'output_folder' in locals():\n",
    "    output_folder = 'C:/CWatM_output'\n",
    "\n",
    "#Modflow = False\n",
    "#   The location coordinates of the final cell in the basin, the discharge point, \n",
    "latitude =  17.3875  #Bhima 17.3875    Nira 17.97, 75.12\n",
    "longitude = 75.89583 #Bhima 75.89583  Nira 75.12"
   ]
  },
  {
   "cell_type": "markdown",
   "metadata": {
    "extensions": {
     "jupyter_dashboards": {
      "version": 1,
      "views": {
       "grid_default": {},
       "report_default": {
        "hidden": false
       }
      }
     }
    }
   },
   "source": [
    "\n",
    "<img src=\"https://drive.google.com/uc?export=view&id=1teWUCVHsZTmfYqDL7jq8ZvfcTRUdE0t6\" width=1200 height=1000 />"
   ]
  },
  {
   "cell_type": "code",
   "execution_count": 2,
   "metadata": {
    "extensions": {
     "jupyter_dashboards": {
      "version": 1,
      "views": {
       "grid_default": {},
       "report_default": {
        "hidden": true
       }
      }
     }
    },
    "scrolled": true
   },
   "outputs": [],
   "source": [
    "from netCDF4 import Dataset, num2date\n",
    "import matplotlib.pyplot as plt\n",
    "import numpy as np\n",
    "import numpy.ma as ma\n",
    "\n",
    "import plotly\n",
    "from plotly import graph_objs as go, offline as po, tools\n",
    "from plotly.subplots import make_subplots\n",
    "import plotly.express as px\n",
    "\n",
    "#from PIL import Image\n",
    "import datetime\n",
    "import json\n",
    "import pandas as pd\n",
    "\n",
    "#from IPython.display import Image\n",
    "#from IPython.core.display import display, HTML\n",
    "#display(HTML(\"<style>.container { width:100% !important; }</style>\"))"
   ]
  },
  {
   "cell_type": "code",
   "execution_count": 3,
   "metadata": {
    "extensions": {
     "jupyter_dashboards": {
      "version": 1,
      "views": {
       "grid_default": {},
       "report_default": {
        "hidden": true
       }
      }
     }
    },
    "scrolled": true
   },
   "outputs": [],
   "source": [
    "def commas(num):\n",
    "    return '{:,.2f}'.format(num)\n",
    "\n",
    "def geo_idx(dd, dd_array):\n",
    "   \"\"\"\n",
    "     search for nearest decimal degree in an array of decimal degrees and return the index.\n",
    "     np.argmin returns the indices of minium value along an axis.\n",
    "     so subtract dd from all values in dd_array, take absolute value and find index of minium.\n",
    "    \"\"\"\n",
    "   geo_idx = (np.abs(dd_array - dd)).argmin()\n",
    "   return geo_idx"
   ]
  },
  {
   "cell_type": "markdown",
   "metadata": {
    "extensions": {
     "jupyter_dashboards": {
      "version": 1,
      "views": {
       "grid_default": {},
       "report_default": {
        "hidden": true
       }
      }
     }
    }
   },
   "source": [
    "## Discharge at basin outlet\n",
    "\n",
    "Here, we present the monthly discharge at the outlet of the Nira subbasin."
   ]
  },
  {
   "cell_type": "code",
   "execution_count": 4,
   "metadata": {
    "extensions": {
     "jupyter_dashboards": {
      "version": 1,
      "views": {
       "grid_default": {},
       "report_default": {
        "hidden": true
       }
      }
     }
    },
    "scrolled": true
   },
   "outputs": [
    {
     "ename": "FileNotFoundError",
     "evalue": "[Errno 2] No such file or directory: b'C:/CWatM_output/discharge_daily.nc'",
     "output_type": "error",
     "traceback": [
      "\u001b[1;31m---------------------------------------------------------------------------\u001b[0m",
      "\u001b[1;31mFileNotFoundError\u001b[0m                         Traceback (most recent call last)",
      "\u001b[1;32m<ipython-input-4-4895fb77b908>\u001b[0m in \u001b[0;36m<module>\u001b[1;34m\u001b[0m\n\u001b[0;32m      1\u001b[0m \u001b[0moutlet\u001b[0m \u001b[1;33m=\u001b[0m \u001b[1;33m(\u001b[0m\u001b[0mlatitude\u001b[0m\u001b[1;33m,\u001b[0m \u001b[0mlongitude\u001b[0m\u001b[1;33m)\u001b[0m\u001b[1;33m\u001b[0m\u001b[1;33m\u001b[0m\u001b[0m\n\u001b[0;32m      2\u001b[0m \u001b[1;33m\u001b[0m\u001b[0m\n\u001b[1;32m----> 3\u001b[1;33m \u001b[0mnc_simulated\u001b[0m \u001b[1;33m=\u001b[0m \u001b[0mDataset\u001b[0m\u001b[1;33m(\u001b[0m\u001b[0moutput_folder\u001b[0m \u001b[1;33m+\u001b[0m \u001b[1;34m'/discharge_daily.nc'\u001b[0m\u001b[1;33m,\u001b[0m \u001b[1;34m'r'\u001b[0m\u001b[1;33m)\u001b[0m\u001b[1;33m\u001b[0m\u001b[1;33m\u001b[0m\u001b[0m\n\u001b[0m\u001b[0;32m      4\u001b[0m \u001b[1;33m\u001b[0m\u001b[0m\n\u001b[0;32m      5\u001b[0m \u001b[0mFLOWS_simulated\u001b[0m \u001b[1;33m=\u001b[0m \u001b[1;33m[\u001b[0m\u001b[1;33m]\u001b[0m\u001b[1;33m\u001b[0m\u001b[1;33m\u001b[0m\u001b[0m\n",
      "\u001b[1;32msrc\\netCDF4\\_netCDF4.pyx\u001b[0m in \u001b[0;36mnetCDF4._netCDF4.Dataset.__init__\u001b[1;34m()\u001b[0m\n",
      "\u001b[1;32msrc\\netCDF4\\_netCDF4.pyx\u001b[0m in \u001b[0;36mnetCDF4._netCDF4._ensure_nc_success\u001b[1;34m()\u001b[0m\n",
      "\u001b[1;31mFileNotFoundError\u001b[0m: [Errno 2] No such file or directory: b'C:/CWatM_output/discharge_daily.nc'"
     ]
    }
   ],
   "source": [
    "outlet = (latitude, longitude)\n",
    "\n",
    "nc_simulated = Dataset(output_folder + '/discharge_daily.nc', 'r')\n",
    "\n",
    "FLOWS_simulated = []\n",
    "\n",
    "lats = nc_simulated.variables['lat'][:]\n",
    "lons = nc_simulated.variables['lon'][:]\n",
    "\n",
    "in_lat = outlet[0]\n",
    "in_lon = outlet[1]\n",
    "\n",
    "lat_idx = geo_idx(in_lat, lats)\n",
    "lon_idx = geo_idx(in_lon, lons)\n",
    "\n",
    "FLOWS_simulated.append(nc_simulated.variables['discharge'][:, lat_idx, lon_idx])\n"
   ]
  },
  {
   "cell_type": "code",
   "execution_count": null,
   "metadata": {
    "extensions": {
     "jupyter_dashboards": {
      "version": 1,
      "views": {
       "grid_default": {},
       "report_default": {
        "hidden": true
       }
      }
     }
    }
   },
   "outputs": [],
   "source": [
    "Dates_simulation = num2date(nc_simulated.variables['time'][:], units=nc_simulated.variables['time'].units)\n",
    "for t in range(len(Dates_simulation)):\n",
    "    Dates_simulation[t] = np.datetime64(Dates_simulation[t])\n",
    "\n",
    "fig_Discharge_outlet = go.Figure()\n",
    "\n",
    "fig_Discharge_outlet.add_trace(go.Scatter(y=FLOWS_simulated[0],\n",
    "                         x=Dates_simulation,\n",
    "                mode='lines',\n",
    "                name='Simulated'))\n",
    "\n",
    "\n",
    "fig_Discharge_outlet.update_layout(title='Discharge at outlet',\n",
    "                       xaxis_title = 'Days',\n",
    "                       yaxis_title = 'Discharge (m3/s)')\n",
    "\n",
    "#fig_Discharge_outlet.show()"
   ]
  },
  {
   "cell_type": "raw",
   "metadata": {
    "extensions": {
     "jupyter_dashboards": {
      "version": 1,
      "views": {
       "grid_default": {},
       "report_default": {
        "hidden": true
       }
      }
     }
    }
   },
   "source": [
    "\n",
    "cellArea = Dataset(output_folder +'/'+ 'cellArea' + '_daily.nc', 'r').variables['cellArea'][0,:,:]\n",
    "cellAreaD = Dataset(output_folder +'/'+ 'cellArea' + '_daily.nc', 'r').variables['cellArea'][:,:,:]"
   ]
  },
  {
   "cell_type": "raw",
   "metadata": {
    "extensions": {
     "jupyter_dashboards": {
      "version": 1,
      "views": {
       "grid_default": {},
       "report_default": {
        "hidden": true
       }
      }
     }
    }
   },
   "source": [
    "['gwstore',               'GW storage',       'summed'],\n",
    "['pumping_actual',        'GW pumping actual','summed']\n",
    "['totalET',               'Evapotranspiration (soil)',          'M'],\n",
    "['EvapoChannel',          'Channel evaporation',                'M3'],\n",
    "['EvapWaterBodyM',        'Water bodies evaporation',           'M'],\n",
    "['act_nonIrrConsumption', 'non-Irrigation consumption',         'M'],\n",
    "['channelStorage',        'Channel storage',                    'M3'],\n",
    "['lakeResStorage',        'Water bodies storage',               'M3'],\n",
    "['totalSto',              'Soil & Intercept storage',           'M'],\n",
    "['adjusted_channelFlow', 'Flow not available mid-day'           'M'],\n",
    "\n",
    "['sum_actTransTotal',       'Transpiration',                'M',    'Output_ET'],\n",
    "    ['actTransTotal_forest',    'Transpiration (Forest)',       'M',    'Output_Trans'], #NEW\n",
    "    ['actTransTotal_grasslands','Transpiration (Grasslands)',   'M',    'Output_Trans'], #NEW\n",
    "    ['actTransTotal_paddy',     'Transpiration (Paddy)',        'M',    'Output_Trans'], #NEW\n",
    "    ['actTransTotal_nonpaddy',  'Transpiration (non-Paddy)',    'M',    'Output_Trans'], #NEW\n",
    "\n",
    "    ['sum_actBareSoilEvap',     'Bare soil evaporation',        'M',    'Output_ET'],\n",
    "    ['sum_interceptEvap',       'Intercept evaporation',        'M',    'Output_ET'],\n",
    "    ['sum_openWaterEvap',       'Open water evaporation',       'M',    'Output_ET'],\n",
    "    ['addtoevapotrans',         'Evap loss from withdrawals',   'M',    'Output_ET'],\n",
    "\n",
    "    # Lakes and Reservoirs Water Balance\n",
    "    ['lakeResInflowM',        'Waterbody inflow',               'M',    'Input_LR'],\n",
    "    ['EvapWaterBodyM',        'Waterbody evaporation',          'M',    'Output_LR'],\n",
    "    ['act_bigLakeResAbst',    'Waterbody abstraction, conveyed','M',    'Output_LR'],\n",
    "    #act_LocalLakeAbstract\n",
    "    #self.var.delivered_water\n",
    "    ['leakage',               'Canal leakage',                  'M3',   'Output_LR'],\n",
    "    ['lakeResOutflowM',       'Waterbody outflow',              'M',    'Output_LR'],\n",
    "    ['lakeResStorage',        'Waterbody storage',              'M3',    'Storage_LR'],\n",
    "\n",
    "    # Groundwater Water Balance\n",
    "    ['leakage',          'Canal leakage',          'M3',     'Input_GW'], #NEW\n",
    "    ['sum_gwRecharge',    'GW recharge',           'M',      'Input_GW'],\n",
    "    #['pumping_actual',   'GW pumping actual',      'summed', 'Output_GW'],\n",
    "    ['capillar',         'Capillary rise',         'M',      'Output_GW'],\n",
    "    ['baseflow',         'Baseflow',               'M',      'Output_GW'],\n",
    "    #['gwstore',          'GW storage',             'summed', 'Storage_GW'],\n",
    "\n",
    "    # Soil Water Balance\n",
    "    ['Rain',                    'Rain',                   'M',  'Input_Soil'],\n",
    "    ['act_totalIrrConsumption', 'Irr consumption',        'M',   'Input_Soil'],\n",
    "    ['capillar',                'Capillary rise',         'M',  'Input_Soil'],\n",
    "    ['sum_actTransTotal',       'Transpiration',          'M',  'Output_Soil'],\n",
    "    ['sum_actBareSoilEvap',     'Bare soil evaporation',  'M',  'Output_Soil'],\n",
    "    ['sum_interceptEvap',       'Intercept evaporation',  'M',  'Output_Soil'],\n",
    "    ['sum_openWaterEvap',       'Open water evaporation', 'M',  'Output_Soil'],\n",
    "    ['sum_runoff',              'Runoff',                 'M', 'Output_Soil'],\n",
    "    ['sum_gwRecharge',          'GW recharge',            'M',  'Output_Soil'],\n",
    "    ['totalSto',                'Soil & Intercept storage','M',  'Storage_Soil'],\n",
    "    \n",
    "    ['act_irrWithdrawal', 'Withdrawal Irr', 'M', 'Input_Withdrawal'],\n",
    "    ['act_nonIrrWithdrawal', 'Withdrawal nonIrr', 'M', 'Input_Withdrawal'],\n",
    "    ['act_nonIrrWithdrawalSW', 'Withdrawal SW nonIrr', 'M', 'Output_Withdrawal'],\n",
    "    ['act_nonIrrWithdrawalGW', 'Withdrawal GW nonIrr', 'M', 'Output_Withdrawal'],\n",
    "    ['act_irrWithdrawalSW',    'Withdrawal SW Irr', 'M', 'Output_Withdrawal'],\n",
    "    ['act_irrWithdrawalGW', 'Withdrawal GW Irr', 'M', 'Output_Withdrawal'],\n",
    "\n",
    "    # Consumption Water Balance\n",
    "    ['act_nonIrrConsumption',   'nonIrr consumption',          'M',  'Output_Consumption'],\n",
    "    ['act_totalIrrConsumption', 'Irr consumption',             'M',  'Output_Consumption'],\n",
    "    ['addtoevapotrans',         'Evap loss from withdrawals',  'M',  'Output_Consumption'],\n",
    "    ['returnFlow',              'Return flow from withdrawals','M',  'Output_Consumption'],\n",
    "    ['pumping',                 'GW requested pumping to Modflow',                'M',  'Input_Consumption'],\n",
    "    ['act_SurfaceWaterAbstract','SW abstractions (applied)',   'M',  'Input_Consumption']])"
   ]
  },
  {
   "cell_type": "code",
   "execution_count": null,
   "metadata": {
    "extensions": {
     "jupyter_dashboards": {
      "version": 1,
      "views": {
       "grid_default": {},
       "report_default": {
        "hidden": true
       }
      }
     }
    }
   },
   "outputs": [],
   "source": [
    "# ['CWatm variable name', 'Label', 'Unit', Input/Output/Storage']\n",
    "\n",
    "# There are three different types of Units: \n",
    "# 1. Spatially districuted values in M\n",
    "# 2. Spatially distributed values in M3\n",
    "# 3. Summed total for the basin, where each cell holds the total sum for the basin\n",
    "\n",
    "if Modflow == False:\n",
    "    Vars = [\n",
    "        ['storGroundwater',   'GW storage',       'M',      'Storage'],\n",
    "        ['storGroundwater',   'GW storage',       'M',      'Storage_GW'],\n",
    "        ['pumping', 'GW pumping', 'M', 'Output_GW']] #NEW\n",
    "else:\n",
    "    Vars = [\n",
    "        ['gwstore',            'GW storage',       'summed', 'Storage'],\n",
    "        ['gwstore',            'GW storage',       'summed', 'Storage_GW'],\n",
    "        ['pumping_actual',     'GW pumping actual','summed', 'Output_GW']]\n",
    "       \n",
    "Vars.extend([\n",
    "    # General Water Balance\n",
    "    ['Rain',                  'Rain',                               'M',      'Input'],\n",
    "    #['adjusted_channelFlow', 'Flow not available mid-day'           'M', 'Input'],\n",
    "    #['Snow', 'Snow', 'M', \"Input\"]\n",
    "    ['humanUse',          'Human use',                'M',     'Output'],\n",
    "    ['channelStorage',        'Channel storage',                    'M3',     'Storage'],\n",
    "    ['lakeResStorage',        'Water bodies storage',               'M3',     'Storage'],\n",
    "    ['totalSto',              'Soil & Intercept storage',           'M',      'Storage'],\n",
    "    #['gwstore',               'Groundwater storage',                'summed', 'Storage'],\n",
    "\n",
    "\n",
    "    ['sum_actTransTotal',       'Transpiration',                'M',    'Output_ET'],\n",
    "    ['actTransTotal_forest',    'Transpiration (Forest)',       'M',    'Output_Trans'], \n",
    "    ['actTransTotal_grasslands','Transpiration (Grasslands)',   'M',    'Output_Trans'], \n",
    "    ['actTransTotal_paddy',     'Transpiration (Paddy)',        'M',    'Output_Trans'], \n",
    "    ['actTransTotal_nonpaddy',  'Transpiration (non-Paddy)',    'M',    'Output_Trans'], \n",
    "\n",
    "    ['sum_actBareSoilEvap',     'Bare soil evaporation',        'M',    'Output_ET'],\n",
    "    ['sum_interceptEvap',       'Intercept evaporation',        'M',    'Output_ET'],\n",
    "    ['sum_openWaterEvap',       'Open water evaporation',       'M',    'Output_ET'],\n",
    "    ['addtoevapotrans',         'Evap loss from withdrawals',   'M',    'Output_ET'],\n",
    "\n",
    "    # Lakes and Reservoirs Water Balance\n",
    "    ['lakeResInflowM',        'Waterbody inflow',               'M',    'Input_LR'],\n",
    "    ['EvapWaterBodyM',        'Waterbody evaporation',          'M',    'Output_LR'],\n",
    "    ['act_bigLakeResAbst',    'Waterbody abstraction, conveyed','M',    'Output_LR'],\n",
    "    #act_LocalLakeAbstract\n",
    "    #self.var.delivered_water\n",
    "    ['leakage',               'Canal leakage',                  'M3',   'Output_LR'],\n",
    "    ['lakeResOutflowM',       'Waterbody outflow',              'M',    'Output_LR'],\n",
    "    ['lakeResStorage',        'Waterbody storage',              'M3',    'Storage_LR'],\n",
    "\n",
    "    # Groundwater Water Balance\n",
    "    \n",
    "    #['leakage',          'Canal leakage',          'M3',     'Input_GW'],\n",
    "    #['leakage',          'Canal leakage',          'M3',     'Input_gwRecharge_GW'], #NEW\n",
    "    ['sum_gwRecharge',    'GW recharge',           'M',      'Input_GW'],\n",
    "    #['pumping_actual',   'GW pumping actual',      'summed', 'Output_GW'],\n",
    "    ['capillar',         'Capillary rise',         'M',      'Output_GW'],\n",
    "    ['baseflow',         'Baseflow',               'M',      'Output_GW'],\n",
    "    #['gwstore',          'GW storage',             'summed', 'Storage_GW'],\n",
    "    ['riverbedExchangeM', 'Riverbed exchange', 'M', 'Input_gwRecharge_GW'],\n",
    "    ['sum_prefFlow_GW', 'Preferential flow', 'M', 'Input_gwRecharge_GW'],\n",
    "    ['sum_perc3toGW_GW', 'Soil percolation', 'M', 'Input_gwRecharge_GW'],\n",
    "    ['leakageIntoGw', 'Leakage into GW', 'M', 'Input_gwRecharge_GW'],\n",
    "\n",
    "    # Soil Water Balance\n",
    "    ['Rain',                    'Rain',                   'M',  'Input_Soil'],\n",
    "    ['riverbedExchangeM',       'Riverbed exchange',      'M',  'Input_Soil'],\n",
    "    ['act_totalIrrConsumption', 'Irr consumption',        'M',   'Input_Soil'],\n",
    "    ['capillar',                'Capillary rise',         'M',  'Input_Soil'],\n",
    "    ['leakageIntoRunoff', 'Leakage into runoff', 'M', 'Input_Soil'],\n",
    "    ['leakageIntoGw', 'Leakage into GW', 'M', 'Input_Soil'],\n",
    "    #['EvapoChannel',          'Channel evaporation',      'M3', 'Output_Soil'],\n",
    "    ['sum_actTransTotal',       'Transpiration',          'M',  'Output_Soil'],\n",
    "    ['sum_actBareSoilEvap',     'Bare soil evaporation',  'M',  'Output_Soil'],\n",
    "    ['sum_interceptEvap',       'Intercept evaporation',  'M',  'Output_Soil'],\n",
    "    ['sum_openWaterEvap',       'Open water evaporation', 'M',  'Output_Soil'],\n",
    "    ['sum_runoff',              'Runoff',                 'M', 'Output_Soil'],\n",
    "    ['sum_gwRecharge',          'GW recharge',            'M',  'Output_Soil'],\n",
    "    ['totalSto',                'Soil & Intercept storage','M',  'Storage_Soil'],\n",
    "    \n",
    "    ['act_irrWithdrawal', 'Withdrawal Irr', 'M', 'Input_Withdrawal'],\n",
    "    ['act_nonIrrWithdrawal', 'Withdrawal nonIrr', 'M', 'Input_Withdrawal'],\n",
    "    ['act_domWithdrawal',   'Domestic Withdrawal',          'M',  'Input_nonIrrWithdrawal'],\n",
    "    ['act_indWithdrawal',   'Industrial Withdrawal',          'M',  'Input_nonIrrWithdrawal'],\n",
    "    ['act_livWithdrawal',   'Livestock Withdrawal',          'M',  'Input_nonIrrWithdrawal'],\n",
    "\n",
    "    ['act_nonIrrWithdrawalSW', 'Withdrawal SW nonIrr', 'M', 'Output_Withdrawal'],\n",
    "    ['act_nonIrrWithdrawalGW', 'Withdrawal GW nonIrr', 'M', 'Output_Withdrawal'],\n",
    "    ['act_irrWithdrawalSW',    'Withdrawal SW Irr', 'M', 'Output_Withdrawal'],\n",
    "    ['act_irrWithdrawalGW', 'Withdrawal GW Irr', 'M', 'Output_Withdrawal'],\n",
    " \n",
    "\n",
    "    # Consumption Water Balance\n",
    "    ['act_nonIrrConsumption',   'nonIrr consumption',          'M',  'Output_Consumption'],\n",
    "    ['act_domConsumption',   'Domesticconsumption',          'M',  'Output_nonIrrConsumption'],\n",
    "    ['act_indConsumption',   'Industrial consumption',          'M',  'Output_nonIrrConsumption'],\n",
    "    ['act_livConsumption',   'Livestock consumption',          'M',  'Output_nonIrrConsumption'],\n",
    "\n",
    "    \n",
    "    ['act_totalIrrConsumption', 'Irr consumption',             'M',  'Output_Consumption'],\n",
    "    ['addtoevapotrans',         'Evap loss from withdrawals',  'M',  'Output_Consumption'],\n",
    "    ['returnFlow',              'Return flow from withdrawals','M',  'Output_Consumption'],\n",
    "    ['pumping',                 'Groundwater abstractions',                'M',  'Input_Consumption'], #GW requested of modflow\n",
    "    ['act_SurfaceWaterAbstract','SW abstractions (applied)',   'M',  'Input_Consumption'],\n",
    "\n",
    "    ['act_channelAbstract','Channel abstractions',   'M',  'Input_SW_Consumption'],\n",
    "    ['act_bigLakeResAbst','Waterbody abstraction, conveyed',   'M',  'Input_SW_Consumption'],\n",
    "    \n",
    "    ['act_channelAbstract_Local','Channel (local) abstractions',   'M',  'Input_Channel_Consumption'],\n",
    "    ['act_nonLocalchannelAbstract_M','Channel (non-local) abstractions',   'M',  'Input_Channel_Consumption'],\n",
    "    ['act_LocalLakeAbstract','Waterbody (local) abstraction, conveyed',   'M',  'Input_Lake_Consumption'], \n",
    "    ['act_nonLocalLakeAbstract_M','Waterbody (non-local) abstraction, conveyed',   'M',  'Input_Lake_Consumption']])\n"
   ]
  },
  {
   "cell_type": "raw",
   "metadata": {},
   "source": [
    "print('[Label, CWatM variable name, unit]')\n",
    "print('unit M = cell-based depth')\n",
    "print('unit M3 = cell-based volume')\n",
    "print('unit summed = basin-total volume\\n')\n",
    "for i in Vars:\n",
    "    print([i[1], i[0], i[2]])\n",
    "    \n",
    "for i in Vars:\n",
    "    print(i[4])\n",
    "    \n"
   ]
  },
  {
   "cell_type": "code",
   "execution_count": null,
   "metadata": {
    "extensions": {
     "jupyter_dashboards": {
      "version": 1,
      "views": {
       "grid_default": {},
       "report_default": {
        "hidden": true
       }
      }
     }
    }
   },
   "outputs": [],
   "source": [
    "# Loading the data\n",
    "\n",
    "import numpy.ma as ma\n",
    "\n",
    "# WB = {Inputs:  [ ['Rain', [rain_value_day0, ..., rain_value_dayLast]] ],\n",
    "#       Outputs: [ ['Evapotranspiration (soil)', [ET_value_day0, ..., ET_value_dayLast]] \n",
    "#                  ['Channel evaporation', [ChannelE_value_day0, ..., ChannelE_value_dayLast]], ... ]}\n",
    "\n",
    "keys = [i[-1] for i in Vars]\n",
    "WB = {key: [] for key in keys} # Creates an empty set relating to each key, overriding the previous to leave only one of each \n",
    "#print('keys: ', keys)\n",
    "cellArea = Dataset(output_folder +'/'+ 'cellArea_daily.nc', 'r').variables['cellArea'][0,:,:]\n",
    "cellAreaC = ma.compressed(cellArea)\n",
    "#print('basin area', np.sum(cellAreaC))\n",
    "for var in Vars:\n",
    "    \n",
    "    nc_filename = output_folder +'/'+ var[0] + '_daily.nc'\n",
    "    temp = Dataset(nc_filename, 'r').variables[var[0]][:,:,:]\n",
    "    Daily_basinSum = []\n",
    "    print(var[0])\n",
    "    for d in range(len(Dates_simulation)):\n",
    "        \n",
    "        if var[2] == 'M':\n",
    "            daily_basinSum = np.sum(np.multiply(ma.compressed(temp[d,:,:]), cellAreaC))\n",
    "        elif var[2] == 'M3':\n",
    "            daily_basinSum = np.sum(ma.compressed(temp[d,:,:]))\n",
    "        else:\n",
    "            #All cells hold the same total-value for the basin\n",
    "            daily_basinSum = ma.compressed(temp[d,:,:])[0]\n",
    "            \n",
    "        Daily_basinSum.append(daily_basinSum)\n",
    "    \n",
    "    WB[var[-1]].append([var[1], np.array(Daily_basinSum)])\n",
    "    "
   ]
  },
  {
   "cell_type": "raw",
   "metadata": {},
   "source": [
    "Test_netCDF = Dataset(output_folder +'/'+ 'pumping_daily.nc', 'r').variables['pumping'][:500,:,:]"
   ]
  },
  {
   "cell_type": "code",
   "execution_count": null,
   "metadata": {
    "extensions": {
     "jupyter_dashboards": {
      "version": 1,
      "views": {
       "grid_default": {},
       "report_default": {
        "hidden": false
       }
      }
     }
    }
   },
   "outputs": [],
   "source": [
    "#When pumping is requested, the groundwater demand may exceed the available groundwater supply\n",
    "\n",
    "# Pumping in M, Leakage in M3, and Actual in Summed\n",
    "if Modflow == True:\n",
    "    temp_Y_GWrequest = Dataset(output_folder +'/'+ 'pumping_daily.nc', 'r').variables['pumping'][:,:,:]\n",
    "    temp_Y_GWactual = Dataset(output_folder +'/'+ 'pumping_actual_daily.nc', 'r').variables['pumping_actual'][:,:,:] #This is a single value\n",
    "    temp_Y_GWleaked = Dataset(output_folder +'/'+ 'leakage_daily.nc', 'r').variables['leakage'][:,:,:]\n",
    "\n",
    "    Y_GWrequest = []\n",
    "    Y_GWleaked = []\n",
    "    Y_GWactual = []\n",
    "\n",
    "\n",
    "    for d in range(len(Dates_simulation)):\n",
    "\n",
    "        Y_GWrequest.append(np.sum(np.multiply(ma.compressed(temp_Y_GWrequest[d,:,:]), cellAreaC)))\n",
    "        Y_GWleaked.append(np.sum(ma.compressed(temp_Y_GWleaked[d,:,:])))\n",
    "        Y_GWactual.append(np.array(ma.compressed(temp_Y_GWactual[d,:,:])[0]))\n",
    "\n",
    "    Y_GWrequest = np.array(Y_GWrequest)[2:]\n",
    "    Y_GWleaked = np.array(Y_GWleaked)[2:]\n",
    "    Y_GWactual = np.array(Y_GWactual)[2:]\n",
    "\n",
    "\n",
    "    Y_diffPumping = Y_GWrequest - Y_GWactual\n",
    "    Y_diffPumping_array = Y_diffPumping[:] \n",
    "    #MS 18052020 \n",
    "    # Adds abs for negative difference. Pumping request and actual are never perfect, and there are two reasons:\n",
    "    # There may not be sufficient water\n",
    "    # There is sometimes somewhat more pumped than requested. Assuming then there is perhaps sometimes less requested, but not only due to unsufficient supply. \n",
    "    # We are interested in the magnitude of the sum. \n",
    "    # Self-correction from cancelations are in our benefit\n",
    "    Y_diffPumping = abs(np.sum(Y_diffPumping))\n",
    "    \n",
    "else:\n",
    "    \n",
    "    temp_Y_GWrequest = Dataset(output_folder +'/'+ 'pumping_daily.nc', 'r').variables['pumping'][:,:,:]\n",
    "    \n",
    "    Y_GWrequest = []\n",
    "    for d in range(len(Dates_simulation)):\n",
    "        Y_GWrequest.append(np.sum(np.multiply(ma.compressed(temp_Y_GWrequest[d,:,:]), cellAreaC)))\n",
    "    \n",
    "    Y_GWrequest = np.array(Y_GWrequest)[2:]\n",
    "    Y_GWactual = Y_GWrequest.copy()\n",
    "    Y_GWleaked = np.array([0]*len(Y_GWrequest))\n",
    "    \n",
    "    Y_diffPumping = 0\n",
    "    \n",
    "    "
   ]
  },
  {
   "cell_type": "code",
   "execution_count": null,
   "metadata": {
    "extensions": {
     "jupyter_dashboards": {
      "version": 1,
      "views": {
       "grid_default": {},
       "report_default": {
        "hidden": true
       }
      }
     }
    }
   },
   "outputs": [],
   "source": [
    "X = Dates_simulation\n",
    "X = X[2:]\n",
    "\n",
    "fig = go.Figure()\n",
    "fig.add_trace(go.Scatter(y= Y_GWrequest,\n",
    "                         x = X,\n",
    "                         mode='lines',\n",
    "                        name='Groundwater abstractions'))\n",
    "fig.add_trace(go.Scatter(y= Y_GWactual,\n",
    "                         x = X,\n",
    "                         mode='lines',\n",
    "                        name='GW actual'))\n",
    "\n",
    "fig.add_trace(go.Scatter(y= Y_GWleaked,\n",
    "                         x = X,\n",
    "                         mode='lines',\n",
    "                        name='Canal leakage'))\n",
    "\n",
    "fig.update_layout(title = 'Actual versus Requested pumping',xaxis_title = 'Days',yaxis_title = 'M3')\n",
    "\n",
    "#fig.show()\n"
   ]
  },
  {
   "cell_type": "markdown",
   "metadata": {
    "extensions": {
     "jupyter_dashboards": {
      "version": 1,
      "views": {
       "grid_default": {},
       "report_default": {
        "hidden": true
       }
      }
     }
    }
   },
   "source": [
    "# Overall Water Balance"
   ]
  },
  {
   "cell_type": "code",
   "execution_count": null,
   "metadata": {
    "extensions": {
     "jupyter_dashboards": {
      "version": 1,
      "views": {
       "grid_default": {},
       "report_default": {
        "hidden": true
       }
      }
     }
    },
    "scrolled": false
   },
   "outputs": [],
   "source": [
    "Figures = {}\n",
    "X = Dates_simulation[2:]\n",
    "Title = 'Overall Water Balance'\n",
    "\n",
    "discharge_included = False\n",
    "\n",
    "fig_Waterscape = go.Figure()\n",
    "fig_Waterscape.update_layout(title = 'Water flows, daily: Waterscape<br><br> '+Title, xaxis_title = 'Days',yaxis_title = 'Flow (M3/day)', barmode='relative')\n",
    "\n",
    "Total_input, Total_output, Total_change = [],[],[]\n",
    "labels_out, parents_out, values_out, colors_out = [], [], [], []\n",
    "labels_simple, parents_simple, values_simple, colors_simple = [], [], [], []\n",
    "Input_daily, Output_daily, Change_daily = np.zeros(len(X)), np.zeros(len(X)), np.zeros(len(X))\n",
    "\n",
    "Input_current = WB['Input']\n",
    "Output_current = WB['Output']\n",
    "Storage_current = WB['Storage']\n",
    "\n",
    "VARS = [[Input_current, 'Inputs', Total_input, 1, '', Input_daily], \n",
    "        [Output_current, 'Outputs', Total_output, -1, '', Output_daily], \n",
    "        [Storage_current, 'Storage', Total_change, -1, ' Change', Change_daily] ]\n",
    "\n",
    "Y_select = []\n",
    "for VAR in VARS:\n",
    "    for Var in VAR[0]:\n",
    "\n",
    "        if VAR[1] == 'Outputs' and not discharge_included:\n",
    "            Y = FLOWS_simulated[0] * 60*60*24\n",
    "            Y =   Y[2:] #Y[1:-1] #Y[2:] # Experiment Y[1:-1] \n",
    "            \n",
    "            Y_select.append([Y, 'River discharge at outlet'])\n",
    "            \n",
    "            VAR[5] += Y\n",
    "            VAR[2].append(np.sum(Y))\n",
    "            \n",
    "            fig_Waterscape.add_trace(go.Bar(\n",
    "                y = Y*VAR[3],\n",
    "                x = X,\n",
    "                name = 'River discharge at outlet'))\n",
    "\n",
    "            labels_out.append('River outlet')\n",
    "            parents_out.append('Water flows total')\n",
    "            #parents_out.append(VAR[1])\n",
    "            values_out.append(np.sum(Y))\n",
    "            colors_out.append('river') #blue') ##636EFA') #negative')\n",
    "\n",
    "            discharge_included = True\n",
    "\n",
    "        # Put original Y into Select chart\n",
    "        Y = Var[1]\n",
    "        Y = Y[2:]\n",
    "        Y_select.append([Y,Var[0]])\n",
    "        if Var[0] == 'Evapotranspiration (soil)':\n",
    "            total_ET = np.sum(Y)\n",
    "        \n",
    "        if VAR[1] == 'Storage':\n",
    "            \n",
    "            preY = np.append(Y[0], Var[1][:-1]) \n",
    "            Y = Y - preY[2:]\n",
    "            \"\"\"\n",
    "            labels_out.append(Var[0]+VAR[4])\n",
    "            parents_out.append(VAR[1]+VAR[4])\n",
    "            values_out.append(abs(np.sum(Y)))\n",
    "            colors_out.append('positive' if np.sum(Y)>0 else 'negative')\n",
    "            \"\"\"\n",
    "            \n",
    "            \n",
    "        else:\n",
    "            labels_out.append(Var[0]+VAR[4])\n",
    "            #parents_out.append(VAR[1])\n",
    "            parents_out.append('Water flows total')\n",
    "            values_out.append(np.sum(Y))\n",
    "            colors_out.append('positive' if VAR[1] == 'Inputs' else 'negative')\n",
    "            \n",
    "            labels_simple.append(Var[0]+VAR[4])\n",
    "            parents_simple.append(VAR[1])\n",
    "            values_simple.append(np.sum(Y))\n",
    "            colors_simple.append('positive' if VAR[1] == 'Inputs' else 'negative')\n",
    "        \n",
    "            \n",
    "        VAR[2].append(np.sum(Y)) # Sum of a single variable, over the simulation period\n",
    "        VAR[5] += Y              # The daily total sum for all variables of a type: Inputs, Outputs, Change\n",
    "        \n",
    "    \n",
    "        fig_Waterscape.add_trace(go.Bar(\n",
    "            y = Y*VAR[3],\n",
    "            x = X,\n",
    "            name = Var[0]+VAR[4]))\n",
    "\n",
    "        \n",
    "    line = go.Scatter(x=X, y=Y_select[0][0])\n",
    "    updatemenus = [{'buttons': [{'method': 'restyle','label': i[1],'args': [{'y': [i[0]]}]} for i in Y_select], \n",
    "                    'direction': 'down', 'pad':{\"r\": 10, \"t\": 10}, 'showactive': True, 'x':0.2, 'xanchor':'left', 'y':1.225, 'yanchor':'top'}]\n",
    "\n",
    "    layout = go.Layout(\n",
    "        updatemenus=updatemenus,\n",
    "        title = 'Specific flows and storages',\n",
    "        xaxis_title = 'Days',\n",
    "        yaxis_title = 'Volume (M3) or Flow (M3/day)')\n",
    "\n",
    "    figure = go.Figure(data=[line], layout=layout)\n",
    "    figure.update_layout(template='plotly_dark')\n",
    "\n",
    "total_input = sum(Total_input)\n",
    "#MS 18052020 removed Y_diff\n",
    "total_input_adjusted = total_input + Y_diffPumping\n",
    "total_output = sum(Total_output)\n",
    "total_change = sum(Total_change)\n",
    "\n",
    "balance = total_input_adjusted - total_output - total_change\n",
    "magnitude_change = np.sum([abs(i) for i in VARS[2][2]])\n",
    "storageChangeActual = abs(np.sum([i for i in VARS[2][2]]))\n",
    "\n",
    "percent_accurate_WB = 100*(balance) / (0.5*total_input_adjusted + 0.5*abs(total_change) + 0.5*total_output)\n",
    "\n",
    "\n",
    "\n",
    "#################### \n",
    "# CIRCLES\n",
    "#################### \n",
    "colors_Circle_main_discrete_map={'river': '#616BB2', 'positive':'#67C4EF','negative':'#EF5538', 'white':'#00CC96', 'storage':'#92A2AD', 'black':'black'}\n",
    "values_Parents_map_Circle = {'Water flows total':total_input_adjusted+ total_output+storageChangeActual+abs(balance),\n",
    "                             'Inputs':total_input_adjusted,   ##636EFA'\n",
    "                             'Outputs':total_output+abs(balance) ,\n",
    "                             'Storage Change':storageChangeActual,\n",
    "                             '':storageChangeActual+abs(balance)+Y_diffPumping+sum(values_out) #total_input_adjusted+ total_output+magnitude_change+abs(balance)                            \n",
    "                            }\n",
    "####################   \n",
    "# Circle, main\n",
    "\"\"\"\n",
    "labels_Circle_main =  ['Water flows total']+['Inputs',   'Outputs',  'Storage Change',     'Nature use',  'Adjusted pumping'] + labels_out \n",
    "parents_Circle_main =  ['']+['Water flows total',   'Water flows total',  'Water flows total',  'Outputs', 'Inputs']         + parents_out\n",
    "values_Circle_main =    [total_input_adjusted+ total_output+storageChangeActual+abs(balance)]+[total_input_adjusted,  total_output+abs(balance),         storageChangeActual,    abs(balance),               Y_diffPumping    ] + values_out \n",
    "\n",
    "values_Parents_Circle_main = [\"{:.1%}\".format(values_Circle_main[i]/values_Parents_map_Circle[parents_Circle_main[i]]) for i in range(len(values_Circle_main))]\n",
    "#colors_Circle_main =    ['white']+['positive','negative'] +  ['positive' if total_change>0 else 'negative']+ ['positive' if balance>0 else 'negative'] + ['positive'] + colors_out\n",
    "#colors_Circle_main =  ['white']+['positive','negative'] +  ['storage']+ ['positive' if balance>0 else 'negative'] + ['positive'] + colors_out\n",
    "colors_Circle_main =  ['black']+['positive','negative'] +  ['storage']+ ['white'] + ['positive'] + colors_out\n",
    "\"\"\"\n",
    "\"\"\"\n",
    "labels_Circle_main =  ['Water flows total']+['Storage Change',     'Nature use',  'Adjusted pumping'] + labels_out \n",
    "parents_Circle_main =  ['']+['Water flows total',   'Water flows total',  'Water flows total']         + parents_out\n",
    "#values_Circle_main =    [total_input_adjusted+ total_output+storageChangeActual+abs(balance)]+[ storageChangeActual,    abs(balance),               Y_diffPumping    ] + values_out \n",
    "values_Circle_main = [ storageChangeActual+abs(balance)+Y_diffPumping+sum(values_out)] + [ storageChangeActual,    abs(balance),               Y_diffPumping    ] + values_out \n",
    "values_Parents_Circle_main = [\"{:.1%}\".format(values_Circle_main[i]/values_Parents_map_Circle[parents_Circle_main[i]]) for i in range(len(values_Circle_main))]\n",
    "#colors_Circle_main =    ['white']+['positive','negative'] +  ['positive' if total_change>0 else 'negative']+ ['positive' if balance>0 else 'negative'] + ['positive'] + colors_out\n",
    "#colors_Circle_main =  ['white']+['positive','negative'] +  ['storage']+ ['positive' if balance>0 else 'negative'] + ['positive'] + colors_out\n",
    "colors_Circle_main =  ['black']+ ['storage']+ ['white'] + ['positive'] + colors_out\n",
    "\"\"\"\n",
    "labels_Circle_main =  ['Storage Change',     'Nature use'] + labels_out \n",
    "parents_Circle_main =  ['Water flows total',   'Water flows total', ]         + parents_out\n",
    "#values_Circle_main =    [total_input_adjusted+ total_output+storageChangeActual+abs(balance)]+[ storageChangeActual,    abs(balance),               Y_diffPumping    ] + values_out \n",
    "values_Circle_main = [ storageChangeActual,    abs(balance)  ] + values_out \n",
    "values_Parents_Circle_main = [\"{:.1%}\".format(values_Circle_main[i]/values_Parents_map_Circle[parents_Circle_main[i]]) for i in range(len(values_Circle_main))]\n",
    "#colors_Circle_main =    ['white']+['positive','negative'] +  ['positive' if total_change>0 else 'negative']+ ['positive' if balance>0 else 'negative'] + ['positive'] + colors_out\n",
    "#colors_Circle_main =  ['white']+['positive','negative'] +  ['storage']+ ['positive' if balance>0 else 'negative'] + ['positive'] + colors_out\n",
    "colors_Circle_main =  ['storage']+ ['white'] + colors_out\n",
    "labels  =labels_Circle_main\n",
    "parents =parents_Circle_main\n",
    "values  =values_Circle_main\n",
    "colors  =colors_Circle_main\n",
    "fractions = values_Parents_Circle_main\n",
    "print(labels)\n",
    "print(fractions)\n",
    "print(colors)\n",
    "\n",
    "\n",
    "d={'labels':labels, 'parents':parents, 'values':values, 'colors':colors, 'fractions':fractions}\n",
    "\n",
    "df = pd.DataFrame(data=d)\n",
    "\"\"\"\n",
    "fig = px.sunburst(df, names='labels', parents='parents', values='values', color='colors', branchvalues='total', color_discrete_map=colors_Circle_main_discrete_map, hover_data=['fractions'])\n",
    "#fig.update_layout(uniformtext=dict(minsize=15, mode='hide'))\n",
    "fig.update_layout(height=700, title='Water Balance Circle,<br> whole<br><br> '+Title)\n",
    "fig.update_layout(\n",
    "    title={'y':0.75, 'x':0.05, 'xanchor': 'left', 'yanchor': 'top'}) #, 'font_size':26})\n",
    "\n",
    "fig.update_layout(hoverlabel=dict(font_size=16), template='plotly_dark')\n",
    "fig.show()      \n",
    "\"\"\"\n",
    "fig_pie = px.pie(df, names='labels', hole=.45, values='values',  color='colors', color_discrete_map=colors_Circle_main_discrete_map, hover_data=['fractions'])\n",
    "fig_pie.update_traces(textinfo='label', marker=dict(line=dict(color='#000000', width=1.7))) #, pull=[0,0,0,0,0.2])\n",
    "fig_pie.update_layout(hoverlabel=dict(font_size=16), template='plotly_dark')\n",
    "fig_pie.show()\n",
    "#{'river': '#616BB2', 'positive':'#67C4EF','negative':'#EF5538', 'white':'#00CC96', 'storage':'#92A2AD', 'black':'black'}\n",
    "\n",
    "_labels=labels\n",
    "_values = values\n",
    "_colors=['#92A2AD', '#00CC96', '#67C4EF', '#616BB2', '#EF5538']\n",
    "\n",
    "labels = [_labels[i] for i in [2,4,1,3,0]]\n",
    "values = [_values[i] for i in [2,4,1,3,0]]\n",
    "colors = [_colors[i] for i in [2,4,1,3,0]]\n",
    "\n",
    "print(labels)\n",
    "print(fractions)\n",
    "print(colors)\n",
    "\n",
    "#Security wheel\n",
    "fig = go.Figure(\n",
    "    data=[go.Pie(\n",
    "        labels=labels, #df['labels'],\n",
    "        values= values, #df['values'],\n",
    "        # Second, make sure that Plotly won't reorder your data while plotting\n",
    "        sort=False,\n",
    "        rotation = -90,\n",
    "    hole=.45)\n",
    "    ])\n",
    "\n",
    "#fig.update_traces(hoverinfo='label+percent', textinfo='value', textfont_size=20,\n",
    "#                  marker=dict(colors=colors, line=dict(color='#000000', width=2)))\n",
    "\n",
    "fig.update_traces(textinfo='label', marker=dict(colors=colors, line=dict(color='#000000', width=1.7))) #, pull=[0,0,0,0,0.2])\n",
    "fig.update_layout(hoverlabel=dict(font_size=16), template='plotly_dark')\n",
    "fig.show()"
   ]
  },
  {
   "cell_type": "code",
   "execution_count": null,
   "metadata": {},
   "outputs": [],
   "source": [
    "#fig_Circle_complete.show()"
   ]
  },
  {
   "cell_type": "markdown",
   "metadata": {
    "extensions": {
     "jupyter_dashboards": {
      "version": 1,
      "views": {
       "grid_default": {},
       "report_default": {
        "hidden": true
       }
      }
     }
    }
   },
   "source": [
    "## Specific water balances\n",
    "\n",
    "## Waterbody"
   ]
  },
  {
   "cell_type": "markdown",
   "metadata": {
    "extensions": {
     "jupyter_dashboards": {
      "version": 1,
      "views": {
       "grid_default": {},
       "report_default": {
        "hidden": true
       }
      }
     }
    }
   },
   "source": [
    "# Try all specific balances"
   ]
  },
  {
   "cell_type": "code",
   "execution_count": null,
   "metadata": {
    "extensions": {
     "jupyter_dashboards": {
      "version": 1,
      "views": {
       "grid_default": {},
       "report_default": {
        "hidden": true
       }
      }
     }
    },
    "scrolled": false
   },
   "outputs": [],
   "source": [
    "WB['Storage_Consumption']=[]\n",
    "WB['Storage_Withdrawal']=[]\n",
    "for section in [['Groundwater', WB['Input_GW'], WB['Output_GW'], WB['Storage_GW']], \n",
    "                ['Lakes and Reservoirs', WB['Input_LR'], WB['Output_LR'], WB['Storage_LR']],\n",
    "                ['Soil', WB['Input_Soil'], WB['Output_Soil'], WB['Storage_Soil']],\n",
    "                ['Withdrawal', WB['Input_Withdrawal'], WB['Output_Withdrawal'], WB['Storage_Withdrawal']],\n",
    "                ['Consumption', WB['Input_Consumption'], WB['Output_Consumption'], WB['Storage_Consumption']]]:\n",
    "\n",
    "    Title = section[0]+'-specifc'\n",
    "    if section[0] == 'Consumption':\n",
    "        Title = 'Consumption & Source'\n",
    "\n",
    "    Input_current = section[1] #WB['Input_LR']\n",
    "    Output_current = section[2]#WB['Output_LR']\n",
    "    Storage_current = section[3]#WB['Storage_LR']\n",
    "\n",
    "    X = Dates_simulation[2:]\n",
    "    fig_Waterscape = go.Figure()\n",
    "    fig_Waterscape.update_layout(title = 'Water flows, daily: Waterscape<br><br> '+Title, xaxis_title = 'Days',yaxis_title = 'Flow (M3/day)', barmode='relative')\n",
    "\n",
    "    Total_input, Total_output, Total_change = [],[],[]\n",
    "    labels_out, parents_out, values_out, colors_out = [], [], [], []\n",
    "    labels_simple, parents_simple, values_simple, colors_simple = [], [], [], []\n",
    "    Input_daily, Output_daily, Change_daily = np.zeros(len(X)), np.zeros(len(X)), np.zeros(len(X))\n",
    "\n",
    "\n",
    "\n",
    "    VARS = [[Input_current, 'Inputs', Total_input, 1, '', Input_daily], \n",
    "            [Output_current, 'Outputs', Total_output, -1, '', Output_daily], \n",
    "            [Storage_current, 'Storage', Total_change, -1, ' Change', Change_daily] ]\n",
    "\n",
    "    Y_select = []\n",
    "    for VAR in VARS:\n",
    "        for Var in VAR[0]:\n",
    "\n",
    "            if Var[0]=='GW pumping actual':\n",
    "               \n",
    "                Y = Y_GWactual #+ Y_GWleaked\n",
    "            else:\n",
    "                # Put original Y into Select chart\n",
    "                Y = Var[1]\n",
    "                Y = Y[2:]\n",
    "\n",
    "            Y_select.append([Y,Var[0]])\n",
    "\n",
    "            if VAR[1] == 'Storage':\n",
    "\n",
    "                preY = np.append(Y[0], Var[1][:-1]) \n",
    "                Y = Y - preY[2:]\n",
    "\n",
    "                labels_out.append(Var[0]+VAR[4])\n",
    "                parents_out.append(VAR[1]+VAR[4])\n",
    "                values_out.append(abs(np.sum(Y)))\n",
    "                colors_out.append('positive' if np.sum(Y)>0 else 'negative')\n",
    "\n",
    "\n",
    "            else:\n",
    "                labels_out.append(Var[0]+VAR[4])\n",
    "                parents_out.append(VAR[1])\n",
    "                values_out.append(np.sum(Y))\n",
    "                colors_out.append('positive' if VAR[1] == 'Inputs' else 'negative')\n",
    "\n",
    "                labels_simple.append(Var[0]+VAR[4])\n",
    "                parents_simple.append(VAR[1])\n",
    "                values_simple.append(np.sum(Y))\n",
    "                colors_simple.append('positive' if VAR[1] == 'Inputs' else 'negative')\n",
    "\n",
    "\n",
    "            VAR[2].append(np.sum(Y)) # Sum of a single variable, over the simulation period\n",
    "            VAR[5] += Y              # The daily total sum for all variables of a type: Inputs, Outputs, Change\n",
    "\n",
    "\n",
    "            fig_Waterscape.add_trace(go.Bar(\n",
    "                y = Y*VAR[3],\n",
    "                x = X,\n",
    "                name = Var[0]+VAR[4]))\n",
    "\n",
    "        if Y_select != []:\n",
    "            line = go.Scatter(x=X, y=Y_select[0][0])\n",
    "            updatemenus = [{'buttons': [{'method': 'restyle','label': i[1],'args': [{'y': [i[0]]}]} for i in Y_select], \n",
    "                            'direction': 'down', 'pad':{\"r\": 10, \"t\": 10}, 'showactive': True, 'x':0.2, 'xanchor':'left', 'y':1.225, 'yanchor':'top'}]\n",
    "\n",
    "            layout = go.Layout(\n",
    "                updatemenus=updatemenus,\n",
    "                title = 'Specific flows and storages',\n",
    "                xaxis_title = 'Days',\n",
    "                yaxis_title = 'Volume (M3) or Flow (M3/day)')\n",
    "\n",
    "            figure = go.Figure(data=[line], layout=layout)\n",
    "            figure.update_layout(template='plotly_dark')\n",
    "\n",
    "    total_input = sum(Total_input)\n",
    "    total_input_adjusted = total_input #+ Y_diffPumping\n",
    "    total_output = sum(Total_output)\n",
    "    total_change = sum(Total_change)\n",
    "\n",
    "    balance = total_input_adjusted - total_output - total_change\n",
    "    magnitude_change = np.sum([abs(i) for i in VARS[2][2]])\n",
    "\n",
    "    percent_accurate_WB = 100*(balance) / (0.5*total_input_adjusted + 0.5*abs(total_change) + 0.5*total_output)\n",
    "\n",
    "\n",
    "\n",
    "    #################### \n",
    "    # CIRCLES\n",
    "    #################### \n",
    "    colors_Circle_main_discrete_map={'positive':'#636EFA','negative':'#EF5538', 'white':'black', 'storage':'#00CC96'}\n",
    "    values_Parents_map_Circle = {'Water flows total':total_input_adjusted+ total_output+magnitude_change+abs(balance),\n",
    "                                 'Inputs':total_input_adjusted, \n",
    "                                 'Outputs':total_output,\n",
    "                                 'Storage Change':magnitude_change,\n",
    "                                 '':total_input_adjusted+ total_output+magnitude_change+abs(balance),\n",
    "                                 'SW abstractions (applied)': np.sum(WB['Input_Consumption'][1][1][2:]),\n",
    "                                 'Channel abstractions' : np.sum(WB['Input_SW_Consumption'][0][1][2:]),\n",
    "                                 'Waterbody abstraction, conveyed' : np.sum(WB['Input_SW_Consumption'][1][1][2:]),\n",
    "                                 'GW recharge' : np.sum(WB['Input_gwRecharge_GW'][0][1][2:])+np.sum(WB['Input_gwRecharge_GW'][1][1][2:])+np.sum(WB['Input_gwRecharge_GW'][2][1][2:])+np.sum(WB['Input_gwRecharge_GW'][3][1][2:]),\n",
    "                                 'nonIrr consumption': np.sum(WB['Output_nonIrrConsumption'][0][1][2:]) + np.sum(WB['Output_nonIrrConsumption'][1][1][2:]) + np.sum(WB['Output_nonIrrConsumption'][2][1][2:]),\n",
    "                                 'Withdrawal nonIrr': np.sum(WB['Input_nonIrrWithdrawal'][0][1][2:]) + np.sum(WB['Input_nonIrrWithdrawal'][1][1][2:]) + np.sum(WB['Input_nonIrrWithdrawal'][2][1][2:])\n",
    "                                \n",
    "                                }\n",
    "    ####################   \n",
    "    # Circle, main\n",
    "    \n",
    "    #    ['sum_prefFlow_GW', 'Preferential flow', 'M', 'Input_gwRecharge_GW'],\n",
    "    # ['sum_perc3toGW_GW', 'Soil percolation', 'M', 'Input_gwRecharge_GW'],\n",
    "    \"\"\"\n",
    "    if section[0] == 'Groundwater':\n",
    "        labels_out.extend(['Riverbed exchange'])\n",
    "        parents_out.extend(['GW recharge'])\n",
    "        values_out.extend([np.sum(WB['Input_gwRecharge_GW'][0][1][2:])])\n",
    "        colors_out.extend(['positive'])\n",
    "   \"\"\"\n",
    "    if section[0] == 'Groundwater':\n",
    "        labels_out.extend(['Riverbed exchange', 'Preferential flow', 'Soil percolation', 'Leakage into GW'])\n",
    "        parents_out.extend(['GW recharge', 'GW recharge', 'GW recharge', 'GW recharge'])\n",
    "        values_out.extend([np.sum(WB['Input_gwRecharge_GW'][0][1][2:]), np.sum(WB['Input_gwRecharge_GW'][1][1][2:]), np.sum(WB['Input_gwRecharge_GW'][2][1][2:]), np.sum(WB['Input_gwRecharge_GW'][3][1][2:])])\n",
    "        colors_out.extend(['positive', 'positive', 'positive', 'positive'])\n",
    "        \n",
    "    if section[0] == 'Consumption':\n",
    "        \n",
    "        #act_LocalLakeAbstract, act_channelAbstract_Local\n",
    "        #     ['act_channelAbstract_Local','Channel (local) abstractions',   'M',  'Input_Channel_Consumption'],\n",
    "        #['act_LocalLakeAbstract','Waterbody (local) abstraction, conveyed',   'M',  'Input_Lake_Consumption']])\n",
    "        #    ['act_channelAbstract_Local','Channel (local) abstractions',   'M',  'Input_Channel_Consumption'],\n",
    "        #['act_nonLocalchannelAbstract_M','Channel (non-local) abstractions',   'M',  'Input_Channel_Consumption'],\n",
    "        #['act_LocalLakeAbstract','Waterbody (local) abstraction, conveyed',   'M',  'Input_Lake_Consumption'], \n",
    "        #['act_nonLocalLakeAbstract_M','Waterbody (non-local) abstraction, conveyed',   'M',  'Input_Lake_Consumption']])\n",
    "        \n",
    "        # Experiment  ['act_nonIrrConsumption',   'nonIrr consumption',          'M',  'Output_Consumption'],\n",
    "        labels_out.extend(['Domestic consumption', 'Industrial consumption', 'Livestock consumption'])\n",
    "        parents_out.extend([ 'nonIrr consumption',  'nonIrr consumption',  'nonIrr consumption'])\n",
    "        values_out.extend([np.sum(WB['Output_nonIrrConsumption'][0][1][2:]), np.sum(WB['Output_nonIrrConsumption'][1][1][2:]), np.sum(WB['Output_nonIrrConsumption'][2][1][2:])])\n",
    "        colors_out.extend(['negative', 'negative', 'negative'])\n",
    "\n",
    "\n",
    "        labels_out.extend(['Channel abstractions', 'Waterbody abstraction, conveyed'])\n",
    "        labels_out.extend(['Channel (local) abstractions', 'Waterbody (local) abstraction, conveyed'])\n",
    "        labels_out.extend(['Channel (non-local) abstractions', 'Waterbody (non-local) abstraction, conveyed'])\n",
    "        \n",
    "        parents_out.extend(['SW abstractions (applied)', 'SW abstractions (applied)'])\n",
    "        parents_out.extend(['Channel abstractions', 'Waterbody abstraction, conveyed'])\n",
    "        parents_out.extend(['Channel abstractions', 'Waterbody abstraction, conveyed'])\n",
    "        \n",
    "        values_out.extend([np.sum(WB['Input_SW_Consumption'][0][1][2:]), np.sum(WB['Input_SW_Consumption'][1][1][2:])])\n",
    "        values_out.extend([np.sum(WB['Input_Channel_Consumption'][0][1][2:]), np.sum(WB['Input_Lake_Consumption'][0][1][2:])])\n",
    "        values_out.extend([np.sum(WB['Input_Channel_Consumption'][1][1][2:]), np.sum(WB['Input_Lake_Consumption'][1][1][2:])])\n",
    "        \n",
    "        colors_out.extend(['positive', 'positive'])\n",
    "        colors_out.extend(['positive', 'positive'])\n",
    "        colors_out.extend(['positive', 'positive'])\n",
    "        \n",
    "    if section[0] == 'Withdrawal':\n",
    "\n",
    "        labels_out.extend(['Domestic withdrawal', 'Industrial withdrawal', 'Livestock withdrawal'])\n",
    "        parents_out.extend([ 'Withdrawal nonIrr',  'Withdrawal nonIrr',  'Withdrawal nonIrr'])\n",
    "        values_out.extend([np.sum(WB['Input_nonIrrWithdrawal'][0][1][2:]), np.sum(WB['Input_nonIrrWithdrawal'][1][1][2:]), np.sum(WB['Input_nonIrrWithdrawal'][2][1][2:])])\n",
    "        colors_out.extend(['positive', 'positive', 'positive'])\n",
    "        \n",
    "\n",
    "    labels_Circle_main =    ['Water flows total']+['Inputs',              'Outputs',            'Storage Change',     'Balance'] + labels_out \n",
    "    parents_Circle_main =   ['']+['Water flows total',   'Water flows total',  'Water flows total',  'Water flows total']           + parents_out\n",
    "    values_Circle_main =    [total_input_adjusted+ total_output+magnitude_change+abs(balance)]+[total_input_adjusted,  total_output,         magnitude_change,    abs(balance)] + values_out \n",
    "    values_Parents_Circle_main = [\"{:.1%}\".format(values_Circle_main[i]/values_Parents_map_Circle[parents_Circle_main[i]]) for i in range(len(values_Circle_main))]\n",
    "    #colors_Circle_main =    ['white']+['positive','negative'] +  ['positive' if total_change>0 else 'negative']+ ['positive' if balance>0 else 'negative'] + ['positive'] + colors_out\n",
    "    #colors_Circle_main =  ['white']+['positive','negative'] +  ['storage']+ ['positive' if balance>0 else 'negative'] + colors_out\n",
    "    colors_Circle_main =  ['white']+['positive','negative'] +  ['storage']+ ['white'] + colors_out\n",
    "\n",
    "    labels  =labels_Circle_main\n",
    "    #print(labels)\n",
    "    parents =parents_Circle_main\n",
    "    #print(parents)\n",
    "    values  =values_Circle_main\n",
    "    #print(values)\n",
    "    colors  =colors_Circle_main\n",
    "    #print(colors)\n",
    "    fractions = values_Parents_Circle_main\n",
    "    #print(fractions)\n",
    "\n",
    "    d={'labels':labels, 'parents':parents, 'values':values, 'colors':colors, 'fractions':fractions}\n",
    "    df = pd.DataFrame(data=d)\n",
    "    fig = px.sunburst(df, names='labels', parents='parents', values='values', color='colors', branchvalues='total', color_discrete_map=colors_Circle_main_discrete_map, hover_data=['fractions'])\n",
    "    \n",
    "    fig.update_layout(uniformtext=dict(minsize=15)) #, mode='hide'))\n",
    "    fig.update_layout(height=700, title='Water Balance Circle,<br> whole<br><br> '+Title)\n",
    "    fig.update_layout(\n",
    "        title={'y':0.75, 'x':0.1, 'xanchor': 'left', 'yanchor': 'top'}) #, 'font_size':26})\n",
    "\n",
    "    fig.update_layout(hoverlabel=dict(font_size=16), template='plotly_dark')\n",
    "    \n",
    "\n",
    "    #fig.show()        \n",
    "\n",
    "    ####################       \n",
    "    # Circle, simplified\n",
    "\n",
    "    labels_Circle_simple = ['Inputs',              'Outputs',            'Storage Change',     'Balance'] + labels_simple\n",
    "    parents_Circle_simple = ['Water flows total',   'Water flows total',  'Water flows total',  'Water flows total']           + parents_simple\n",
    "    values_Circle_simple =  [total_input_adjusted,  total_output,         abs(total_change),    abs(balance)] + values_simple\n",
    "    values_Parents_Circle_simple = [\"{:.1%}\".format(values_Circle_simple[i]/values_Parents_map_Circle[parents_Circle_main[i]]) for i in range(len(values_Circle_simple))]\n",
    "    #colors_Circle_simple =  ['positive','negative'] +  ['storage']+ ['positive' if balance>0 else 'negative']+ colors_simple\n",
    "    colors_Circle_simple =  ['positive','negative'] +  ['storage']+ ['white']+ colors_simple\n",
    "\n",
    "    labels  =labels_Circle_simple\n",
    "    parents =parents_Circle_simple\n",
    "    values  =values_Circle_simple\n",
    "    colors  =colors_Circle_simple\n",
    "    fractions = values_Parents_Circle_simple\n",
    "    d={'labels':labels, 'parents':parents, 'values':values, 'colors':colors, 'fractions':fractions}\n",
    "    df = pd.DataFrame(data=d)\n",
    "    fig_Circle_simple = px.sunburst(df, names='labels', parents='parents', values='values', color='colors', color_discrete_map=colors_Circle_main_discrete_map, hover_data=['fractions'])\n",
    "    \n",
    "    fig_Circle_simple.update_layout(height=700, title='Water Balance Circle,<br> glimpse<br><br> '+Title)\n",
    "    #fig_Circle_simple.update_layout(uniformtext=dict(minsize=14, mode='hide'))\n",
    "    fig_Circle_simple.update_layout(\n",
    "        title={'y':0.75, 'x':0.05, 'xanchor': 'left', 'yanchor': 'top'}, template='plotly_dark') #, 'font_size':26})\n",
    "    #fig_Circle_simple.show()\n",
    "\n",
    "    ####################   \n",
    "    # Circle, main_branchvalues NOT total\n",
    "\n",
    "    labels_Circle_main =    ['Inputs',              'Outputs',            'Storage Change',     'Balance'] + labels_out \n",
    "    parents_Circle_main =   ['Water flows total',   'Water flows total',  'Water flows total',  'Water flows total']           + parents_out\n",
    "    values_Circle_main =    [total_input_adjusted,  total_output,         magnitude_change,    abs(balance)] + values_out \n",
    "    values_Parents_Circle_main = [\"{:.1%}\".format(values_Circle_main[i]/values_Parents_map_Circle[parents_Circle_main[i]]) for i in range(len(values_Circle_main))]\n",
    "    #colors_Circle_main =    ['white']+['positive','negative'] +  ['positive' if total_change>0 else 'negative']+ ['positive' if balance>0 else 'negative'] + ['positive'] + colors_out\n",
    "    #colors_Circle_main =  ['white']+['positive','negative'] +  ['storage']+ ['positive' if balance>0 else 'negative'] + colors_out\n",
    "    colors_Circle_main =  ['positive','negative'] +  ['storage']+ ['white'] + colors_out\n",
    "\n",
    "    labels  =labels_Circle_main\n",
    "    parents =parents_Circle_main\n",
    "    values  =values_Circle_main\n",
    "    colors  =colors_Circle_main\n",
    "    fractions = values_Parents_Circle_main\n",
    "\n",
    "    d={'labels':labels, 'parents':parents, 'values':values, 'colors':colors, 'fractions':fractions}\n",
    "\n",
    "    df = pd.DataFrame(data=d)\n",
    "    fig_Circle_whole_v2 = px.sunburst(df, names='labels', parents='parents', values='values', color='colors', color_discrete_map=colors_Circle_main_discrete_map, hover_data=['fractions'])\n",
    "    # fig.update_layout(uniformtext=dict(minsize=15, mode='hide'))\n",
    "    fig.update_layout(uniformtext=dict(minsize=15))\n",
    "    fig_Circle_whole_v2.update_layout(height=700, title='Water Balance Circle,<br> whole v2<br><br> '+Title)\n",
    "    fig_Circle_whole_v2.update_layout(\n",
    "        title={'y':0.75, 'x':0.05, 'xanchor': 'left', 'yanchor': 'top'}) #, 'font_size':26})\n",
    "\n",
    "    fig_Circle_whole_v2.update_layout(hoverlabel=dict(font_size=16))\n",
    "    #fig_Circle_whole_v2.show()   \n",
    "\n",
    "    ####################\n",
    "    # Waterscape, Bar chart, daily water flows\n",
    "\n",
    "    fig_Waterscape.update_traces(marker=dict(colorscale='twilight'))\n",
    "    fig_Waterscape.update_layout(template='plotly_dark')\n",
    "    #fig_Waterscape.show()\n",
    "\n",
    "    # Bar chart, total, water balance\n",
    "\n",
    "    Bar_WB=go.Figure(go.Bar(x=['Inputs', 'Outputs', 'Storage Change', 'Water balance'], y=[total_input_adjusted, total_output, abs(total_change), balance],marker=dict(color=['#636EFA', '#EF5538','#00CC96','black'])))\n",
    "    Bar_WB.update_layout(title = 'Water flows, total<br><br> '+Title,\n",
    "                      yaxis_title = 'Total Flow (M3/simulation) ', template='plotly_dark')\n",
    "\n",
    "    #VARS = [[Input_current, 'Inputs', Total_input, 1, '', Input_daily], \n",
    "    #        [Output_current, 'Outputs', Total_output, -1, '', Output_daily], \n",
    "    #        [Storage_current, 'Storage', Total_change, -1, ' Change', Change_daily] ]\n",
    "    # Line graph, and lines on Water Balance, waterscape\n",
    "    Line_WB = go.Figure()\n",
    "    Line_WB.update_layout(title = 'Water flows, daily<br><br> '+Title, xaxis_title = 'Days',yaxis_title = 'Flow (M3/day)', template='plotly_dark')\n",
    "\n",
    "    for VAR in VARS:\n",
    "\n",
    "        # Waterscape Line graph\n",
    "        Line_WB.add_trace(go.Scatter(x=X, y=VAR[3]*VAR[5], fill='tozeroy', name=VAR[1]+VAR[4]))\n",
    "\n",
    "        # Waterscape Bar chart, adding lines\n",
    "        if VAR[1] == 'Inputs':\n",
    "            color = '#636EFA'\n",
    "        if VAR[1] == 'Outputs':\n",
    "            color = '#EF553B'\n",
    "        if VAR[1] == 'Storage':\n",
    "            color = '#00CC96'\n",
    "\n",
    "        fig_Waterscape.add_trace(go.Scatter(x=X, y=VAR[3]*VAR[5], name=VAR[1]+VAR[4], line=dict(color=color))) #,  #visible='legendonly')) {'positive':'rgb(128,177,211)','negative':'#EF5538', 'white':'white'}\n",
    "    \n",
    "    Line_WB.add_trace(go.Scatter(x=X, y=VARS[0][3]*VARS[0][5] + VARS[1][3]*VARS[1][5] + VARS[2][3]*VARS[2][5], fill='tozeroy', name= ' balance')) #VAR[1]+VAR[4]))\n",
    "    ####################  \n",
    "    # Table\n",
    "    # intialise data of lists.\n",
    "    data_WB = {'Water flows, total: '+Title:['Inputs', 'Outputs', 'Storage Change', 'Balance', 'Balance over all flows (%):'],'BMC':[  total_input_adjusted/1_000_000_000,   total_output/1_000_000_000,   total_change/1_000_000_000,   balance/1_000_000_000, percent_accurate_WB]}\n",
    "    # Create DataFrame\n",
    "    df = pd.DataFrame(data_WB)\n",
    "    df=df.style.set_table_styles([{'selector': 'th', 'props': [('font-size', '15pt')]}]).set_properties(**{\"font-size\": \"15pt\"}).hide_index()\n",
    "\n",
    "\n",
    "\n",
    "    ####################   \n",
    "    # Print examples.\n",
    "    #fig_Circle_simple.show()\n",
    "    #fig.show()\n",
    "    #fig_Circle_whole_v2.show() \n",
    "    #Line_WB.show()\n",
    "    #fig_Waterscape.show()\n",
    "    #Bar_WB.show()\n",
    "    #display(df)\n",
    "    #po.iplot(figure)\n",
    "\n",
    "    Figures['fig_Circle_simple_'+section[0]]= fig_Circle_simple\n",
    "    Figures['fig_'+section[0]]= fig\n",
    "    Figures['fig_Circle_whole_v2_'+section[0]]= fig_Circle_whole_v2\n",
    "    Figures['Line_WB_'+section[0]]= Line_WB\n",
    "    \n",
    "    Figures['fig_Waterscape_'+section[0]]= fig_Waterscape\n",
    "    Figures['Bar_WB_'+section[0]]= Bar_WB\n",
    "    Figures['df_'+section[0]]= df\n",
    "    Figures['figure_'+section[0]]= figure\n",
    "    \n",
    "    #'Lakes and Reservoirs'\n",
    "    "
   ]
  },
  {
   "cell_type": "code",
   "execution_count": null,
   "metadata": {},
   "outputs": [],
   "source": [
    "#Line_WB.show()"
   ]
  },
  {
   "cell_type": "markdown",
   "metadata": {
    "extensions": {
     "jupyter_dashboards": {
      "version": 1,
      "views": {
       "grid_default": {},
       "report_default": {
        "hidden": false
       }
      }
     }
    }
   },
   "source": [
    "# Water balance\n",
    "\n",
    "A water balance is used to understand how water flows through a system. This includes how much rainfall goes into the soil and evapotranspires and how much flows as river discharge. What is groundwater recharge and what is groundwater dischrage as baseflow and capillary rise? The water balance is an application of the conservation of mass, and thus the inputs to the system should equal the outputs from the system plus whatever stayed in the system. \n",
    "\n",
    "$\\text{Inputs} - \\left(\\text{Outputs} +\\Delta\\text{Storage}\\right) = 0$\n"
   ]
  },
  {
   "cell_type": "markdown",
   "metadata": {
    "extensions": {
     "jupyter_dashboards": {
      "version": 1,
      "views": {
       "grid_default": {},
       "report_default": {
        "hidden": false
       }
      }
     }
    }
   },
   "source": [
    "## Water balance circle\n",
    "\n",
    "The water balance is illustrated below in a sunburst pie chart. \n",
    "1. If the water balance circle is closed (no blank white gap), then the water balance is also closed. \n",
    "2. The dominant inputs and outputs of the system are labelled, while the other variables and their values are seen by hovering the cursor over the smaller slices.\n",
    "3. Inputs are blue, outputs are red, and storage is green. The partitioned storage change colours relate to the storage either increasing (input = blue) or decreasing (output = red)."
   ]
  },
  {
   "cell_type": "code",
   "execution_count": null,
   "metadata": {
    "extensions": {
     "jupyter_dashboards": {
      "version": 1,
      "views": {
       "grid_default": {},
       "report_default": {
        "hidden": false
       }
      }
     }
    },
    "scrolled": false
   },
   "outputs": [],
   "source": [
    "#Figures['fig_Circle_whole_v2_'].show()\n",
    "\n",
    "#Figures['fig_Circle_simple_'].show()\n",
    "#Figures['fig_'].show()\n"
   ]
  },
  {
   "cell_type": "markdown",
   "metadata": {
    "extensions": {
     "jupyter_dashboards": {
      "version": 1,
      "views": {
       "grid_default": {},
       "report_default": {
        "hidden": false
       }
      }
     }
    }
   },
   "source": [
    "## Water balance: Bar chart and Table\n",
    "\n",
    "The total water balance visualised with the water balance circle presented above, is presented here as a bar chart and table.\n",
    "\n",
    "The Balance over all flows (%) entry in the table is the following calculation: $\\frac{\\text{Inputs} - \\left(\\text{Outputs} +\\Delta\\text{Storage}\\right)}{\\frac{1}{2} \\left(\\text{Inputs} + \\text{Outputs} +\\Delta\\text{Storage}\\right)}*100$\n",
    "\n"
   ]
  },
  {
   "cell_type": "code",
   "execution_count": null,
   "metadata": {
    "extensions": {
     "jupyter_dashboards": {
      "version": 1,
      "views": {
       "grid_default": {},
       "report_default": {
        "hidden": false
       }
      }
     }
    }
   },
   "outputs": [],
   "source": [
    "#Figures['Bar_WB_'].show()\n",
    "#display(Figures['df_'])"
   ]
  },
  {
   "cell_type": "markdown",
   "metadata": {
    "extensions": {
     "jupyter_dashboards": {
      "version": 1,
      "views": {
       "grid_default": {},
       "report_default": {
        "hidden": false
       }
      }
     }
    }
   },
   "source": [
    "## Water balance waterscape: daily fluxes\n",
    "\n",
    "In this Water balance waterscape, the inputs are positive, while the outputs and increases in storage are negative. If the water balance is closed, the area of the top half of the graph should equal that of the bottom half.\n",
    "\n",
    "The different flows can be visulised in different combinations: \n",
    "- Deselect flows to visualise by clicking on their legend entry.\n",
    "- A single flow can be isolated by double clicking on the legend entry, and double-clicking a single entry includes all the flows in the visulaistion.\n",
    "- Graphs showing the total inputs, outputs, and changes in storage daily can be visualised by activating the the Inputs, Outputs, and Change in Storage entries in the legend. These are initially turned off."
   ]
  },
  {
   "cell_type": "raw",
   "metadata": {
    "extensions": {
     "jupyter_dashboards": {
      "version": 1,
      "views": {
       "grid_default": {},
       "report_default": {
        "hidden": false
       }
      }
     }
    }
   },
   "source": [
    "Figures['Line_WB_'].show()\n",
    "Figures['fig_Waterscape_'].show()\n"
   ]
  },
  {
   "cell_type": "markdown",
   "metadata": {
    "extensions": {
     "jupyter_dashboards": {
      "version": 1,
      "views": {
       "grid_default": {},
       "report_default": {
        "hidden": false
       }
      }
     }
    }
   },
   "source": [
    "## Specific flows and storages\n",
    "\n",
    "The specific flow and storage variables used in CWatM related to this water balance can be visualised over the simulation period. "
   ]
  },
  {
   "cell_type": "code",
   "execution_count": null,
   "metadata": {
    "extensions": {
     "jupyter_dashboards": {
      "version": 1,
      "views": {
       "grid_default": {},
       "report_default": {
        "hidden": false
       }
      }
     }
    },
    "scrolled": false
   },
   "outputs": [],
   "source": [
    "#po.init_notebook_mode() \n",
    "\n",
    "#po.iplot(Figures['figure_'])"
   ]
  },
  {
   "cell_type": "markdown",
   "metadata": {},
   "source": [
    "Water to satisfy requests are potentially available from five main sources: \n",
    "1.\tlocal rivers and waterbodies, \n",
    "2.\tshared river water within “lift areas”, \n",
    "3.\treservoir water within “command areas”, and\n",
    "4.\tlocal groundwater pumping\n",
    "\n",
    "\n",
    "The amount asked of each water source to satisfy requests is determined cell-specific using six \"abstraction fractions\". Abstraction fractions distribute the share of surface and groundwaters to satisfy water requests.\n",
    "After the specific surface water abstractions take place the total withdrawn surface water is used to satisfy first urban & rural requests, and then those of irrigation. The full remaining urban & rural water request will be asked of groundwater. Up to all of the remaining irrigation request will be asked of groundwater. \n",
    "\n",
    "Abstraction Fraction | Description | Variable\n",
    "--- | --- | ---\n",
    "$\\text{frac}_{Irr}^{sw}$ | fraction of irrigation request from surface water | swAbstractionFraction_Irr \n",
    "$\\text{frac}_{nonIrr}^{sw}$ | fraction of domestic request from surface water|  swAbstractionFraction_nonIrr\n",
    "$\\text{frac}_{local}^{sw}$| fraction of surface water request from local water | swAbstractionFraction_Local\n",
    "$\\text{frac}_{lift}^{sw}$ |fraction of surface water request from lift area | swAbstractionFraction_Lift \n",
    "$\\text{frac}_{command}^{sw}$ | fraction of surface water request from command area | swAbstractionFraction_nonLocal\n",
    "$\\text{frac}_{Irr}^{gw}$| fraction of irrigation request from groundwater | gwAbstractionFraction_Irr "
   ]
  },
  {
   "cell_type": "raw",
   "metadata": {
    "extensions": {
     "jupyter_dashboards": {
      "version": 1,
      "views": {
       "grid_default": {},
       "report_default": {
        "hidden": false
       }
      }
     }
    },
    "scrolled": false
   },
   "source": [
    "for name in ['Groundwater', 'Lakes and Reservoirs', 'Soil', 'Withdrawal', 'Consumption']:\n",
    "    #Figures['fig_Circle_simple_'+name].show()\n",
    "    Figures['Line_WB_'+name].show()\n",
    "    Figures['fig_'+name].show()   \n",
    "    #Figures['fig_Circle_whole_v2_'+name].show()\n",
    "    \n",
    "for name in ['Groundwater', 'Lakes and Reservoirs', 'Soil', 'Withdrawal', 'Consumption']:\n",
    "    Figures['Bar_WB_'+name].show()\n",
    "    display(Figures['df_'+name])\n",
    "\n",
    "\n",
    "for name in ['Groundwater', 'Lakes and Reservoirs', 'Soil', 'Withdrawal', 'Consumption']:\n",
    "    #Figures['Line_WB_'+name].show()\n",
    "    Figures['fig_Waterscape_'+name].show()\n",
    "\n",
    "\n",
    "\n",
    "for name in ['Groundwater', 'Lakes and Reservoirs', 'Withdrawal', 'Soil', 'Consumption']:\n",
    "    po.iplot(Figures['figure_'+name])"
   ]
  },
  {
   "cell_type": "code",
   "execution_count": null,
   "metadata": {
    "extensions": {
     "jupyter_dashboards": {
      "version": 1,
      "views": {
       "grid_default": {},
       "report_default": {
        "hidden": true
       }
      }
     }
    }
   },
   "outputs": [],
   "source": []
  }
 ],
 "metadata": {
  "extensions": {
   "jupyter_dashboards": {
    "activeView": "report_default",
    "version": 1,
    "views": {
     "grid_default": {
      "cellMargin": 10,
      "defaultCellHeight": 20,
      "maxColumns": 12,
      "name": "grid",
      "type": "grid"
     },
     "report_default": {
      "name": "report",
      "type": "report"
     }
    }
   }
  },
  "kernelspec": {
   "display_name": "Python 3",
   "language": "python",
   "name": "python3"
  },
  "language_info": {
   "codemirror_mode": {
    "name": "ipython",
    "version": 3
   },
   "file_extension": ".py",
   "mimetype": "text/x-python",
   "name": "python",
   "nbconvert_exporter": "python",
   "pygments_lexer": "ipython3",
   "version": "3.9.9"
  }
 },
 "nbformat": 4,
 "nbformat_minor": 2
}
