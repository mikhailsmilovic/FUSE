{
 "cells": [
  {
   "cell_type": "markdown",
   "metadata": {},
   "source": [
    "## Land cover and use"
   ]
  },
  {
   "cell_type": "markdown",
   "metadata": {},
   "source": [
    "The flow of water through and within a cell is influenced by the distribution of land covers and use. The flows addressed separately for each land cover include irrigation, soil infiltration & percolation, groundwater recharge, capillary rise, evapotranspiration, and runoff. \n",
    "\n",
    "There are six land covers in CWatM:\n",
    "0. Forest\n",
    "1. Grasslands and rainfed fields\n",
    "2. Paddy fields\n",
    "3. Irrigated fields\n",
    "4. Sealed\n",
    "5. Water"
   ]
  },
  {
   "cell_type": "code",
   "execution_count": null,
   "metadata": {},
   "outputs": [],
   "source": []
  }
 ],
 "metadata": {
  "kernelspec": {
   "display_name": "Python 3",
   "language": "python",
   "name": "python3"
  },
  "language_info": {
   "codemirror_mode": {
    "name": "ipython",
    "version": 3
   },
   "file_extension": ".py",
   "mimetype": "text/x-python",
   "name": "python",
   "nbconvert_exporter": "python",
   "pygments_lexer": "ipython3",
   "version": "3.7.5"
  }
 },
 "nbformat": 4,
 "nbformat_minor": 2
}
