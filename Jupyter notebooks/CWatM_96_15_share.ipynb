{
 "cells": [
  {
   "cell_type": "markdown",
   "metadata": {},
   "source": [
    "### Import Functions"
   ]
  },
  {
   "cell_type": "code",
   "execution_count": 1,
   "metadata": {},
   "outputs": [],
   "source": [
    "import pandas as pd\n",
    "import xarray as xr\n",
    "import matplotlib.pyplot as plt\n",
    "import geopandas as gpd\n",
    "import numpy as np"
   ]
  },
  {
   "cell_type": "markdown",
   "metadata": {},
   "source": [
    "### Read CWatM simulation results"
   ]
  },
  {
   "cell_type": "code",
   "execution_count": 2,
   "metadata": {},
   "outputs": [],
   "source": [
    "output_folder = r\"C:/CWatM_output_Examples/CWatM_output_July5\"\n",
    "#output_folder2 = r\"C:\\CWatM_output_0624\""
   ]
  },
  {
   "cell_type": "code",
   "execution_count": 3,
   "metadata": {},
   "outputs": [],
   "source": [
    "# variables of interest \n",
    "variables = ['discharge', 'lakeResInflowDis', \n",
    "             'act_bigLakeResAbst_alloc',  'act_bigLakeResAbst','lakeResOutflowDis',\n",
    "             'lakeResStorage','act_LocalLakeAbstractM3','EvapWaterBodyM','CellArea','leakage','act_indWithdrawal']"
   ]
  },
  {
   "cell_type": "code",
   "execution_count": 5,
   "metadata": {},
   "outputs": [
    {
     "data": {
      "text/plain": [
       "'\\n# 2004/06/01 - 2015/06/01\\nfile_path2 = {}\\nfile2 = {}\\nfor i in range(10): \\n    file_path2[i] = output_folder2 + \"/\" + variables[i] + \"_\" + \"daily.nc\"\\n    file2[i] = xr.open_dataarray(file_path2[i])\\n'"
      ]
     },
     "execution_count": 5,
     "metadata": {},
     "output_type": "execute_result"
    }
   ],
   "source": [
    "# 1995/06/01 - 2004/05/31\n",
    "file_path = {}\n",
    "file = {}\n",
    "for i in range(11): \n",
    "    file_path[i] = output_folder + \"/\" + variables[i] + \"_\" + \"daily.nc\"\n",
    "    file[i] = xr.open_dataarray(file_path[i],decode_times=False)\n",
    "    reference_date = '2005-04-20'\n",
    "    file[i]['time'] = pd.date_range(start=reference_date, periods=file[i].sizes['time'], freq='D')\n",
    "\"\"\"\n",
    "# 2004/06/01 - 2015/06/01\n",
    "file_path2 = {}\n",
    "file2 = {}\n",
    "for i in range(10): \n",
    "    file_path2[i] = output_folder2 + \"/\" + variables[i] + \"_\" + \"daily.nc\"\n",
    "    file2[i] = xr.open_dataarray(file_path2[i])\n",
    "\"\"\""
   ]
  },
  {
   "cell_type": "markdown",
   "metadata": {},
   "source": [
    "### River Gauges"
   ]
  },
  {
   "cell_type": "code",
   "execution_count": 6,
   "metadata": {},
   "outputs": [],
   "source": [
    "Sarati = (17.91138889, 75.0075)\n",
    "Wadakbal = (17.53416667, 75.88)\n",
    "Takli = (17.41305556, 75.84777778)\n",
    "Daund = (18.47944444, 74.57527778)\n",
    "Bhima = (17.3875, 75.89583) \n",
    "Koregaon = (18.6439,74.0542)\n",
    "Khamgoan = (18.545,74.21861111)\n",
    "Pandarpur = (17.69083333, 75.32666667)"
   ]
  },
  {
   "cell_type": "markdown",
   "metadata": {},
   "source": [
    "### Functions"
   ]
  },
  {
   "cell_type": "code",
   "execution_count": 7,
   "metadata": {},
   "outputs": [],
   "source": [
    "def geo_idx(dd, dd_array):\n",
    "   \"\"\"\n",
    "     search for nearest decimal degree in an array of decimal degrees and return the index.\n",
    "     np.argmin returns the indices of minium value along an axis.\n",
    "     so subtract dd from all values in dd_array, take absolute value and find index of minium.\n",
    "    \"\"\"\n",
    "   geo_idx = (np.abs(dd_array - dd)).argmin()\n",
    "   return geo_idx"
   ]
  },
  {
   "cell_type": "code",
   "execution_count": 8,
   "metadata": {},
   "outputs": [],
   "source": [
    "def ms(da,lat_id,lon_id):\n",
    "    year_month_idx = pd.MultiIndex.from_arrays([da['time.year'], da['time.month']])\n",
    "    da.coords['year_month'] = ('time', year_month_idx)\n",
    "    monthlysum = da[:,lat_id,lon_id].groupby('year_month').sum(...) \n",
    "    return monthlysum "
   ]
  },
  {
   "cell_type": "code",
   "execution_count": 9,
   "metadata": {},
   "outputs": [],
   "source": [
    "def ds(da,lat_id,lon_id):\n",
    "    year_month_idx = pd.MultiIndex.from_arrays([da['time.year'], da['time.month']])\n",
    "    da.coords['year_month'] = ('time', year_month_idx)\n",
    "    dailysum = da[:,lat_id,lon_id].groupby('time').sum(...) \n",
    "    return dailysum "
   ]
  },
  {
   "cell_type": "code",
   "execution_count": 10,
   "metadata": {},
   "outputs": [],
   "source": [
    "def ys(da,lat_id,lon_id):\n",
    "    year_month_idx = pd.MultiIndex.from_arrays([da['time.year'], da['time.month']])\n",
    "    da.coords['year_month'] = ('time', year_month_idx)\n",
    "    yearlysum = da[:,lat_id,lon_id].groupby('time.year').sum(...) \n",
    "    return yearlysum "
   ]
  },
  {
   "cell_type": "markdown",
   "metadata": {},
   "source": [
    "### discharge"
   ]
  },
  {
   "cell_type": "raw",
   "metadata": {
    "scrolled": true
   },
   "source": [
    "da_combine_dis = xr.concat([file[0][214:3288], file2[0]], dim=\"time\")"
   ]
  },
  {
   "cell_type": "code",
   "execution_count": 12,
   "metadata": {},
   "outputs": [],
   "source": [
    "da=file[0]"
   ]
  },
  {
   "cell_type": "markdown",
   "metadata": {},
   "source": [
    "### Sarati"
   ]
  },
  {
   "cell_type": "code",
   "execution_count": 13,
   "metadata": {},
   "outputs": [],
   "source": [
    "outlet = Sarati\n",
    "\n",
    "lats = da['lat'][:]\n",
    "lons = da['lon'][:]\n",
    "\n",
    "in_lat = outlet[0]\n",
    "in_lon = outlet[1]\n",
    "\n",
    "lat_idx = geo_idx(in_lat, lats)\n",
    "lon_idx = geo_idx(in_lon, lons)"
   ]
  },
  {
   "cell_type": "code",
   "execution_count": 20,
   "metadata": {},
   "outputs": [],
   "source": [
    "sarati_csv = r\"C:\\Users\\mikha\\Box\\FUSE_Modeling_Team\\2-PUNE_INDIA\\2.2-DATA\\2.2.1-SPATIAL_DATA\\PROCESSING\\River_Discharge\\DailyData/Sarati_DailyDischarge_CWC.xlsx\""
   ]
  },
  {
   "cell_type": "code",
   "execution_count": 21,
   "metadata": {},
   "outputs": [],
   "source": [
    "sarati_pd = pd.read_excel(sarati_csv)"
   ]
  },
  {
   "cell_type": "code",
   "execution_count": 22,
   "metadata": {},
   "outputs": [],
   "source": [
    "sarati_pd['year'] = pd.DatetimeIndex(sarati_pd['Unnamed: 0']).year"
   ]
  },
  {
   "cell_type": "code",
   "execution_count": 23,
   "metadata": {},
   "outputs": [],
   "source": [
    "sarati_year = sarati_pd[\"Discharge[m^3/s]:Instantaneous\"].groupby(sarati_pd['year']).sum()*3600*24*1e-6"
   ]
  },
  {
   "cell_type": "code",
   "execution_count": 24,
   "metadata": {},
   "outputs": [],
   "source": [
    "sarati_pd['month'] = pd.DatetimeIndex(sarati_pd['Unnamed: 0']).month"
   ]
  },
  {
   "cell_type": "code",
   "execution_count": 25,
   "metadata": {},
   "outputs": [],
   "source": [
    "sarati_month = sarati_pd[\"Discharge[m^3/s]:Instantaneous\"].groupby([sarati_pd['year'],sarati_pd['month']]).sum().reset_index()"
   ]
  },
  {
   "cell_type": "code",
   "execution_count": 27,
   "metadata": {
    "scrolled": false
   },
   "outputs": [
    {
     "ename": "ValueError",
     "evalue": "x and y must have same first dimension, but have shapes (6361,) and (2598,)",
     "output_type": "error",
     "traceback": [
      "\u001b[1;31m---------------------------------------------------------------------------\u001b[0m",
      "\u001b[1;31mValueError\u001b[0m                                Traceback (most recent call last)",
      "\u001b[1;32m<ipython-input-27-c4e2d817d95c>\u001b[0m in \u001b[0;36m<module>\u001b[1;34m\u001b[0m\n\u001b[0;32m      1\u001b[0m \u001b[0mfig\u001b[0m\u001b[1;33m,\u001b[0m \u001b[0max\u001b[0m \u001b[1;33m=\u001b[0m \u001b[0mplt\u001b[0m\u001b[1;33m.\u001b[0m\u001b[0msubplots\u001b[0m\u001b[1;33m(\u001b[0m\u001b[0mfigsize\u001b[0m\u001b[1;33m=\u001b[0m\u001b[1;33m(\u001b[0m\u001b[1;36m10\u001b[0m\u001b[1;33m,\u001b[0m\u001b[1;36m6\u001b[0m\u001b[1;33m)\u001b[0m\u001b[1;33m)\u001b[0m\u001b[1;33m\u001b[0m\u001b[1;33m\u001b[0m\u001b[0m\n\u001b[0;32m      2\u001b[0m \u001b[1;31m#plt.plot(sarati_pd['Unnamed: 0'][1:],ds(da_combine_dis,lat_idx,lon_idx)[:-365*2-1],color='blue',label='CWatM simulation')\u001b[0m\u001b[1;33m\u001b[0m\u001b[1;33m\u001b[0m\u001b[1;33m\u001b[0m\u001b[0m\n\u001b[1;32m----> 3\u001b[1;33m \u001b[0mplt\u001b[0m\u001b[1;33m.\u001b[0m\u001b[0mplot\u001b[0m\u001b[1;33m(\u001b[0m\u001b[0msarati_pd\u001b[0m\u001b[1;33m[\u001b[0m\u001b[1;34m'Unnamed: 0'\u001b[0m\u001b[1;33m]\u001b[0m\u001b[1;33m[\u001b[0m\u001b[1;36m1\u001b[0m\u001b[1;33m:\u001b[0m\u001b[1;33m]\u001b[0m\u001b[1;33m,\u001b[0m\u001b[0mds\u001b[0m\u001b[1;33m(\u001b[0m\u001b[0mda\u001b[0m\u001b[1;33m,\u001b[0m\u001b[0mlat_idx\u001b[0m\u001b[1;33m,\u001b[0m\u001b[0mlon_idx\u001b[0m\u001b[1;33m)\u001b[0m\u001b[1;33m[\u001b[0m\u001b[1;33m:\u001b[0m\u001b[1;33m-\u001b[0m\u001b[1;36m365\u001b[0m\u001b[1;33m*\u001b[0m\u001b[1;36m2\u001b[0m\u001b[1;33m-\u001b[0m\u001b[1;36m1\u001b[0m\u001b[1;33m]\u001b[0m\u001b[1;33m,\u001b[0m\u001b[0mcolor\u001b[0m\u001b[1;33m=\u001b[0m\u001b[1;34m'blue'\u001b[0m\u001b[1;33m,\u001b[0m\u001b[0mlabel\u001b[0m\u001b[1;33m=\u001b[0m\u001b[1;34m'CWatM simulation'\u001b[0m\u001b[1;33m)\u001b[0m\u001b[1;33m\u001b[0m\u001b[1;33m\u001b[0m\u001b[0m\n\u001b[0m\u001b[0;32m      4\u001b[0m \u001b[1;33m\u001b[0m\u001b[0m\n\u001b[0;32m      5\u001b[0m \u001b[0mplt\u001b[0m\u001b[1;33m.\u001b[0m\u001b[0mplot\u001b[0m\u001b[1;33m(\u001b[0m\u001b[0msarati_pd\u001b[0m\u001b[1;33m[\u001b[0m\u001b[1;34m'Unnamed: 0'\u001b[0m\u001b[1;33m]\u001b[0m\u001b[1;33m[\u001b[0m\u001b[1;36m1\u001b[0m\u001b[1;33m:\u001b[0m\u001b[1;33m]\u001b[0m\u001b[1;33m,\u001b[0m\u001b[0msarati_pd\u001b[0m\u001b[1;33m[\u001b[0m\u001b[1;34m'Discharge[m^3/s]:Instantaneous'\u001b[0m\u001b[1;33m]\u001b[0m\u001b[1;33m[\u001b[0m\u001b[1;36m1\u001b[0m\u001b[1;33m:\u001b[0m\u001b[1;33m]\u001b[0m\u001b[1;33m,\u001b[0m\u001b[0mcolor\u001b[0m\u001b[1;33m=\u001b[0m\u001b[1;34m'red'\u001b[0m\u001b[1;33m,\u001b[0m\u001b[0mlabel\u001b[0m\u001b[1;33m=\u001b[0m\u001b[1;34m'flow gauged at CWC station'\u001b[0m\u001b[1;33m)\u001b[0m\u001b[1;33m\u001b[0m\u001b[1;33m\u001b[0m\u001b[0m\n",
      "\u001b[1;32mc:\\users\\mikha\\envs\\test\\lib\\site-packages\\matplotlib\\pyplot.py\u001b[0m in \u001b[0;36mplot\u001b[1;34m(scalex, scaley, data, *args, **kwargs)\u001b[0m\n\u001b[0;32m   2787\u001b[0m     return gca().plot(\n\u001b[0;32m   2788\u001b[0m         *args, scalex=scalex, scaley=scaley, **({\"data\": data} if data\n\u001b[1;32m-> 2789\u001b[1;33m         is not None else {}), **kwargs)\n\u001b[0m\u001b[0;32m   2790\u001b[0m \u001b[1;33m\u001b[0m\u001b[0m\n\u001b[0;32m   2791\u001b[0m \u001b[1;33m\u001b[0m\u001b[0m\n",
      "\u001b[1;32mc:\\users\\mikha\\envs\\test\\lib\\site-packages\\matplotlib\\axes\\_axes.py\u001b[0m in \u001b[0;36mplot\u001b[1;34m(self, scalex, scaley, data, *args, **kwargs)\u001b[0m\n\u001b[0;32m   1663\u001b[0m         \"\"\"\n\u001b[0;32m   1664\u001b[0m         \u001b[0mkwargs\u001b[0m \u001b[1;33m=\u001b[0m \u001b[0mcbook\u001b[0m\u001b[1;33m.\u001b[0m\u001b[0mnormalize_kwargs\u001b[0m\u001b[1;33m(\u001b[0m\u001b[0mkwargs\u001b[0m\u001b[1;33m,\u001b[0m \u001b[0mmlines\u001b[0m\u001b[1;33m.\u001b[0m\u001b[0mLine2D\u001b[0m\u001b[1;33m.\u001b[0m\u001b[0m_alias_map\u001b[0m\u001b[1;33m)\u001b[0m\u001b[1;33m\u001b[0m\u001b[1;33m\u001b[0m\u001b[0m\n\u001b[1;32m-> 1665\u001b[1;33m         \u001b[0mlines\u001b[0m \u001b[1;33m=\u001b[0m \u001b[1;33m[\u001b[0m\u001b[1;33m*\u001b[0m\u001b[0mself\u001b[0m\u001b[1;33m.\u001b[0m\u001b[0m_get_lines\u001b[0m\u001b[1;33m(\u001b[0m\u001b[1;33m*\u001b[0m\u001b[0margs\u001b[0m\u001b[1;33m,\u001b[0m \u001b[0mdata\u001b[0m\u001b[1;33m=\u001b[0m\u001b[0mdata\u001b[0m\u001b[1;33m,\u001b[0m \u001b[1;33m**\u001b[0m\u001b[0mkwargs\u001b[0m\u001b[1;33m)\u001b[0m\u001b[1;33m]\u001b[0m\u001b[1;33m\u001b[0m\u001b[1;33m\u001b[0m\u001b[0m\n\u001b[0m\u001b[0;32m   1666\u001b[0m         \u001b[1;32mfor\u001b[0m \u001b[0mline\u001b[0m \u001b[1;32min\u001b[0m \u001b[0mlines\u001b[0m\u001b[1;33m:\u001b[0m\u001b[1;33m\u001b[0m\u001b[1;33m\u001b[0m\u001b[0m\n\u001b[0;32m   1667\u001b[0m             \u001b[0mself\u001b[0m\u001b[1;33m.\u001b[0m\u001b[0madd_line\u001b[0m\u001b[1;33m(\u001b[0m\u001b[0mline\u001b[0m\u001b[1;33m)\u001b[0m\u001b[1;33m\u001b[0m\u001b[1;33m\u001b[0m\u001b[0m\n",
      "\u001b[1;32mc:\\users\\mikha\\envs\\test\\lib\\site-packages\\matplotlib\\axes\\_base.py\u001b[0m in \u001b[0;36m__call__\u001b[1;34m(self, *args, **kwargs)\u001b[0m\n\u001b[0;32m    223\u001b[0m                 \u001b[0mthis\u001b[0m \u001b[1;33m+=\u001b[0m \u001b[0margs\u001b[0m\u001b[1;33m[\u001b[0m\u001b[1;36m0\u001b[0m\u001b[1;33m]\u001b[0m\u001b[1;33m,\u001b[0m\u001b[1;33m\u001b[0m\u001b[1;33m\u001b[0m\u001b[0m\n\u001b[0;32m    224\u001b[0m                 \u001b[0margs\u001b[0m \u001b[1;33m=\u001b[0m \u001b[0margs\u001b[0m\u001b[1;33m[\u001b[0m\u001b[1;36m1\u001b[0m\u001b[1;33m:\u001b[0m\u001b[1;33m]\u001b[0m\u001b[1;33m\u001b[0m\u001b[1;33m\u001b[0m\u001b[0m\n\u001b[1;32m--> 225\u001b[1;33m             \u001b[1;32myield\u001b[0m \u001b[1;32mfrom\u001b[0m \u001b[0mself\u001b[0m\u001b[1;33m.\u001b[0m\u001b[0m_plot_args\u001b[0m\u001b[1;33m(\u001b[0m\u001b[0mthis\u001b[0m\u001b[1;33m,\u001b[0m \u001b[0mkwargs\u001b[0m\u001b[1;33m)\u001b[0m\u001b[1;33m\u001b[0m\u001b[1;33m\u001b[0m\u001b[0m\n\u001b[0m\u001b[0;32m    226\u001b[0m \u001b[1;33m\u001b[0m\u001b[0m\n\u001b[0;32m    227\u001b[0m     \u001b[1;32mdef\u001b[0m \u001b[0mget_next_color\u001b[0m\u001b[1;33m(\u001b[0m\u001b[0mself\u001b[0m\u001b[1;33m)\u001b[0m\u001b[1;33m:\u001b[0m\u001b[1;33m\u001b[0m\u001b[1;33m\u001b[0m\u001b[0m\n",
      "\u001b[1;32mc:\\users\\mikha\\envs\\test\\lib\\site-packages\\matplotlib\\axes\\_base.py\u001b[0m in \u001b[0;36m_plot_args\u001b[1;34m(self, tup, kwargs)\u001b[0m\n\u001b[0;32m    389\u001b[0m             \u001b[0mx\u001b[0m\u001b[1;33m,\u001b[0m \u001b[0my\u001b[0m \u001b[1;33m=\u001b[0m \u001b[0mindex_of\u001b[0m\u001b[1;33m(\u001b[0m\u001b[0mtup\u001b[0m\u001b[1;33m[\u001b[0m\u001b[1;33m-\u001b[0m\u001b[1;36m1\u001b[0m\u001b[1;33m]\u001b[0m\u001b[1;33m)\u001b[0m\u001b[1;33m\u001b[0m\u001b[1;33m\u001b[0m\u001b[0m\n\u001b[0;32m    390\u001b[0m \u001b[1;33m\u001b[0m\u001b[0m\n\u001b[1;32m--> 391\u001b[1;33m         \u001b[0mx\u001b[0m\u001b[1;33m,\u001b[0m \u001b[0my\u001b[0m \u001b[1;33m=\u001b[0m \u001b[0mself\u001b[0m\u001b[1;33m.\u001b[0m\u001b[0m_xy_from_xy\u001b[0m\u001b[1;33m(\u001b[0m\u001b[0mx\u001b[0m\u001b[1;33m,\u001b[0m \u001b[0my\u001b[0m\u001b[1;33m)\u001b[0m\u001b[1;33m\u001b[0m\u001b[1;33m\u001b[0m\u001b[0m\n\u001b[0m\u001b[0;32m    392\u001b[0m \u001b[1;33m\u001b[0m\u001b[0m\n\u001b[0;32m    393\u001b[0m         \u001b[1;32mif\u001b[0m \u001b[0mself\u001b[0m\u001b[1;33m.\u001b[0m\u001b[0mcommand\u001b[0m \u001b[1;33m==\u001b[0m \u001b[1;34m'plot'\u001b[0m\u001b[1;33m:\u001b[0m\u001b[1;33m\u001b[0m\u001b[1;33m\u001b[0m\u001b[0m\n",
      "\u001b[1;32mc:\\users\\mikha\\envs\\test\\lib\\site-packages\\matplotlib\\axes\\_base.py\u001b[0m in \u001b[0;36m_xy_from_xy\u001b[1;34m(self, x, y)\u001b[0m\n\u001b[0;32m    268\u001b[0m         \u001b[1;32mif\u001b[0m \u001b[0mx\u001b[0m\u001b[1;33m.\u001b[0m\u001b[0mshape\u001b[0m\u001b[1;33m[\u001b[0m\u001b[1;36m0\u001b[0m\u001b[1;33m]\u001b[0m \u001b[1;33m!=\u001b[0m \u001b[0my\u001b[0m\u001b[1;33m.\u001b[0m\u001b[0mshape\u001b[0m\u001b[1;33m[\u001b[0m\u001b[1;36m0\u001b[0m\u001b[1;33m]\u001b[0m\u001b[1;33m:\u001b[0m\u001b[1;33m\u001b[0m\u001b[1;33m\u001b[0m\u001b[0m\n\u001b[0;32m    269\u001b[0m             raise ValueError(\"x and y must have same first dimension, but \"\n\u001b[1;32m--> 270\u001b[1;33m                              \"have shapes {} and {}\".format(x.shape, y.shape))\n\u001b[0m\u001b[0;32m    271\u001b[0m         \u001b[1;32mif\u001b[0m \u001b[0mx\u001b[0m\u001b[1;33m.\u001b[0m\u001b[0mndim\u001b[0m \u001b[1;33m>\u001b[0m \u001b[1;36m2\u001b[0m \u001b[1;32mor\u001b[0m \u001b[0my\u001b[0m\u001b[1;33m.\u001b[0m\u001b[0mndim\u001b[0m \u001b[1;33m>\u001b[0m \u001b[1;36m2\u001b[0m\u001b[1;33m:\u001b[0m\u001b[1;33m\u001b[0m\u001b[1;33m\u001b[0m\u001b[0m\n\u001b[0;32m    272\u001b[0m             raise ValueError(\"x and y can be no greater than 2-D, but have \"\n",
      "\u001b[1;31mValueError\u001b[0m: x and y must have same first dimension, but have shapes (6361,) and (2598,)"
     ]
    },
    {
     "data": {
      "image/png": "[encoded data removed]",
      "text/plain": [
       "<Figure size 720x432 with 1 Axes>"
      ]
     },
     "metadata": {
      "needs_background": "light"
     },
     "output_type": "display_data"
    }
   ],
   "source": [
    "fig, ax = plt.subplots(figsize=(10,6))\n",
    "#plt.plot(sarati_pd['Unnamed: 0'][1:],ds(da_combine_dis,lat_idx,lon_idx)[:-365*2-1],color='blue',label='CWatM simulation')\n",
    "plt.plot(sarati_pd['Unnamed: 0'][1:],ds(da,lat_idx,lon_idx)[:-365*2-1],color='blue',label='CWatM simulation')\n",
    "\n",
    "plt.plot(sarati_pd['Unnamed: 0'][1:],sarati_pd['Discharge[m^3/s]:Instantaneous'][1:],color='red',label='flow gauged at CWC station')\n",
    "\n",
    "plt.title(\"Sarati discharge per day (m3/s)\")\n",
    "plt.xlabel(\"Time\")\n",
    "plt.ylabel(\"m3/s\")\n",
    "plt.legend(prop={'size': 20})\n",
    "plt.setp(ax.get_xticklabels(), rotation=30, horizontalalignment='right')\n",
    "for item in ([ax.title, ax.xaxis.label, ax.yaxis.label] +\n",
    "             ax.get_xticklabels() + ax.get_yticklabels()):\n",
    "    item.set_fontsize(20)\n",
    "plt.tight_layout()\n",
    "plt.savefig('Sarati_daily.png')"
   ]
  },
  {
   "cell_type": "code",
   "execution_count": null,
   "metadata": {},
   "outputs": [],
   "source": [
    "fig, ax = plt.subplots(figsize=(10, 5))\n",
    "plt.plot(ms(da_combine_dis, lat_idx, lon_idx),color='blue',label='CWatM simulation')\n",
    "plt.plot(sarati_month['Discharge[m^3/s]:Instantaneous'],color='red',label='flow gauged at CWC station')\n",
    "plt.title(\"Sarati discharge m3/s\")\n",
    "plt.xlabel(\"Time\")\n",
    "plt.ylabel(\"m3/s\")\n",
    "plt.xlim([0,208])\n",
    "plt.legend(prop={'size': 20})\n",
    "plt.setp(ax.get_xticklabels(), rotation=0, horizontalalignment='right')\n",
    "for item in ([ax.title, ax.xaxis.label, ax.yaxis.label] +\n",
    "             ax.get_xticklabels() + ax.get_yticklabels()):\n",
    "    item.set_fontsize(20)\n",
    "plt.tight_layout()\n",
    "plt.savefig('Sarati_monthly.png')"
   ]
  },
  {
   "cell_type": "code",
   "execution_count": null,
   "metadata": {
    "scrolled": false
   },
   "outputs": [],
   "source": [
    "fig, ax = plt.subplots(figsize=(10, 5))\n",
    "plt.plot(np.arange(1996,2016), ys(da_combine_dis, lat_idx, lon_idx)*3600*24*1e-6,color='blue',label='CWatM simulation data')\n",
    "plt.plot(sarati_year,color='red',label='flow gauged at CWC station')\n",
    "y_mean = [np.mean(ys(da_combine_dis, lat_idx, lon_idx)*3600*24*1e-6)]*20\n",
    "mean_line = ax.plot(np.arange(1996,2016),y_mean, label='CWatM Mean', linestyle='--',color='blue')\n",
    "\n",
    "y_mean_1 = [np.mean(sarati_year)]*17\n",
    "mean_line_1 = ax.plot(np.arange(1996,2013),y_mean_1, label='CWC Mean', linestyle='--',color='red')\n",
    "\n",
    "plt.title(\"Sarati discharge volume per year\")\n",
    "plt.xlabel(\"Year\")\n",
    "plt.ylabel(\"Mcums\")\n",
    "plt.xlim([1996,2012])\n",
    "plt.legend()\n",
    "plt.setp(ax.get_xticklabels(), rotation=30, horizontalalignment='right')\n",
    "for item in ([ax.title, ax.xaxis.label, ax.yaxis.label] +\n",
    "             ax.get_xticklabels() + ax.get_yticklabels()):\n",
    "    item.set_fontsize(20)\n",
    "plt.tight_layout()\n",
    "plt.savefig('Sarati_yearly.png')"
   ]
  },
  {
   "cell_type": "markdown",
   "metadata": {},
   "source": [
    "### Error Statistics"
   ]
  },
  {
   "cell_type": "code",
   "execution_count": null,
   "metadata": {},
   "outputs": [],
   "source": [
    "sum(ms(da_combine_dis, lat_idx, lon_idx)[0:209] - sarati_month['Discharge[m^3/s]:Instantaneous'])/sum(ms(da_combine_dis, lat_idx, lon_idx)[0:209])"
   ]
  },
  {
   "cell_type": "code",
   "execution_count": null,
   "metadata": {},
   "outputs": [],
   "source": [
    "sum(abs(ms(da_combine_dis, lat_idx, lon_idx)[0:209] - sarati_month['Discharge[m^3/s]:Instantaneous']))/sum(ms(da_combine_dis, lat_idx, lon_idx)[0:209])"
   ]
  },
  {
   "cell_type": "markdown",
   "metadata": {},
   "source": [
    "### Wadakbal"
   ]
  },
  {
   "cell_type": "code",
   "execution_count": null,
   "metadata": {},
   "outputs": [],
   "source": [
    "outlet = Wadakbal\n",
    "\n",
    "lats = da['lat'][:]\n",
    "lons = da['lon'][:]\n",
    "\n",
    "in_lat = outlet[0]\n",
    "in_lon = outlet[1]\n",
    "\n",
    "lat_idx = geo_idx(in_lat, lats)\n",
    "lon_idx = geo_idx(in_lon, lons)"
   ]
  },
  {
   "cell_type": "code",
   "execution_count": null,
   "metadata": {},
   "outputs": [],
   "source": [
    "Wadakbal_csv = r\"C:\\Users\\mikha\\Box\\FUSE_Modeling_Team\\2-PUNE_INDIA\\2.2-DATA\\2.2.1-SPATIAL_DATA\\PROCESSING\\River_Discharge\\DailyData/Wadakba_DailyDischarge_CWC.xlsx\""
   ]
  },
  {
   "cell_type": "code",
   "execution_count": null,
   "metadata": {
    "scrolled": true
   },
   "outputs": [],
   "source": [
    "Wadakbal_pd = pd.read_excel(Wadakbal_csv)"
   ]
  },
  {
   "cell_type": "code",
   "execution_count": null,
   "metadata": {},
   "outputs": [],
   "source": [
    "Wadakbal_pd['year'] = pd.DatetimeIndex(Wadakbal_pd['Unnamed: 0']).year"
   ]
  },
  {
   "cell_type": "code",
   "execution_count": null,
   "metadata": {},
   "outputs": [],
   "source": [
    "Wadakbal_year = Wadakbal_pd[\"Discharge[m^3/s]:Instantaneous\"].groupby(Wadakbal_pd['year']).sum()*3600*24*1e-6"
   ]
  },
  {
   "cell_type": "code",
   "execution_count": null,
   "metadata": {},
   "outputs": [],
   "source": [
    "Wadakbal_pd['month'] = pd.DatetimeIndex(Wadakbal_pd['Unnamed: 0']).month"
   ]
  },
  {
   "cell_type": "code",
   "execution_count": null,
   "metadata": {},
   "outputs": [],
   "source": [
    "Wadakbal_month = Wadakbal_pd[\"Discharge[m^3/s]:Instantaneous\"].groupby([Wadakbal_pd['year'],Wadakbal_pd['month']]).sum().reset_index()"
   ]
  },
  {
   "cell_type": "code",
   "execution_count": null,
   "metadata": {
    "scrolled": false
   },
   "outputs": [],
   "source": [
    "fig, ax = plt.subplots(figsize=(10,6))\n",
    "plt.plot(Wadakbal_pd['Unnamed: 0'][1:],ds(da_combine_dis,lat_idx,lon_idx)[:-8-365*2],color='blue',label='CWatM simulation')\n",
    "plt.plot(Wadakbal_pd['Unnamed: 0'][1:],Wadakbal_pd['Discharge[m^3/s]:Instantaneous'][1:],color='red',label='flow gauged at CWC station')\n",
    "\n",
    "plt.title(\"Wadakbal discharge per day (m3/s)\")\n",
    "plt.xlabel(\"Time\")\n",
    "plt.ylabel(\"m3/s\")\n",
    "plt.legend(prop={'size': 20})\n",
    "plt.setp(ax.get_xticklabels(), rotation=30, horizontalalignment='right')\n",
    "for item in ([ax.title, ax.xaxis.label, ax.yaxis.label] +\n",
    "             ax.get_xticklabels() + ax.get_yticklabels()):\n",
    "    item.set_fontsize(20)\n",
    "plt.tight_layout()\n",
    "plt.savefig('Wadakbal_daily.png')"
   ]
  },
  {
   "cell_type": "code",
   "execution_count": null,
   "metadata": {
    "scrolled": false
   },
   "outputs": [],
   "source": [
    "fig, ax = plt.subplots(figsize=(10, 5))\n",
    "plt.plot(ms(da_combine_dis, lat_idx, lon_idx),color='blue',label='CWatM simulation')\n",
    "plt.plot(Wadakbal_month['Discharge[m^3/s]:Instantaneous'],color='red',label='flow gauged at CWC station')\n",
    "plt.title(\"Wadakbal discharge m3/s\")\n",
    "plt.xlabel(\"Time\")\n",
    "plt.ylabel(\"m3/s\")\n",
    "plt.xlim([0,208])\n",
    "plt.legend(prop={'size': 20})\n",
    "plt.setp(ax.get_xticklabels(), rotation=0, horizontalalignment='right')\n",
    "for item in ([ax.title, ax.xaxis.label, ax.yaxis.label] +\n",
    "             ax.get_xticklabels() + ax.get_yticklabels()):\n",
    "    item.set_fontsize(20)\n",
    "plt.tight_layout()\n",
    "plt.savefig('Wadakbal_monthly.png')"
   ]
  },
  {
   "cell_type": "code",
   "execution_count": null,
   "metadata": {
    "scrolled": false
   },
   "outputs": [],
   "source": [
    "fig, ax = plt.subplots(figsize=(10, 5))\n",
    "plt.plot(np.arange(1996,2016), ys(da_combine_dis, lat_idx, lon_idx)*3600*24*1e-6,color='blue',label='CWatM simulation data')\n",
    "plt.plot(Wadakbal_year,color='red',label='flow gauged at CWC station')\n",
    "y_mean = [np.mean(ys(da_combine_dis, lat_idx, lon_idx)*3600*24*1e-6)]*20\n",
    "mean_line = ax.plot(np.arange(1996,2016),y_mean, label='CWatM Mean', linestyle='--',color='blue')\n",
    "\n",
    "y_mean_1 = [np.mean(Wadakbal_year)]*17\n",
    "mean_line_1 = ax.plot(np.arange(1996,2013),y_mean_1, label='CWC Mean', linestyle='--',color='red')\n",
    "\n",
    "plt.title(\"Wadakbal discharge volume per year\")\n",
    "plt.xlabel(\"Year\")\n",
    "plt.ylabel(\"Mcums\")\n",
    "plt.xlim([1996,2012])\n",
    "plt.legend()\n",
    "plt.setp(ax.get_xticklabels(), rotation=30, horizontalalignment='right')\n",
    "for item in ([ax.title, ax.xaxis.label, ax.yaxis.label] +\n",
    "             ax.get_xticklabels() + ax.get_yticklabels()):\n",
    "    item.set_fontsize(20)\n",
    "plt.tight_layout()\n",
    "plt.savefig('Wadakbal_yearly.png')"
   ]
  },
  {
   "cell_type": "code",
   "execution_count": null,
   "metadata": {},
   "outputs": [],
   "source": [
    "sum(abs(ms(da_combine_dis, lat_idx, lon_idx)[0:209] - Wadakbal_month['Discharge[m^3/s]:Instantaneous']))/sum(ms(da_combine_dis, lat_idx, lon_idx)[0:209])"
   ]
  },
  {
   "cell_type": "code",
   "execution_count": null,
   "metadata": {},
   "outputs": [],
   "source": [
    "sum(ms(da_combine_dis, lat_idx, lon_idx)[0:209] - Wadakbal_month['Discharge[m^3/s]:Instantaneous'])/sum(ms(da_combine_dis, lat_idx, lon_idx)[0:209])"
   ]
  },
  {
   "cell_type": "markdown",
   "metadata": {},
   "source": [
    "### Takli"
   ]
  },
  {
   "cell_type": "code",
   "execution_count": null,
   "metadata": {},
   "outputs": [],
   "source": [
    "outlet = Takli\n",
    "\n",
    "lats = da['lat'][:]\n",
    "lons = da['lon'][:]\n",
    "\n",
    "in_lat = outlet[0]\n",
    "in_lon = outlet[1]\n",
    "\n",
    "lat_idx = geo_idx(in_lat, lats)\n",
    "lon_idx = geo_idx(in_lon, lons)"
   ]
  },
  {
   "cell_type": "code",
   "execution_count": null,
   "metadata": {},
   "outputs": [],
   "source": [
    "Takli_csv = r\"C:\\Users\\mikha\\Box\\FUSE_Modeling_Team\\2-PUNE_INDIA\\2.2-DATA\\2.2.1-SPATIAL_DATA\\PROCESSING\\River_Discharge\\DailyData/Takli_DailyDischarge_CWC.xlsx\""
   ]
  },
  {
   "cell_type": "code",
   "execution_count": null,
   "metadata": {},
   "outputs": [],
   "source": [
    "Takli_pd = pd.read_excel(Takli_csv)"
   ]
  },
  {
   "cell_type": "code",
   "execution_count": null,
   "metadata": {},
   "outputs": [],
   "source": [
    "Takli_pd['year'] = pd.DatetimeIndex(Takli_pd['Unnamed: 0']).year"
   ]
  },
  {
   "cell_type": "code",
   "execution_count": null,
   "metadata": {},
   "outputs": [],
   "source": [
    "Takli_year = Takli_pd[\"Discharge[m^3/s]:Instantaneous\"].groupby(Takli_pd['year']).sum()*3600*24*1e-6"
   ]
  },
  {
   "cell_type": "code",
   "execution_count": null,
   "metadata": {},
   "outputs": [],
   "source": [
    "Takli_pd['month'] = pd.DatetimeIndex(Takli_pd['Unnamed: 0']).month"
   ]
  },
  {
   "cell_type": "code",
   "execution_count": null,
   "metadata": {},
   "outputs": [],
   "source": [
    "Takli_month = Takli_pd[\"Discharge[m^3/s]:Instantaneous\"].groupby([Takli_pd['year'],Takli_pd['month']]).sum().reset_index()"
   ]
  },
  {
   "cell_type": "code",
   "execution_count": null,
   "metadata": {},
   "outputs": [],
   "source": [
    "fig, ax = plt.subplots(figsize=(10,6))\n",
    "plt.plot(Takli_pd['Unnamed: 0'][1:],ds(da_combine_dis,lat_idx,lon_idx)[:-365*2-1],color='blue',label='CWatM simulation')\n",
    "plt.plot(Takli_pd['Unnamed: 0'][1:],Takli_pd['Discharge[m^3/s]:Instantaneous'][1:],color='red',label='flow gauged at CWC station')\n",
    "plt.title(\"Takli discharge per day (m3/s)\")\n",
    "plt.xlabel(\"Time\")\n",
    "plt.ylabel(\"m3/s\")\n",
    "plt.legend(prop={'size': 20})\n",
    "plt.setp(ax.get_xticklabels(), rotation=30, horizontalalignment='right')\n",
    "for item in ([ax.title, ax.xaxis.label, ax.yaxis.label] +\n",
    "             ax.get_xticklabels() + ax.get_yticklabels()):\n",
    "    item.set_fontsize(20)\n",
    "plt.tight_layout()\n",
    "plt.savefig('Takli_daily.png')"
   ]
  },
  {
   "cell_type": "code",
   "execution_count": null,
   "metadata": {
    "scrolled": false
   },
   "outputs": [],
   "source": [
    "fig, ax = plt.subplots(figsize=(10, 5))\n",
    "plt.plot(ms(da_combine_dis, lat_idx, lon_idx),color='blue',label='CWatM simulation')\n",
    "plt.plot(Takli_month['Discharge[m^3/s]:Instantaneous'],color='red',label='flow gauged at CWC station')\n",
    "plt.title(\"Takli discharge m3/s\")\n",
    "plt.xlabel(\"Time\")\n",
    "plt.ylabel(\"m3/s\")\n",
    "plt.xlim([0,208])\n",
    "plt.legend(prop={'size': 20})\n",
    "plt.setp(ax.get_xticklabels(), rotation=0, horizontalalignment='right')\n",
    "for item in ([ax.title, ax.xaxis.label, ax.yaxis.label] +\n",
    "             ax.get_xticklabels() + ax.get_yticklabels()):\n",
    "    item.set_fontsize(20)\n",
    "plt.tight_layout()\n",
    "plt.savefig('Takli_monthly.png')"
   ]
  },
  {
   "cell_type": "code",
   "execution_count": null,
   "metadata": {
    "scrolled": false
   },
   "outputs": [],
   "source": [
    "fig, ax = plt.subplots(figsize=(10, 5))\n",
    "plt.plot(np.arange(1996,2016), ys(da_combine_dis, lat_idx, lon_idx)*3600*24*1e-6,color='blue',label='CWatM simulation ')\n",
    "plt.plot(Takli_year,color='red',label='flow gauged at CWC station')\n",
    "y_mean = [np.mean(ys(da_combine_dis, lat_idx, lon_idx)*3600*24*1e-6)]*20\n",
    "mean_line = ax.plot(np.arange(1996,2016),y_mean, label='CWatM Mean', linestyle='--',color='blue')\n",
    "\n",
    "y_mean_1 = [np.mean(Takli_year)]*17\n",
    "mean_line_1 = ax.plot(np.arange(1996,2013),y_mean_1, label='CWC Mean', linestyle='--',color='red')\n",
    "\n",
    "plt.title(\"Takli discharge volume per year\")\n",
    "plt.xlabel(\"Year\")\n",
    "plt.ylabel(\"Mcums\")\n",
    "plt.xlim([1996,2012])\n",
    "plt.legend()\n",
    "plt.setp(ax.get_xticklabels(), rotation=30, horizontalalignment='right')\n",
    "for item in ([ax.title, ax.xaxis.label, ax.yaxis.label] +\n",
    "             ax.get_xticklabels() + ax.get_yticklabels()):\n",
    "    item.set_fontsize(20)\n",
    "plt.tight_layout()\n",
    "plt.savefig('Takli_yearly.png')"
   ]
  },
  {
   "cell_type": "code",
   "execution_count": null,
   "metadata": {},
   "outputs": [],
   "source": [
    "sum(abs(ms(da_combine_dis, lat_idx, lon_idx)[0:209] - Takli_month['Discharge[m^3/s]:Instantaneous']))/sum(ms(da_combine_dis, lat_idx, lon_idx)[0:209])"
   ]
  },
  {
   "cell_type": "code",
   "execution_count": null,
   "metadata": {},
   "outputs": [],
   "source": [
    "sum(ms(da_combine_dis, lat_idx, lon_idx)[0:209] - Takli_month['Discharge[m^3/s]:Instantaneous'])/sum(ms(da_combine_dis, lat_idx, lon_idx)[0:209])"
   ]
  },
  {
   "cell_type": "markdown",
   "metadata": {},
   "source": [
    "### Khamgoan"
   ]
  },
  {
   "cell_type": "code",
   "execution_count": null,
   "metadata": {},
   "outputs": [],
   "source": [
    "outlet = Khamgoan\n",
    "\n",
    "lats = da['lat'][:]\n",
    "lons = da['lon'][:]\n",
    "\n",
    "in_lat = outlet[0]\n",
    "in_lon = outlet[1]\n",
    "\n",
    "lat_idx = geo_idx(in_lat, lats)\n",
    "lon_idx = geo_idx(in_lon, lons)"
   ]
  },
  {
   "cell_type": "code",
   "execution_count": null,
   "metadata": {},
   "outputs": [],
   "source": [
    "Khamgoan_csv = r\"C:\\Users\\mikha\\Box\\FUSE_Modeling_Team\\2-PUNE_INDIA\\2.2-DATA\\2.2.1-SPATIAL_DATA\\PROCESSING\\River_Discharge\\DailyData/Khamgaon_DailyDischarge_State.xlsx\""
   ]
  },
  {
   "cell_type": "code",
   "execution_count": null,
   "metadata": {},
   "outputs": [],
   "source": [
    "Khamgoan_pd = pd.read_excel(Khamgoan_csv)"
   ]
  },
  {
   "cell_type": "code",
   "execution_count": null,
   "metadata": {},
   "outputs": [],
   "source": [
    "Khamgoan_pd['year'] = pd.DatetimeIndex(Khamgoan_pd['Unnamed: 0']).year"
   ]
  },
  {
   "cell_type": "code",
   "execution_count": null,
   "metadata": {},
   "outputs": [],
   "source": [
    "Khamgoan_year = Khamgoan_pd[\"Discharge[m^3/s]:Instantaneous\"].groupby(Khamgoan_pd['year']).sum()*3600*24*1e-6"
   ]
  },
  {
   "cell_type": "code",
   "execution_count": null,
   "metadata": {},
   "outputs": [],
   "source": [
    "Khamgoan_pd['month'] = pd.DatetimeIndex(Khamgoan_pd['Unnamed: 0']).month"
   ]
  },
  {
   "cell_type": "code",
   "execution_count": null,
   "metadata": {},
   "outputs": [],
   "source": [
    "Khamgoan_month = Khamgoan_pd[\"Discharge[m^3/s]:Instantaneous\"].groupby([Khamgoan_pd['year'],Khamgoan_pd['month']]).sum().reset_index()"
   ]
  },
  {
   "cell_type": "code",
   "execution_count": null,
   "metadata": {},
   "outputs": [],
   "source": [
    "fig, ax = plt.subplots(figsize=(10,6))\n",
    "plt.plot(Khamgoan_pd['Unnamed: 0'][3867:],Khamgoan_pd['Discharge[m^3/s]:Instantaneous'][3867:],color='red',label='flow gauged at CWC station')\n",
    "plt.plot(Khamgoan_pd['Unnamed: 0'][3867:],ds(da_combine_dis,lat_idx,lon_idx)[:-365*2-1248],color='blue',label='CWatM simulation')\n",
    "\n",
    "plt.title(\"Khamgoan discharge per day (m3/s)\")\n",
    "plt.xlabel(\"Time\")\n",
    "plt.ylabel(\"m3/s\")\n",
    "plt.legend(prop={'size': 20})\n",
    "plt.setp(ax.get_xticklabels(), rotation=30, horizontalalignment='right')\n",
    "for item in ([ax.title, ax.xaxis.label, ax.yaxis.label] +\n",
    "             ax.get_xticklabels() + ax.get_yticklabels()):\n",
    "    item.set_fontsize(20)\n",
    "plt.tight_layout()\n",
    "plt.savefig('Khamgoan_daily.png')"
   ]
  },
  {
   "cell_type": "code",
   "execution_count": null,
   "metadata": {},
   "outputs": [],
   "source": [
    "fig, ax = plt.subplots(figsize=(10, 5))\n",
    "plt.plot(ms(da_combine_dis, lat_idx, lon_idx),color='blue',label='CWatM simulation')\n",
    "plt.plot(np.arange(168),Khamgoan_month['Discharge[m^3/s]:Instantaneous'][127:],color='red',label='flow gauged at CWC station')\n",
    "plt.title(\"Khamgoan discharge m3/s\")\n",
    "plt.xlabel(\"Time\")\n",
    "plt.ylabel(\"m3/s\")\n",
    "plt.xlim([0,168])\n",
    "plt.legend(prop={'size': 20})\n",
    "plt.setp(ax.get_xticklabels(), rotation=0, horizontalalignment='right')\n",
    "for item in ([ax.title, ax.xaxis.label, ax.yaxis.label] +\n",
    "             ax.get_xticklabels() + ax.get_yticklabels()):\n",
    "    item.set_fontsize(20)\n",
    "plt.tight_layout()\n",
    "plt.savefig('Khamgoan_monthly.png')"
   ]
  },
  {
   "cell_type": "code",
   "execution_count": null,
   "metadata": {},
   "outputs": [],
   "source": [
    "fig, ax = plt.subplots(figsize=(10, 5))\n",
    "plt.plot(np.arange(1996,2016), ys(da_combine_dis, lat_idx, lon_idx)*3600*24*1e-6,color='blue',label='CWatM simulation data')\n",
    "plt.plot(Khamgoan_year[12:],color='red',label='flow gauged at CWC station')\n",
    "y_mean = [np.mean(ys(da_combine_dis, lat_idx, lon_idx)*3600*24*1e-6)]*20\n",
    "mean_line = ax.plot(np.arange(1996,2016),y_mean, label='CWatM Mean', linestyle='--',color='blue')\n",
    "\n",
    "y_mean_1 = [np.mean(Khamgoan_year[12:])]*14\n",
    "mean_line_1 = ax.plot(np.arange(1996,2010),y_mean_1, label='CWC Mean', linestyle='--',color='red')\n",
    "\n",
    "plt.title(\"Khamgoan discharge volume per year\")\n",
    "plt.xlabel(\"Year\")\n",
    "plt.ylabel(\"Mcums\")\n",
    "plt.xlim([1996,2009])\n",
    "plt.legend()\n",
    "plt.setp(ax.get_xticklabels(), rotation=30, horizontalalignment='right')\n",
    "for item in ([ax.title, ax.xaxis.label, ax.yaxis.label] +\n",
    "             ax.get_xticklabels() + ax.get_yticklabels()):\n",
    "    item.set_fontsize(20)\n",
    "plt.tight_layout()\n",
    "plt.savefig('Khamgoan_yearly.png')"
   ]
  },
  {
   "cell_type": "code",
   "execution_count": null,
   "metadata": {},
   "outputs": [],
   "source": [
    "sum(abs(ms(da_combine_dis, lat_idx, lon_idx)[0:168] - Khamgoan_month['Discharge[m^3/s]:Instantaneous'][127:]))/sum(ms(da_combine_dis, lat_idx, lon_idx)[0:168])"
   ]
  },
  {
   "cell_type": "code",
   "execution_count": null,
   "metadata": {},
   "outputs": [],
   "source": [
    "sum(ms(da_combine_dis, lat_idx, lon_idx)[0:168] - Khamgoan_month['Discharge[m^3/s]:Instantaneous'][127:])/sum(ms(da_combine_dis, lat_idx, lon_idx)[0:168])"
   ]
  }
 ],
 "metadata": {
  "kernelspec": {
   "display_name": "Python 3",
   "language": "python",
   "name": "python3"
  },
  "language_info": {
   "codemirror_mode": {
    "name": "ipython",
    "version": 3
   },
   "file_extension": ".py",
   "mimetype": "text/x-python",
   "name": "python",
   "nbconvert_exporter": "python",
   "pygments_lexer": "ipython3",
   "version": "3.7.5"
  }
 },
 "nbformat": 4,
 "nbformat_minor": 4
}
