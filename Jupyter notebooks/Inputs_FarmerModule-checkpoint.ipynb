{
 "cells": [
  {
   "cell_type": "markdown",
   "metadata": {},
   "source": [
    "# Inputs for the Farmer Module: Sarati sub basin"
   ]
  },
  {
   "cell_type": "code",
   "execution_count": null,
   "metadata": {},
   "outputs": [],
   "source": [
    "from netCDF4 import Dataset\n",
    "import matplotlib.pyplot as plt\n",
    "import numpy as np\n",
    "import plotly.graph_objects as go\n",
    "from PIL import Image"
   ]
  },
  {
   "cell_type": "markdown",
   "metadata": {},
   "source": [
    "Please, specifiy the location of your downloaded Fuse folder"
   ]
  },
  {
   "cell_type": "code",
   "execution_count": null,
   "metadata": {},
   "outputs": [],
   "source": [
    "fuse_folder = 'C:/FUSE/CWATM'\n",
    "\n",
    "output_folder = 'C:/CWatM_output/'\n",
    "photo_folder = 'C:/GitHub/FUSE/Images/'"
   ]
  },
  {
   "cell_type": "markdown",
   "metadata": {},
   "source": [
    "## Introduction\n",
    "The Sarati basin is a sub basin of the Upper Bhima basin. The Sarati basin is being used as a smaller scale example to use for developing and testing the models used in FUSE."
   ]
  },
  {
   "cell_type": "code",
   "execution_count": null,
   "metadata": {},
   "outputs": [],
   "source": [
    "img = Image.open(photo_folder + 'Sarati_in_UB.tif')\n",
    "img"
   ]
  },
  {
   "cell_type": "markdown",
   "metadata": {},
   "source": [
    "We are currently interested in reference evapotranspiration and rainfall, averaged over the month and over each administrative unit.\n",
    "\n",
    "The administrative units intersecting the Sarati basin are illustrated below."
   ]
  },
  {
   "cell_type": "markdown",
   "metadata": {},
   "source": [
    "## Segments: Talukas within the Sarati subbasin"
   ]
  },
  {
   "cell_type": "code",
   "execution_count": null,
   "metadata": {},
   "outputs": [],
   "source": [
    "img = Image.open(photo_folder+'admin_segments_Sarati.tif')\n",
    "img"
   ]
  },
  {
   "cell_type": "code",
   "execution_count": null,
   "metadata": {},
   "outputs": [],
   "source": [
    "#admin_segments_file = output_folder + \"adminSegments_daily.nc\"\n",
    "admin_segments_file = output_folder + \"adminSegments_totalend.nc\"\n",
    "\n",
    "nc_admin_segments = Dataset(admin_segments_file, 'r')\n",
    "\n",
    "#admin_segments = nc_admin_segments.variables['adminSegments'][0,:,:]\n",
    "admin_segments = nc_admin_segments.variables['adminSegments_totalend'][:,:]"
   ]
  },
  {
   "cell_type": "markdown",
   "metadata": {},
   "source": [
    "The data above holds the monthly average value (ETRef, Rain, etc.) for each administrative unit in each cell of the administrative unit. \n",
    "\n",
    "The following code chooses a representative cell for each administrative unit."
   ]
  },
  {
   "cell_type": "code",
   "execution_count": null,
   "metadata": {
    "scrolled": false
   },
   "outputs": [],
   "source": [
    "Segment_reps = []\n",
    "\n",
    "for i in range(nc_admin_segments.variables['lat'].shape[0]):\n",
    "    for j in range (nc_admin_segments.variables['lon'].shape[0]):\n",
    "        \n",
    "        if admin_segments[i,j]>0 and admin_segments[i,j] not in [i[0] for i in Segment_reps]:       \n",
    "            Segment_reps.append([int(admin_segments[i,j]), i, j])\n",
    "\n",
    "Segment_reps.sort()\n",
    "\n",
    "for i in Segment_reps:\n",
    "    print('Segment ' +str(i[0])+ ', lat ' +str(i[1])+ ', lon ' +str(i[2]))"
   ]
  },
  {
   "cell_type": "markdown",
   "metadata": {},
   "source": [
    "## Reference Evapotranspiration and Rainfall\n",
    "Amounts are given in metres [m]"
   ]
  },
  {
   "cell_type": "code",
   "execution_count": null,
   "metadata": {},
   "outputs": [],
   "source": [
    "#ETRef_monAvg_segments_file = output_folder + \"ETRef_segments_monthavg.nc\"\n",
    "#rain_monAvg_segments_file = output_folder + \"rain_segments_monthavg.nc\"\n",
    "from netCDF4 import num2date\n",
    "\n",
    "ETRef_monAvg_segments_file = output_folder + \"ETRefAverage_segments_monthavg.nc\"\n",
    "\n",
    "rain_monAvg_segments_file = output_folder + \"rainAverage_segments_monthtot.nc\"\n",
    "\n",
    "\n",
    "\n",
    "nc_ETRef_monAvg_segments = Dataset(ETRef_monAvg_segments_file, 'r')\n",
    "nc_rain_monAvg_segments = Dataset(rain_monAvg_segments_file, 'r')\n",
    "nc_head_monEnd_segments = Dataset(output_folder + \"head_development_segments_monthend.nc\")\n",
    "\n",
    "Dates_simulation = num2date(nc_head_monEnd_segments.variables['time'][:], units=nc_head_monEnd_segments.variables['time'].units)\n",
    "\n",
    "ETRef_monAvg_segments = nc_ETRef_monAvg_segments.variables['ETRefAverage_segments_monthavg'][:,:,:]\n",
    "#rain_monAvg_segments = nc_rain_monAvg_segments.variables['rain_segments_monthavg'][:,:,:]\n",
    "rain_monAvg_segments = nc_rain_monAvg_segments.variables['rainAverage_segments_monthtot'][:,:,:]\n",
    "head_monEnd_segments = nc_head_monEnd_segments.variables['head_development_segments_monthend'][:,:,:]"
   ]
  },
  {
   "cell_type": "code",
   "execution_count": null,
   "metadata": {},
   "outputs": [],
   "source": [
    "ETRef_monAvg_representative = []\n",
    "rain_monAvg_representative= []\n",
    "head_monEnd_representative = []\n",
    "\n",
    "for seg in Segment_reps:\n",
    "    \n",
    "    ETRef_monAvg_representative.append([seg[0]])\n",
    "    rain_monAvg_representative.append([seg[0]])\n",
    "    head_monEnd_representative.append([seg[0]])\n",
    "    \n",
    "    for t in range(nc_ETRef_monAvg_segments.variables['time'].shape[0]):\n",
    "        ETRef_monAvg_representative[-1].append(ETRef_monAvg_segments[t, seg[1], seg[2]])\n",
    "        rain_monAvg_representative[-1].append(rain_monAvg_segments[t, seg[1], seg[2]])\n",
    "        head_monEnd_representative[-1].append(head_monEnd_segments[t, seg[1], seg[2]])"
   ]
  },
  {
   "cell_type": "markdown",
   "metadata": {},
   "source": [
    "### Evapotranspiration"
   ]
  },
  {
   "cell_type": "code",
   "execution_count": null,
   "metadata": {
    "scrolled": false
   },
   "outputs": [],
   "source": [
    "img = Image.open(photo_folder + 'sum_actualET_annualtot.png')    # Open image as PIL image object\n",
    "img"
   ]
  },
  {
   "cell_type": "code",
   "execution_count": null,
   "metadata": {},
   "outputs": [],
   "source": [
    "fig = go.Figure()\n",
    "\n",
    "for i in ETRef_monAvg_representative:\n",
    "    fig.add_trace(go.Scatter(y=i[1:],\n",
    "                             x=Dates_simulation,\n",
    "                    mode='lines',\n",
    "                    name=i[0]))\n",
    "\n",
    "\n",
    "fig.update_layout(title='Reference Evapotranspiration',\n",
    "                       xaxis_title='Month',\n",
    "                       yaxis_title='Monthly Average Reference ET (m/day)')\n",
    "\n",
    "fig.show()"
   ]
  },
  {
   "cell_type": "markdown",
   "metadata": {},
   "source": [
    "The following output may allow for easier input into Excel."
   ]
  },
  {
   "cell_type": "code",
   "execution_count": null,
   "metadata": {
    "scrolled": true
   },
   "outputs": [],
   "source": [
    "file = open('ETRef.txt','w') \n",
    "for seg in ETRef_monAvg_representative:\n",
    "    \n",
    "    print(*seg, sep = \", \")\n",
    "\n",
    "    text=''\n",
    "    for i in seg:\n",
    "        text += str(i)+' '\n",
    "        \n",
    "    file.write(text+'\\n')\n",
    "    \n",
    "file.close() "
   ]
  },
  {
   "cell_type": "code",
   "execution_count": null,
   "metadata": {},
   "outputs": [],
   "source": [
    "file = open('GWDepth.txt','w') \n",
    "for seg in head_monEnd_representative:\n",
    "    print(*seg, sep = \", \")\n",
    "\n",
    "    text=''\n",
    "    for i in seg:\n",
    "        text += str(i)+' '\n",
    "        \n",
    "    file.write(text+'\\n')\n",
    "    \n",
    "file.close() \n",
    "\"\"\"\n",
    "fig = go.Figure()\n",
    "    \n",
    "for i in head_monEnd_representative:\n",
    "    fig.add_trace(go.Scatter(y=i[1:],\n",
    "                             x=Dates_simulation,\n",
    "                    mode='lines',\n",
    "                    name=i[0]))\n",
    "\n",
    "\n",
    "fig.update_layout(title='Groundwater depth',\n",
    "                       xaxis_title='Month',\n",
    "                       yaxis_title='Depth to GW (m)')\n",
    "\n",
    "fig.show()\n",
    "\"\"\""
   ]
  },
  {
   "cell_type": "markdown",
   "metadata": {},
   "source": [
    "### Rainfall"
   ]
  },
  {
   "cell_type": "code",
   "execution_count": null,
   "metadata": {},
   "outputs": [],
   "source": [
    "img = Image.open(photo_folder + 'sum_precipitation_annualtot.png')    # Open image as PIL image object\n",
    "img\n"
   ]
  },
  {
   "cell_type": "code",
   "execution_count": null,
   "metadata": {},
   "outputs": [],
   "source": [
    "fig = go.Figure()\n",
    "    \n",
    "for i in rain_monAvg_representative:\n",
    "    fig.add_trace(go.Scatter(y=i[1:],\n",
    "                             x=Dates_simulation,\n",
    "                    mode='lines',\n",
    "                    name=i[0]))\n",
    "\n",
    "\n",
    "fig.update_layout(title='Rainfall',\n",
    "                       xaxis_title='Month',\n",
    "                       yaxis_title='Monthly Total Rainfall, segment average (m/month)')\n",
    "\n",
    "fig.show()"
   ]
  },
  {
   "cell_type": "markdown",
   "metadata": {},
   "source": [
    "The following output may allow for easier input into Excel."
   ]
  },
  {
   "cell_type": "code",
   "execution_count": null,
   "metadata": {
    "scrolled": true
   },
   "outputs": [],
   "source": [
    "file = open('Rain.txt','w') \n",
    "\n",
    "for seg in head_monEnd_representative:\n",
    "    print(*seg, sep = \", \")\n",
    "\n",
    "    text=''\n",
    "    for i in seg:\n",
    "        text += str(i)+' '\n",
    "        \n",
    "    file.write(text+'\\n')\n",
    "    \n",
    "file.close() "
   ]
  },
  {
   "cell_type": "markdown",
   "metadata": {},
   "source": [
    "## Cropland use\n",
    "Areas are given in metres squared [m2]"
   ]
  },
  {
   "cell_type": "code",
   "execution_count": null,
   "metadata": {},
   "outputs": [],
   "source": [
    "len(Dates_simulation)"
   ]
  },
  {
   "cell_type": "code",
   "execution_count": null,
   "metadata": {},
   "outputs": [],
   "source": [
    "def crops_initialise(xl_settings_file_path):\n",
    "    df = pd.read_excel(xl_settings_file_path, sheet_name='Crops')\n",
    "\n",
    "    Crops = []\n",
    "    Crops_names = []\n",
    "    for i in df.index:\n",
    "        crop = [df['Planting month'][i]]\n",
    "\n",
    "        for gs in range(1, 5):\n",
    "            gs_parameters = [df['EM' + str(gs)][i], df['KC' + str(gs)][i], df['KY' + str(gs)][i]]\n",
    "            crop.append(gs_parameters)\n",
    "\n",
    "        Crops.append(crop)\n",
    "        Crops_names.append(df['Crop'][i])\n",
    "\n",
    "    return Crops, Crops_names"
   ]
  },
  {
   "cell_type": "code",
   "execution_count": null,
   "metadata": {},
   "outputs": [],
   "source": [
    "import pandas as pd\n",
    "import numpy as np\n",
    "\n",
    "basepath = 'C:\\GitHub\\FUSE\\CWatM_settings'\n",
    "xl_settings_file_path = basepath + r'\\cwatm_settings.xlsx'\n",
    "Crops, Crops_names = crops_initialise(xl_settings_file_path)\n",
    "\n",
    "df = {}\n",
    "\n",
    "for c in range(0, len(Crops_names)):\n",
    "    \n",
    "    df[Crops_names[c]] = Dataset(output_folder + \"areaCrops_Irr_segment[\"+str(c)+\"]_monthend.nc\", 'r')\n",
    "    df[Crops_names[c]+'_segments'] = df[Crops_names[c]].variables['areaCrops_Irr_segment['+str(c)+']_monthend'][0,:,:]\n",
    "    \n",
    "    for i in range(1,len(Dates_simulation)):\n",
    "            df[Crops_names[c]+'_segments'] = np.where(df[Crops_names[c]].variables['areaCrops_Irr_segment['+str(c)+']_monthend'][i,:,:]>df[Crops_names[c]+'_segments'], df[Crops_names[c]].variables['areaCrops_Irr_segment['+str(c)+']_monthend'][i,:,:], df[Crops_names[c]+'_segments'])\n",
    "\n",
    "            \n",
    "    df[Crops_names[c]+'_representative'] = []\n",
    "    \n",
    "    for seg in Segment_reps:\n",
    "        df[Crops_names[c]+'_representative'].append([seg[0], df[Crops_names[c]+'_segments'][seg[1], seg[2]]])\n",
    "    \n",
    "    df[Crops_names[c]+'_final'] = np.array([i[1] for i in df[Crops_names[c]+'_representative']])\n",
    "    \n",
    "fig = go.Figure()\n",
    "x=['s'+str(i[0]) for i in df[Crops_names[1]+'_representative']]\n",
    "\n",
    "for c in range(0, len(Crops_names)):\n",
    "        fig.add_trace(go.Bar(x = x, \n",
    "                             y = df[Crops_names[c]+'_final'],\n",
    "                             name = Crops_names[c]))\n",
    "\n",
    "fig.update_layout(title='Crop areas',\n",
    "                  xaxis_title='Segment',\n",
    "                  yaxis_title='Area (m2)', \n",
    "                  barmode='stack')\n",
    "\n",
    "fig.show()   \n",
    "    "
   ]
  },
  {
   "cell_type": "markdown",
   "metadata": {},
   "source": [
    "## Crop-specific and segment-specific areas"
   ]
  },
  {
   "cell_type": "markdown",
   "metadata": {},
   "source": [
    "The following output may allow for easier input into Excel."
   ]
  },
  {
   "cell_type": "code",
   "execution_count": null,
   "metadata": {},
   "outputs": [],
   "source": [
    "file = open('Crops.txt','w') \n",
    "\n",
    "x=['s'+str(i[0]) for i in df[Crops_names[1]+'_representative']]\n",
    "\n",
    "for i in range(len(x)):\n",
    "    \n",
    "    text = x[i]+', '\n",
    "    for c in range(0, len(Crops_names)):\n",
    "        y = df[Crops_names[c]+'_final'][i],\n",
    "        if c<len(Crops_names)-1:\n",
    "            text += str(y[0])+', '\n",
    "        else:\n",
    "            text += str(y[0])\n",
    "    print(text)\n",
    "    file.write(text+'\\n')\n",
    "\n",
    "file.close() \n",
    "    \n",
    "\n",
    "        "
   ]
  },
  {
   "cell_type": "code",
   "execution_count": null,
   "metadata": {
    "scrolled": true
   },
   "outputs": [],
   "source": [
    "for i in range(len(Segment_reps)):\n",
    "    print(str(sugarAdsali_representative[i][0]) + ', '+ str(sugarAdsali_representative[i][1]) + ', ' + str(sugarPreSeasonal_representative[i][1]) + ', ' + str(sugarSuru_representative[i][1]) + ', ' + str(sorghum_representative[i][1]))"
   ]
  },
  {
   "cell_type": "markdown",
   "metadata": {},
   "source": [
    "## Crop-specific Water use "
   ]
  },
  {
   "cell_type": "code",
   "execution_count": null,
   "metadata": {},
   "outputs": [],
   "source": [
    "PETTotVol_sugarAdsali_segments_file = output_folder + \"PET_Sugar1_segments_monthtot.nc\"\n",
    "PETTotVol_sugarPreSeasonal_segments_file = output_folder + \"PET_Sugar2_segments_monthtot.nc\"\n",
    "PETTotVol_sugarSuru_segments_file = output_folder + \"PET_Sugar3_segments_monthtot.nc\"\n",
    "PETTotVol_sorghum_segments_file = output_folder + \"PET_Sorghum_segments_monthtot.nc\"\n",
    "\n",
    "nc_PETTotVol_sugarAdsali_segments = Dataset(PETTotVol_sugarAdsali_segments_file, 'r')\n",
    "nc_PETTotVol_sugarPreSeasonal_segments = Dataset(PETTotVol_sugarPreSeasonal_segments_file, 'r')\n",
    "nc_PETTotVol_sugarSuru_segments = Dataset(PETTotVol_sugarSuru_segments_file, 'r')\n",
    "nc_PETTotVol_sorghum_segments = Dataset(PETTotVol_sorghum_segments_file, 'r')\n",
    "\n",
    "PETTotVol_sugarAdsali_segments = nc_PETTotVol_sugarAdsali_segments.variables['PET_Sugar1_segments_monthtot'][:,:,:]\n",
    "PETTotVol_sugarPreSeasonal_segments = nc_PETTotVol_sugarPreSeasonal_segments.variables['PET_Sugar2_segments_monthtot'][:,:,:]\n",
    "PETTotVol_sugarSuru_segments = nc_PETTotVol_sugarSuru_segments.variables['PET_Sugar3_segments_monthtot'][:,:,:]\n",
    "PETTotVol_sorghum_segments = nc_PETTotVol_sorghum_segments.variables['PET_Sorghum_segments_monthtot'][:,:,:]\n",
    "\n",
    "PETTotVol_sugarAdsali_representative = []\n",
    "PETTotVol_sugarPreSeasonal_representative = []\n",
    "PETTotVol_sugarSuru_representative = []\n",
    "PETTotVol_sorghum_representative = []\n",
    "\n",
    "for seg in Segment_reps:\n",
    "    \n",
    "    PETTotVol_sugarAdsali_representative.append([seg[0]])\n",
    "    PETTotVol_sugarPreSeasonal_representative.append([seg[0]])\n",
    "    PETTotVol_sugarSuru_representative.append([seg[0]])\n",
    "    PETTotVol_sorghum_representative.append([seg[0]])\n",
    "    \n",
    "    for t in range(nc_ETRef_monAvg_segments.variables['time'].shape[0]):\n",
    "        \n",
    "        PETTotVol_sugarAdsali_representative[-1].append(PETTotVol_sugarAdsali_segments[t, seg[1], seg[2]])\n",
    "        PETTotVol_sugarPreSeasonal_representative[-1].append(PETTotVol_sugarPreSeasonal_segments[t, seg[1], seg[2]])\n",
    "        PETTotVol_sugarSuru_representative[-1].append(PETTotVol_sugarSuru_segments[t, seg[1], seg[2]])\n",
    "        PETTotVol_sorghum_representative[-1].append(PETTotVol_sorghum_segments[t, seg[1], seg[2]])\n",
    "    \n"
   ]
  },
  {
   "cell_type": "code",
   "execution_count": null,
   "metadata": {
    "scrolled": false
   },
   "outputs": [],
   "source": [
    "Crop_name = ['Sugarcane, variety Adsali', 'Sugarcane, variety Pre-Seasonal', 'Sugarcane, variety Suru', 'Sorghum']\n",
    "\n",
    "Crop = [PETTotVol_sugarAdsali_representative, PETTotVol_sugarPreSeasonal_representative, \n",
    "        PETTotVol_sugarSuru_representative, PETTotVol_sorghum_representative]\n",
    "\n",
    "for c in range(len(Crop)):\n",
    "    fig = go.Figure()\n",
    "    \"\"\"\n",
    "    for i in PETTotVol_sugarAdsali_representative:\n",
    "        fig.add_trace(go.Scatter(y=i[1:],\n",
    "                        mode='lines',\n",
    "                        name=i[0]))\n",
    "    \"\"\"\n",
    "    for i in Crop[c]:\n",
    "        fig.add_trace(go.Scatter(y=i[1:],\n",
    "                        mode='lines',\n",
    "                        name=i[0]))\n",
    "\n",
    "    fig.update_layout(title='Monthly Total Potential ET: '+ Crop_name[c],\n",
    "                       xaxis_title='Month',\n",
    "                       yaxis_title='Potential ET (m3/month)')\n",
    "\n",
    "    fig.show()"
   ]
  },
  {
   "cell_type": "markdown",
   "metadata": {},
   "source": [
    "The following outputs may allow for easier input into Excel."
   ]
  },
  {
   "cell_type": "code",
   "execution_count": null,
   "metadata": {
    "scrolled": true
   },
   "outputs": [],
   "source": [
    "for c in range(len(Crop)):\n",
    "    print(Crop_name[c])\n",
    "    for seg in Crop[c]:\n",
    "        print(*seg, sep = \", \")\n",
    "    print('\\n')"
   ]
  },
  {
   "cell_type": "code",
   "execution_count": null,
   "metadata": {
    "scrolled": false
   },
   "outputs": [],
   "source": [
    "img = Image.open(photo_folder + 'relative_yield_sorghum.png')\n",
    "img"
   ]
  },
  {
   "cell_type": "markdown",
   "metadata": {},
   "source": [
    "## Reservoirs"
   ]
  },
  {
   "cell_type": "code",
   "execution_count": null,
   "metadata": {},
   "outputs": [],
   "source": []
  },
  {
   "cell_type": "markdown",
   "metadata": {},
   "source": [
    "## Groundwater"
   ]
  },
  {
   "cell_type": "code",
   "execution_count": null,
   "metadata": {
    "scrolled": false
   },
   "outputs": [],
   "source": [
    "img = Image.open(photo_folder + 'depth_to_groundwater.png')\n",
    "img"
   ]
  },
  {
   "cell_type": "code",
   "execution_count": null,
   "metadata": {},
   "outputs": [],
   "source": [
    "img = Image.open(photo_folder + 'depth_to_groundwater_leakage.png')\n",
    "img"
   ]
  },
  {
   "cell_type": "code",
   "execution_count": null,
   "metadata": {},
   "outputs": [],
   "source": []
  }
 ],
 "metadata": {
  "kernelspec": {
   "display_name": "Python 3",
   "language": "python",
   "name": "python3"
  }
 },
 "nbformat": 4,
 "nbformat_minor": 2
}
