{
 "cells": [
  {
   "cell_type": "markdown",
   "metadata": {
    "extensions": {
     "jupyter_dashboards": {
      "version": 1,
      "views": {
       "grid_default": {},
       "report_default": {
        "hidden": false
       }
      }
     }
    }
   },
   "source": [
    "# Extracting Groundwater results and compare simulated/observed data\n",
    "## Comparing water table and water table depth at different boreholes. Also return different criteria for time averages and temporal fluctuations"
   ]
  },
  {
   "cell_type": "code",
   "execution_count": 1,
   "metadata": {
    "extensions": {
     "jupyter_dashboards": {
      "version": 1,
      "views": {
       "grid_default": {},
       "report_default": {
        "hidden": false
       }
      }
     }
    }
   },
   "outputs": [
    {
     "name": "stdout",
     "output_type": "stream",
     "text": [
      "ModFlow resolution is :  500.0  meters\n"
     ]
    }
   ],
   "source": [
    "## Importing Python modules\n",
    "import numpy as np\n",
    "import xarray as xr\n",
    "from scipy.interpolate import griddata\n",
    "import matplotlib.pyplot as plt\n",
    "from matplotlib.colors import LogNorm\n",
    "import xlrd\n",
    "from datetime import datetime\n",
    "\n",
    "import plotly.express as px\n",
    "\n",
    "plt.rcParams['figure.figsize'] = [14, 8.0]\n",
    "\n",
    "\n",
    "## Importing paths\n",
    "# Where CWATM results are stored\n",
    "path_model_outputs = 'C:/CWatM_output/'\n",
    "path_model_outputs_1 = 'C:/CWatM_output/' #now representing not restricting gw pumping, previously was at 20%\n",
    "path_model_outputs_2 = 'C:/CWatM_output_1Domestic_21June20/'\n",
    "#path_model_outputs = 'C:/CWatM_output_SteveExample/'\n",
    "# Where observed data are stored\n",
    "path_observed_data = 'C:/FUSE/fromLuca/Measured_data/WaterTable/'\n",
    "# Where ModFlow inputs for the grid are stored\n",
    "#This is all you switch for Nira and Bhima\n",
    "#Inputs_file_modflow = 'C:/GitHub/FUSE/Modflow/modflow_inputs/ModFlow_inputs500m_Bhima/'\n",
    "Inputs_file_modflow = 'C:/GitHub/FUSE/Modflow/modflow_inputs/2_ModFlow_inputs500m_Bhima/'\n",
    "\n",
    "## Loading files containing basin grid information\n",
    "Size = np.loadtxt(Inputs_file_modflow + 'UB_limits.txt')\n",
    "res_ModFlow = (Size[1]-Size[0])/(Size[5]-1)  # in [m]\n",
    "print('ModFlow resolution is : ', res_ModFlow, ' meters')\n",
    "basin = np.loadtxt(Inputs_file_modflow + 'Basin_limits.txt')\n",
    "\n",
    "# Map dimensions\n",
    "ncol = int((Size[1]-Size[0])/res_ModFlow)+1 \n",
    "nrow = int(abs((Size[3]-Size[2])/res_ModFlow)+1)\n",
    "#FOR BHIMA ACTIVATE NEXT LINE\n",
    "#nrow=566 #MS\n",
    "basin = basin.reshape(nrow,ncol)              # ModFlow format\n"
   ]
  },
  {
   "cell_type": "code",
   "execution_count": 2,
   "metadata": {
    "extensions": {
     "jupyter_dashboards": {
      "version": 1,
      "views": {
       "grid_default": {},
       "report_default": {
        "hidden": false
       }
      }
     }
    }
   },
   "outputs": [
    {
     "name": "stderr",
     "output_type": "stream",
     "text": [
      "c:\\users\\mikha\\envs\\test\\lib\\site-packages\\ipykernel_launcher.py:11: DeprecationWarning:\n",
      "\n",
      "parsing timezone aware datetimes is deprecated; this will raise an error in the future\n",
      "\n"
     ]
    },
    {
     "ename": "ValueError",
     "evalue": "operands could not be broadcast together with shapes (158,342) (566,604) ",
     "output_type": "error",
     "traceback": [
      "\u001b[1;31m---------------------------------------------------------------------------\u001b[0m",
      "\u001b[1;31mValueError\u001b[0m                                Traceback (most recent call last)",
      "\u001b[1;32m<ipython-input-2-abb2cf6f093c>\u001b[0m in \u001b[0;36m<module>\u001b[1;34m\u001b[0m\n\u001b[0;32m     22\u001b[0m \u001b[0mTop\u001b[0m \u001b[1;33m=\u001b[0m \u001b[0mnp\u001b[0m\u001b[1;33m.\u001b[0m\u001b[0mloadtxt\u001b[0m\u001b[1;33m(\u001b[0m\u001b[0mInputs_file_modflow\u001b[0m \u001b[1;33m+\u001b[0m \u001b[1;34m'Topo.txt'\u001b[0m\u001b[1;33m)\u001b[0m\u001b[1;33m\u001b[0m\u001b[1;33m\u001b[0m\u001b[0m\n\u001b[0;32m     23\u001b[0m \u001b[1;33m\u001b[0m\u001b[0m\n\u001b[1;32m---> 24\u001b[1;33m \u001b[0mTopography_ModFlow\u001b[0m \u001b[1;33m=\u001b[0m \u001b[0mTop\u001b[0m\u001b[1;33m.\u001b[0m\u001b[0mreshape\u001b[0m\u001b[1;33m(\u001b[0m\u001b[0mnrow\u001b[0m\u001b[1;33m,\u001b[0m\u001b[0mncol\u001b[0m\u001b[1;33m)\u001b[0m \u001b[1;33m+\u001b[0m \u001b[0mSoil_thickness\u001b[0m \u001b[1;31m# We need to add soil thickness to compare WTD\u001b[0m\u001b[1;33m\u001b[0m\u001b[1;33m\u001b[0m\u001b[0m\n\u001b[0m",
      "\u001b[1;31mValueError\u001b[0m: operands could not be broadcast together with shapes (158,342) (566,604) "
     ]
    }
   ],
   "source": [
    "## Upload simulated maps from the netcdf files\n",
    "ds = xr.open_dataset(path_model_outputs + 'modflowWaterLevel_monthend.nc')\n",
    "GWTable_ModFlow = ds['modflowWaterLevel_monthend'][:].data # Array of water levels [m] (time, nrow, ncol)\n",
    "\n",
    "ds_1 = xr.open_dataset(path_model_outputs_1 + 'modflowWaterLevel_monthend.nc')\n",
    "GWTable_ModFlow_1 = ds_1['modflowWaterLevel_monthend'][:].data # Array of water levels [m] (time, nrow, ncol)\n",
    "ds_2 = xr.open_dataset(path_model_outputs_2 + 'modflowWaterLevel_monthend.nc')\n",
    "GWTable_ModFlow_2 = ds_2['modflowWaterLevel_monthend'][:].data # Array of water levels [m] (time, nrow, ncol)\n",
    "\n",
    "Time_ModFlow = ds['time'][:].data\n",
    "Time_ModFlowV2 = (Time_ModFlow - np.datetime64('1970-01-01T00:00:00Z')) / np.timedelta64(1, 's')\n",
    "Time_ModFlowV3 = np.zeros(len(Time_ModFlow))\n",
    "for it in range(len(Time_ModFlow)):\n",
    "    dd = datetime.utcfromtimestamp(Time_ModFlowV2[it])\n",
    "    Time_ModFlowV3[it] = dd.toordinal()\n",
    "ds.close()\n",
    "\n",
    "## Upload topography defined in ModFlow and soil thickness defined in CWATM\n",
    "ds = xr.open_dataset(path_model_outputs + 'modflowtotalSoilThickness_totalend.nc')\n",
    "Soil_thickness = ds['modflowtotalSoilThickness_totalend'][:].data \n",
    "ds.close()\n",
    "Top = np.loadtxt(Inputs_file_modflow + 'Topo.txt')\n",
    "\n",
    "Topography_ModFlow = Top.reshape(nrow,ncol) + Soil_thickness # We need to add soil thickness to compare WTD\n"
   ]
  },
  {
   "cell_type": "markdown",
   "metadata": {
    "extensions": {
     "jupyter_dashboards": {
      "version": 1,
      "views": {
       "grid_default": {},
       "report_default": {
        "hidden": false
       }
      }
     }
    }
   },
   "source": [
    "## Plot the time-average simulated groundwater map and the total groundwater storage evolution"
   ]
  },
  {
   "cell_type": "code",
   "execution_count": null,
   "metadata": {
    "extensions": {
     "jupyter_dashboards": {
      "version": 1,
      "views": {
       "grid_default": {},
       "report_default": {
        "hidden": false
       }
      }
     }
    },
    "scrolled": false
   },
   "outputs": [],
   "source": [
    "## Plot the water balance trend in Groundwater:\n",
    "extent = (float(Size[0])-res_ModFlow/2, float(Size[1])+res_ModFlow/2, float(Size[2])+res_ModFlow/2, float(Size[3])-res_ModFlow/2)\n",
    "cmap = plt.cm.gist_rainbow\n",
    "fig1 = plt.figure()\n",
    "# as we record water table at the end of each month 2*12 is equal to 2 yrs\n",
    "\n",
    "plt.imshow((np.nanmean(GWTable_ModFlow[-2*12:],0)-np.nanmean(GWTable_ModFlow[0:2*12],0)), cmap=cmap,\n",
    "           extent=extent, origin='lower')\n",
    "plt.gca().invert_yaxis()\n",
    "plt.title('Water table difference between the last and first 2 years of simulation', fontsize=16)\n",
    "cb = plt.colorbar()\n",
    "cb.set_label('Difference in meters', fontsize=15)\n",
    "cb.ax.tick_params(labelsize=14)\n",
    "plt.xticks(fontsize=14)\n",
    "plt.yticks(fontsize=14)\n",
    "\n",
    "\n",
    "fig11 = plt.figure()\n",
    "\n",
    "plt.imshow((np.nanmean(GWTable_ModFlow_1[-1:],0)-np.nanmean(GWTable_ModFlow_2[-1:],0)), cmap=cmap,\n",
    "           extent=extent, origin='lower')\n",
    "plt.gca().invert_yaxis()\n",
    "plt.title('Water table difference between the two simulations', fontsize=16)\n",
    "cb = plt.colorbar()\n",
    "cb.set_label('Difference in meters', fontsize=15)\n",
    "cb.ax.tick_params(labelsize=14)\n",
    "plt.xticks(fontsize=14)\n",
    "plt.yticks(fontsize=14)\n",
    "\n",
    "\n",
    "fig2 = plt.figure()\n",
    "plt.plot_date(Time_ModFlowV3, np.nanmean(np.nanmean(Topography_ModFlow - GWTable_ModFlow,1),1),\n",
    "             linestyle='solid', marker=None, linewidth=2)\n",
    "plt.ylabel('Basin-scale average water table depth trend [m]', fontsize=15)\n",
    "plt.xlabel('Time [Monthly]', fontsize=15)\n",
    "plt.xticks(fontsize=14)\n",
    "plt.yticks(fontsize=14)\n",
    "plt.grid()\n",
    "\n",
    "## Computing the mean map of simulated water table and water table depth\n",
    "MeanWaterTable = np.nanmean(GWTable_ModFlow,0)\n",
    "MeanWaterTableDepth = Topography_ModFlow - MeanWaterTable\n",
    "MeanWaterTableDepth = np.where(Topography_ModFlow - MeanWaterTable < 0, 0, Topography_ModFlow - MeanWaterTable)\n",
    "\n",
    "# Print the map\n",
    "fig3 = plt.figure()\n",
    "plt.imshow(MeanWaterTableDepth, norm=LogNorm(vmin=max(np.nanmin(MeanWaterTableDepth),1), vmax=np.nanmax(MeanWaterTableDepth)),\n",
    "           cmap=cmap, extent=extent, origin='lower')\n",
    "#plt.imshow(MeanWaterTableDepth, cmap=cmap, extent=extent, origin='lower')\n",
    "plt.gca().invert_yaxis()\n",
    "plt.title('Simulated Mean Water Table Depth [m]', fontsize=16)\n",
    "cb = plt.colorbar()\n",
    "cb.ax.tick_params(labelsize=14)\n",
    "plt.xticks(fontsize=14)\n",
    "plt.yticks(fontsize=14)\n",
    "\n",
    "print(np.nanmin(MeanWaterTableDepth))\n",
    "print(np.nanmax(MeanWaterTableDepth))"
   ]
  },
  {
   "cell_type": "markdown",
   "metadata": {
    "extensions": {
     "jupyter_dashboards": {
      "version": 1,
      "views": {
       "grid_default": {},
       "report_default": {
        "hidden": false
       }
      }
     }
    }
   },
   "source": [
    "## Uploading observed water table and find the ModFlow coordinates of each borehole"
   ]
  },
  {
   "cell_type": "code",
   "execution_count": null,
   "metadata": {
    "extensions": {
     "jupyter_dashboards": {
      "version": 1,
      "views": {
       "grid_default": {},
       "report_default": {
        "hidden": false
       }
      }
     }
    }
   },
   "outputs": [],
   "source": [
    "print(nrow)\n",
    "print(ncol)\n",
    "print(np.shape(basin))"
   ]
  },
  {
   "cell_type": "code",
   "execution_count": null,
   "metadata": {
    "extensions": {
     "jupyter_dashboards": {
      "version": 1,
      "views": {
       "grid_default": {},
       "report_default": {
        "hidden": false
       }
      }
     }
    }
   },
   "outputs": [],
   "source": [
    "## Upload observed water table depth\n",
    "Measured_watertabledepth = np.zeros((382,21)) # 2D array containing measured data: 382 boreholes for Bhima, 21 dates\n",
    "wb = xlrd.open_workbook(path_observed_data + \"UB_GW_DataProcessed.xls\")\n",
    "sh = wb.sheet_by_name(u'Sheet1')\n",
    "for il in range(np.shape(Measured_watertabledepth)[0]):\n",
    "    for ic in range(np.shape(Measured_watertabledepth)[1]):\n",
    "        val=sh.row_values(il+1)[ic]\n",
    "        if val == '':\n",
    "            Measured_watertabledepth[il][ic] = np.nan\n",
    "        else:\n",
    "            Measured_watertabledepth[il][ic] = val\n",
    "\n",
    "## Upload associated dates\n",
    "Measured_dates = np.zeros(np.shape(Measured_watertabledepth)[1])\n",
    "for ic in range(np.shape(Measured_watertabledepth)[1]):\n",
    "    Measured_dates[ic] = datetime(1900, 1, 1).toordinal() + int(sh.row_values(0)[ic]) - 2\n",
    "    \n",
    "\n",
    "    \n",
    "## Upload coordinates, water table and topography of each borehole\n",
    "x_GW = np.loadtxt(path_observed_data + 'GW_level_x.txt')\n",
    "y_GW = np.loadtxt(path_observed_data + 'GW_level_y.txt')\n",
    "z_GW = np.loadtxt(path_observed_data + 'GW_level_z.txt')\n",
    "\n",
    "## List containing only boreholes in the basin and not too close from the basin limit (at least 1 cell)\n",
    "x_GW_bhima = np.zeros(np.shape(Measured_watertabledepth)[0])   # Boreholes out of the basin will be removed after            \n",
    "y_GW_bhima = np.zeros(np.shape(Measured_watertabledepth)[0]) \n",
    "z_GW_bhima = np.zeros(np.shape(Measured_watertabledepth)[0])\n",
    "wt_GW_bhima = np.zeros((np.shape(Measured_watertabledepth)[0],np.shape(Measured_watertabledepth)[1]))                 # Observed water table\n",
    "wtd_GW_bhima = np.zeros((np.shape(Measured_watertabledepth)[0],np.shape(Measured_watertabledepth)[1]))                # Observed water table depth\n",
    "Sim_wtd_GW_bhima = np.zeros((np.shape(Measured_watertabledepth)[0],np.shape(Measured_watertabledepth)[1]))            # Simulated water table\n",
    "Sim_wt_GW_bhima = np.zeros((np.shape(Measured_watertabledepth)[0],np.shape(Measured_watertabledepth)[1]))             # Simulated water table depth\n",
    "Sim_z_GW_bhima = np.zeros(np.shape(Measured_watertabledepth)[0])              # Altitude of the cell in the model (differnt from borehole information)\n",
    "\n",
    "## Preparing data for the linear interpolation inside the grid\n",
    "X = np.arange(0, ncol)\n",
    "Y = np.arange(0, nrow)\n",
    "X,Y = np.meshgrid(X,Y)\n",
    "points = np.array( (X.flatten(), Y.flatten()) ).T\n",
    "\n",
    "# We assume the period April 1997 to April 2007 is included in the model\n",
    "# For each date of observation, we look for the closer date of simulation\n",
    "Index_measured_date = np.zeros(len(Measured_dates))\n",
    "for it in range(len(Measured_dates)):\n",
    "    Index_measured_date[it] = np.argmin(np.abs(Time_ModFlowV3-Measured_dates[it])) # index corresponding to the closer date\n",
    "\n",
    "valuesWaterTable = np.zeros((np.shape(Measured_watertabledepth)[1], nrow*ncol))\n",
    "valuesWaterTableDepth = np.zeros((np.shape(Measured_watertabledepth)[1], nrow*ncol))\n",
    "\n",
    "for it in range(len(Measured_dates)): # For each measured time\n",
    "    PiezoMap = GWTable_ModFlow[int(Index_measured_date[it])]\n",
    "    PiezoDepthMap = Topography_ModFlow - GWTable_ModFlow[int(Index_measured_date[it])]\n",
    "    valuesWaterTable[it] = PiezoMap.flatten()           # Map of the simulated water table for each date of observation\n",
    "    valuesWaterTableDepth[it] = PiezoDepthMap.flatten() # Map of the simulated water table depth for each date of observation\n",
    "\n",
    "valuesTopography_ModFlow = Topography_ModFlow.flatten() # Map of the topography defined in ModFlow\n",
    "\n",
    "som=0\n",
    "for pz in range(len(x_GW)): # For each monitoring borehole\n",
    "\n",
    "    # Find the corresponding column and row where the borehole is located\n",
    "    colPz = int(round((x_GW[pz]-float(Size[0]))/res_ModFlow))\n",
    "    rowPz = int(round((float(Size[2])-y_GW[pz])/res_ModFlow))\n",
    "\n",
    "    if colPz>0 and rowPz>0 and colPz<ncol and rowPz<nrow:       # If the borehole is in the model\n",
    "        if basin[rowPz][colPz] == 1:         # If the borehole is in the basin\n",
    "\n",
    "            # Interpolating the simulated value as observation points are not in the cells center\n",
    "            X0 = (x_GW[pz]-float(Size[0]))/res_ModFlow\n",
    "            Y0 = (float(Size[2])-y_GW[pz])/res_ModFlow\n",
    "            \n",
    "            close_points = points[np.sqrt((points[:,0]-X0)**2+(points[:,1]-Y0)**2) < 15] # all points at distance < 4 cell units\n",
    "            # If the cell is not too close from an inactive cell (= too close from the basin limits)\n",
    "            if 0 not in basin[close_points[:,1],close_points[:,0]]:\n",
    "                som=som+1\n",
    "\n",
    "                x_GW_bhima[som-1] = x_GW[pz]\n",
    "                y_GW_bhima[som-1] = y_GW[pz]\n",
    "                z_GW_bhima[som-1] = z_GW[pz]\n",
    "                wtd_GW_bhima[som-1][:] = Measured_watertabledepth[pz]               # Each column corresponds to a specific date between April 1997 and April 2007\n",
    "                wt_GW_bhima[som-1][:] = z_GW[pz]-Measured_watertabledepth[pz]\n",
    "\n",
    "                # As interpolation seems to long for the Bhima, we create a new grid closer from the observation point\n",
    "                points2 = points[np.sqrt((points[:,0]-X0)**2+(points[:,1]-Y0)**2) < 2]\n",
    "                \n",
    "                # Interpolation\n",
    "                valuesTopography_ModFlow2 = valuesTopography_ModFlow[np.sqrt((points[:,0]-X0)**2+(points[:,1]-Y0)**2) < 2]\n",
    "                Val = griddata(points2, valuesTopography_ModFlow2, (X0,Y0), method='linear' )\n",
    "                Sim_z_GW_bhima[som-1] = Val\n",
    "\n",
    "                compt=0\n",
    "                for ii in range(len(Measured_dates)): # For each measured time\n",
    "\n",
    "                    valuesWaterTableDepth2 = valuesWaterTableDepth[ii][np.sqrt((points[:,0]-X0)**2+(points[:,1]-Y0)**2) < 2]\n",
    "                    valuesWaterTable2 = valuesWaterTable[ii][np.sqrt((points[:,0]-X0)**2+(points[:,1]-Y0)**2) < 2]\n",
    "                    Val = griddata(points2, valuesWaterTableDepth2, (X0,Y0), method='linear' )\n",
    "                    Sim_wtd_GW_bhima[som-1][compt] = Val\n",
    "                    Val = griddata(points2, valuesWaterTable2, (X0,Y0), method='linear' )\n",
    "                    Sim_wt_GW_bhima[som-1][compt] = Val\n",
    "                    compt+=1\n",
    "\n",
    "print('Number of boreholes in the Bhima basin : ', np.shape(Measured_watertabledepth)[0])            \n",
    "print('Number of boreholes used for water table comparison in the selected basin : ', som)\n",
    "\n",
    "## Keep only boreholes inside the basin and not too close from the basin limits\n",
    "x_GW_bhima = x_GW_bhima[:som]       \n",
    "y_GW_bhima = y_GW_bhima[:som] \n",
    "z_GW_bhima = z_GW_bhima[:som] \n",
    "wt_GW_bhima = wt_GW_bhima[:som] \n",
    "wtd_GW_bhima = wtd_GW_bhima[:som] \n",
    "Sim_wtd_GW_bhima = Sim_wtd_GW_bhima[:som] \n",
    "Sim_wt_GW_bhima = Sim_wt_GW_bhima[:som] \n",
    "Sim_z_GW_bhima = Sim_z_GW_bhima[:som]\n"
   ]
  },
  {
   "cell_type": "markdown",
   "metadata": {
    "extensions": {
     "jupyter_dashboards": {
      "version": 1,
      "views": {
       "grid_default": {},
       "report_default": {
        "hidden": false
       }
      }
     }
    }
   },
   "source": [
    "## Computing criteria for the time average"
   ]
  },
  {
   "cell_type": "code",
   "execution_count": null,
   "metadata": {
    "extensions": {
     "jupyter_dashboards": {
      "version": 1,
      "views": {
       "grid_default": {},
       "report_default": {
        "hidden": true
       }
      }
     }
    }
   },
   "outputs": [],
   "source": [
    "## COMPUTING ROOT MEAN SQUARE ERROR AND CORELATION BETWEEN OBSERVATION AND SIMULATION ##\n",
    "## MEAN VALUE ## -> compute a global RMS error, normalized difference, normalized RMSE and coefficient of correlation\n",
    "\n",
    "## Time averaging of simulate and observed data\n",
    "Mean_Sim_wt_GW_bhima = np.mean(Sim_wt_GW_bhima,1)\n",
    "Mean_Sim_wtd_GW_bhima = np.mean(Sim_wtd_GW_bhima,1)\n",
    "Mean_wt_GW_bhima = np.nanmean(wt_GW_bhima,1)    # nanmean is used because there are nan values in observed data\n",
    "Mean_wtd_GW_bhima = np.nanmean(wtd_GW_bhima,1)\n",
    "\n",
    "## Correlation COEFFICIENT\n",
    "PearsonWaterTable = np.corrcoef(Mean_wt_GW_bhima, Mean_Sim_wt_GW_bhima)    \n",
    "CorrWaterTable = PearsonWaterTable[0][1]\n",
    "PearsonWaterTableDepth = np.corrcoef(Mean_wtd_GW_bhima, Mean_Sim_wtd_GW_bhima)    \n",
    "CorrWaterTableDepth = PearsonWaterTableDepth[0][1]\n",
    "\n",
    "## MEAN Normalize water table depth difference\n",
    "average_Norm_diffDepth = np.nanmean(np.abs(Mean_wtd_GW_bhima - Mean_Sim_wtd_GW_bhima)/Mean_wtd_GW_bhima*100) # In percentage\n",
    "Norm_diffDepth = (Mean_wtd_GW_bhima - Mean_Sim_wtd_GW_bhima)/Mean_wtd_GW_bhima*100 # In percentage\n",
    "# The 'average' criteria is always positive, we add - to indicate if simulated water levels are too deep\n",
    "average_Norm_diffDepth = average_Norm_diffDepth * (np.nanmean(Norm_diffDepth)/np.abs(np.nanmean(Norm_diffDepth)))\n",
    "\n",
    "## MEAN Root mean square error\n",
    "RmseWaterTable = np.sqrt(np.sum((Mean_wt_GW_bhima - Mean_Sim_wt_GW_bhima)**2) / len(Mean_wt_GW_bhima))\n",
    "RmseWaterTableDepth = np.sqrt(np.sum((Mean_wtd_GW_bhima - Mean_Sim_wtd_GW_bhima)**2) / len(Mean_wtd_GW_bhima))\n",
    "\n",
    "## MEAN normalized Root mean square error\n",
    "RmseWaterTable_norm = RmseWaterTable/np.std(Mean_wt_GW_bhima)\n",
    "RmseWaterTableDepth_norm = RmseWaterTableDepth/np.std(Mean_wtd_GW_bhima)\n"
   ]
  },
  {
   "cell_type": "markdown",
   "metadata": {
    "extensions": {
     "jupyter_dashboards": {
      "version": 1,
      "views": {
       "grid_default": {},
       "report_default": {
        "hidden": false
       }
      }
     }
    }
   },
   "source": [
    "## Plot of the time average comparison"
   ]
  },
  {
   "cell_type": "code",
   "execution_count": null,
   "metadata": {
    "extensions": {
     "jupyter_dashboards": {
      "version": 1,
      "views": {
       "grid_default": {},
       "report_default": {
        "hidden": false
       }
      }
     }
    },
    "scrolled": false
   },
   "outputs": [],
   "source": [
    "## Plot the basin map with scatter showing discrepancy in Water Table Depth\n",
    "fig4 = plt.figure()\n",
    "Topo = np.copy(Topography_ModFlow)\n",
    "Topo[np.isnan(MeanWaterTable)] = np.nan\n",
    "plt.imshow(Topo, cmap='copper', alpha=0.7, extent=extent, origin='lower')\n",
    "plt.gca().invert_yaxis()\n",
    "plt.title('Mean Water Table Depth Comparison at several boreholes', fontsize=16)\n",
    "plt.xticks(fontsize=14)\n",
    "plt.yticks(fontsize=14)\n",
    "plt.scatter(x_GW_bhima, y_GW_bhima, c=Norm_diffDepth, s=50)\n",
    "cb = plt.colorbar()\n",
    "cb.ax.tick_params(labelsize=14)\n",
    "cb.set_label('Water Table Depth Difference [%]\\n(<0 if too deep)', fontsize=15)\n",
    "cb.ax.tick_params(labelsize=14)\n",
    "\n",
    "\n",
    "## Plot time-averaged results for water table comparison\n",
    "fig5 = plt.figure()\n",
    "# Print the perfect line 1/1\n",
    "plt.plot([np.nanmin(Mean_wt_GW_bhima),np.nanmax(Mean_wt_GW_bhima)],[np.nanmin(Mean_wt_GW_bhima),np.nanmax(Mean_wt_GW_bhima)], linestyle='solid', linewidth=2, marker=None)\n",
    "label1 = ' Pearson correlation coefficient : ' + str(round(CorrWaterTable*100)/100) + '\\n RMSE [m] : ' + str(round(RmseWaterTable*100)/100) + '\\n Normalized RMSE: ' + str(round(RmseWaterTable_norm*100)/100) \n",
    "plt.plot(Mean_wt_GW_bhima, Mean_Sim_wt_GW_bhima, marker='o', markersize=10, color='r', linestyle='')\n",
    "plt.text(np.nanmin(Mean_wt_GW_bhima), np.nanmax(Mean_wt_GW_bhima)-100, label1, fontsize=15,\n",
    "        bbox=dict(facecolor='white', alpha=0.5), linespacing=2)\n",
    "plt.xlabel('Measured Mean Water Table [m]', fontsize=16)\n",
    "plt.ylabel('Simulated Mean Water Table [m]', fontsize= 16)\n",
    "plt.grid()\n",
    "plt.xticks(fontsize=14)\n",
    "plt.yticks(fontsize=14)\n",
    "\n",
    "## Plot time-averaged results for water table depth comparison\n",
    "fig6 = plt.figure()\n",
    "# Print the perfect line 1/1\n",
    "plt.plot([np.nanmin(Mean_wtd_GW_bhima),np.nanmax(Mean_wtd_GW_bhima)],[np.nanmin(Mean_wtd_GW_bhima),np.nanmax(Mean_wtd_GW_bhima)], linestyle='solid', linewidth=2, marker=None)\n",
    "label2 = ' Mean difference [%] : ' + str(round(average_Norm_diffDepth*100)/100) + '\\n Pearson correlation coefficient : ' + str(round(CorrWaterTableDepth*100)/100) + '\\n RMSE [m] : ' + str(round(RmseWaterTableDepth*100)/100) + '\\n Normalized RMSE: ' + str(round(RmseWaterTableDepth_norm*100)/100) \n",
    "plt.plot(Mean_wtd_GW_bhima, Mean_Sim_wtd_GW_bhima, marker='o', markersize=10, color='r', linestyle='')\n",
    "plt.text(np.nanmin(Mean_wtd_GW_bhima), np.nanmax(Mean_Sim_wtd_GW_bhima)-30, label2, fontsize=15,\n",
    "        bbox=dict(facecolor='white', alpha=0.5), linespacing=2)\n",
    "plt.xlabel('Measured time-averaged water table depth [m]', fontsize= 16)\n",
    "plt.ylabel('Simulated time-averaged water table depth [m]', fontsize= 16)\n",
    "plt.grid()\n",
    "plt.xticks(fontsize=14)\n",
    "plt.yticks(fontsize=14)\n"
   ]
  },
  {
   "cell_type": "code",
   "execution_count": null,
   "metadata": {
    "extensions": {
     "jupyter_dashboards": {
      "version": 1,
      "views": {
       "grid_default": {},
       "report_default": {
        "hidden": true
       }
      }
     }
    }
   },
   "outputs": [],
   "source": []
  },
  {
   "cell_type": "markdown",
   "metadata": {
    "extensions": {
     "jupyter_dashboards": {
      "version": 1,
      "views": {
       "grid_default": {},
       "report_default": {
        "hidden": false
       }
      }
     }
    }
   },
   "source": [
    "## Comparing Water Table fluctuations"
   ]
  },
  {
   "cell_type": "code",
   "execution_count": null,
   "metadata": {
    "extensions": {
     "jupyter_dashboards": {
      "version": 1,
      "views": {
       "grid_default": {},
       "report_default": {
        "hidden": false
       }
      }
     }
    },
    "scrolled": false
   },
   "outputs": [],
   "source": [
    "## COMPUTING ROOT MEAN SQUARE ERROR AND CORELATION BETWEEN OBSERVATION AND SIMULATION ##\n",
    "## TRANSIENT VALUE ## -> compute nRMSE for each borehole, after subtracting the mean as the mean behavior is already compared by other criteria\n",
    "\n",
    "## Computing normalized root mean square error on water table fluctuations for each borehole\n",
    "Transient_nRMSE = np.zeros(len(wt_GW_bhima))\n",
    "for ib in range(len(wt_GW_bhima)): # For each borehole\n",
    "    Transient_nRMSE[ib] = np.sqrt(np.nansum((wt_GW_bhima[ib]-np.nanmean(wt_GW_bhima[ib])-(Sim_wt_GW_bhima[ib]-np.nanmean(Sim_wt_GW_bhima[ib])))**2) / np.count_nonzero(~np.isnan(wt_GW_bhima[ib]))) / np.nanstd(wt_GW_bhima[ib])\n",
    "\n",
    "## Mean value of the nRMSE in transient\n",
    "wt_fluctu = np.zeros((len(wt_GW_bhima),len(Measured_dates)))\n",
    "Sim_wt_fluctu = np.zeros((len(wt_GW_bhima),len(Measured_dates)))\n",
    "for ib in range(len(wt_GW_bhima)): # for each borehole, remove the mean\n",
    "    wt_fluctu[ib] = wt_GW_bhima[ib]-np.nanmean(wt_GW_bhima[ib])\n",
    "    Sim_wt_fluctu[ib] = Sim_wt_GW_bhima[ib]-np.nanmean(Sim_wt_GW_bhima[ib])\n",
    "\n",
    "Average_transient_nRMSE = np.sqrt(np.nansum((np.nanmean(wt_fluctu, 0)-np.nanmean(Sim_wt_fluctu, 0))**2) / np.count_nonzero(~np.isnan(np.nanmean(wt_fluctu, 0)))) / np.nanstd(np.nanmean(wt_fluctu, 0))\n",
    "\n",
    "# Optimize curve fitting with a sinus, to compare the seasonal amplitude\n",
    "from scipy import optimize\n",
    "from scipy import signal\n",
    "\n",
    "x_data = np.linspace(1,len(Measured_dates),len(Measured_dates))\n",
    "periode_annuel = 12 # Because we are at monthly timestep\n",
    "\n",
    "def sin_func(x, ampli, phase):\n",
    "    ff = np.abs(ampli) * np.sin(2*np.pi/periode_annuel * x + phase)\n",
    "    return ff\n",
    "\n",
    "params_mean_wt_fluctu, params_covariance = optimize.curve_fit(sin_func, x_data, signal.detrend(np.nanmean(wt_fluctu, 0)), p0=[1, 5])\n",
    "params_mean_Sim_wt_fluctu, params_covariance = optimize.curve_fit(sin_func, x_data, signal.detrend(np.nanmean(Sim_wt_fluctu, 0)), p0=[1, 5])\n",
    "seasonal_amplitude_difference = -2 * (params_mean_wt_fluctu[0]-params_mean_Sim_wt_fluctu[0])\n",
    "\n",
    "Average_transient_nRMSE = Average_transient_nRMSE * (seasonal_amplitude_difference/np.abs(seasonal_amplitude_difference))\n",
    "# thus the critria is > 0 when the simulated fluctuations are not high\n",
    "\n",
    "## Plot the Transient_nRMSE in function of normalized difference between water table depth\n",
    "fig7 = plt.figure()\n",
    "plt.scatter(Norm_diffDepth, Transient_nRMSE, marker='o', s=30)\n",
    "plt.xlabel('Normalized time-averaged water table depth difference [%]', fontsize= 16)\n",
    "plt.ylabel('Normalized root mean square error on water table fluctuations', fontsize= 16)\n",
    "plt.grid()\n",
    "plt.xticks(fontsize=14)\n",
    "plt.yticks(fontsize=14)\n",
    "\n",
    "\n",
    "## Plot the best 3 boreholes for water table fluctuations\n",
    "sorted_Transient_nRMSE = np.argsort(Transient_nRMSE)\n",
    "for i in range(10):\n",
    "    plt.figure()\n",
    "    plt.plot_date(Measured_dates, wt_GW_bhima[sorted_Transient_nRMSE[i]]-np.nanmean(wt_GW_bhima[sorted_Transient_nRMSE[i]]), label='Observed water table fluctuations [m]', linestyle='solid', marker=None, linewidth=2, color='k')\n",
    "    plt.plot_date(Measured_dates, Sim_wt_GW_bhima[sorted_Transient_nRMSE[i]]-np.nanmean(Sim_wt_GW_bhima[sorted_Transient_nRMSE[i]]), label='Simulated water table fluctuations [m]', linestyle='solid', marker=None, linewidth=2, color='r')\n",
    "    plt.grid()\n",
    "    plt.legend(fontsize=15)\n",
    "    plt.xticks(fontsize=14)\n",
    "    plt.yticks(fontsize=14)\n",
    "    plt.xlabel('Time [monthly]', fontsize=14)\n",
    "    plt.ylabel('Water Table fluctuations (best boreholes)', fontsize=14)\n",
    "    txt_title = 'Transient nRMSE on Water Table Fluctuations : ' + str(np.round(Transient_nRMSE[sorted_Transient_nRMSE[i]]*100)/100)\n",
    "    plt.title(txt_title, fontsize=15)\n"
   ]
  },
  {
   "cell_type": "code",
   "execution_count": null,
   "metadata": {
    "extensions": {
     "jupyter_dashboards": {
      "version": 1,
      "views": {
       "grid_default": {},
       "report_default": {
        "hidden": false
       }
      }
     }
    }
   },
   "outputs": [],
   "source": [
    "## Plot the mean storage fluctuations at boreholes,\n",
    "\n",
    "# Plot the results from the model and from the observed data\n",
    "fig11 = plt.figure()\n",
    "plt.plot_date(Measured_dates, np.nanmean(wt_fluctu, 0), label='Observed water table fluctuations [m]', linestyle='solid', marker=None, linewidth=2, color='k')\n",
    "plt.plot_date(Measured_dates, np.nanmean(Sim_wt_fluctu, 0), label='Simulated water table fluctuations [m]', linestyle='solid', marker=None, linewidth=2, color='r')\n",
    "plt.grid()\n",
    "plt.legend(fontsize=15)\n",
    "plt.xticks(fontsize=14)\n",
    "plt.yticks(fontsize=14)\n",
    "plt.xlabel('Time [monthly]', fontsize=14)\n",
    "plt.ylabel('Water Table fluctuations (average across all boreholes) [m]', fontsize=14)\n",
    "txt_title = 'Normalized root mean square error on water table fluctuations (average across all boreholes) : ' + str(np.round(Average_transient_nRMSE*100)/100)\n",
    "plt.title(txt_title, fontsize=15)\n",
    "from datetime import datetime\n",
    "import plotly.graph_objects as go\n",
    "fig = go.Figure()\n",
    "Measured_dates_ex = []\n",
    "for ic in range(np.shape(Measured_watertabledepth)[1]):\n",
    "    proper_date = datetime.fromordinal(datetime(1900, 1, 1).toordinal() + int(sh.row_values(0)[ic]) - 2)\n",
    "    Measured_dates_ex.append(proper_date)\n",
    "    \n",
    "fig.add_trace(go.Scatter(y=np.nanmean(wt_fluctu, 0),\n",
    "                         x=Measured_dates_ex,\n",
    "                mode='lines',\n",
    "                name='Observed'))\n",
    "\n",
    "fig.add_trace(go.Scatter(y=np.nanmean(Sim_wt_fluctu, 0),\n",
    "                         x=Measured_dates_ex,\n",
    "                mode='lines',\n",
    "                name='Simulated'))\n",
    "\n",
    "fig.update_layout(title= 'Water table fluctuations (average across all wells)',\n",
    "                   xaxis_title='Month',\n",
    "                   yaxis_title='Water Table fluctuations [m]')\n",
    " \n",
    "fig.show()"
   ]
  },
  {
   "cell_type": "code",
   "execution_count": null,
   "metadata": {
    "extensions": {
     "jupyter_dashboards": {
      "version": 1,
      "views": {
       "grid_default": {},
       "report_default": {
        "hidden": false
       }
      }
     }
    }
   },
   "outputs": [],
   "source": [
    "import matplotlib.backends.backend_pdf\n",
    "print(plt.figure().number)\n",
    "pdf = matplotlib.backends.backend_pdf.PdfPages(path_model_outputs + r\"\\GW_output.pdf\")\n",
    "pdf.savefig(fig1)\n",
    "pdf.savefig(fig2)\n",
    "pdf.savefig(fig3)\n",
    "pdf.savefig(fig4)\n",
    "pdf.savefig(fig5)\n",
    "pdf.savefig(fig6)\n",
    "pdf.savefig(fig7)\n",
    "pdf.savefig(fig11)\n",
    "pdf.close()"
   ]
  },
  {
   "cell_type": "code",
   "execution_count": null,
   "metadata": {
    "scrolled": false
   },
   "outputs": [],
   "source": [
    "\"\"\"\n",
    "for i in range(25):\n",
    "    plt.figure()\n",
    "    plt.plot_date(Measured_dates, wt_GW_bhima[sorted_Transient_nRMSE[i]], label='Observed water table [m]', linestyle='solid', marker=None, linewidth=2, color='k')\n",
    "    plt.plot_date(Measured_dates, Sim_wt_GW_bhima[sorted_Transient_nRMSE[i]], label='Simulated water table [m]', linestyle='solid', marker=None, linewidth=2, color='r')\n",
    "    plt.grid()\n",
    "    plt.legend(fontsize=15)\n",
    "    plt.xticks(fontsize=14)\n",
    "    plt.yticks(fontsize=14)\n",
    "    plt.xlabel('Time [monthly]', fontsize=14)\n",
    "    plt.ylabel('Water Table fluctuations (best boreholes)', fontsize=14)\n",
    "    txt_title = 'Transient nRMSE on Water Table Fluctuations : ' + str(np.round(Transient_nRMSE[sorted_Transient_nRMSE[i]]*100)/100)\n",
    "    plt.title(txt_title, fontsize=15)\n",
    "\"\"\"\n",
    "\n",
    "import plotly.express as px\n",
    "\n",
    "print(px.colors.qualitative.Plotly)\n",
    "\n",
    "import plotly.graph_objects as go\n",
    "fig = go.Figure()\n",
    "for i in range(1, 10):\n",
    "    fig.add_trace(go.Scatter(y=wt_GW_bhima[sorted_Transient_nRMSE[i]],\n",
    "                             x=Measured_dates_ex,\n",
    "                    mode='lines',\n",
    "                    name='Observed '+str(i), line=dict(color = px.colors.qualitative.Plotly[i])))\n",
    "\n",
    "    fig.add_trace(go.Scatter(y=Sim_wt_GW_bhima[sorted_Transient_nRMSE[i]],\n",
    "                             x=Measured_dates_ex,\n",
    "                    mode='lines',\n",
    "                    name='Simulated ' +str(i),  line = dict(color = px.colors.qualitative.Plotly[i], dash='dot')))\n",
    "\"\"\"\n",
    "for i in range(10,20):\n",
    "    fig.add_trace(go.Scatter(y=wt_GW_bhima[sorted_Transient_nRMSE[i]],\n",
    "                             x=Measured_dates_ex,\n",
    "                    mode='lines',\n",
    "                    name='Observed '+str(i), line=dict(color = px.colors.qualitative.Bold[i-10])))\n",
    "\n",
    "    fig.add_trace(go.Scatter(y=Sim_wt_GW_bhima[sorted_Transient_nRMSE[i]],\n",
    "                             x=Measured_dates_ex,\n",
    "                    mode='lines',\n",
    "                    name='Simulated ' +str(i),  line = dict(color = px.colors.qualitative.Bold[i-10], dash='dot')))\n",
    "        \n",
    "\"\"\"\n",
    "fig.update_layout(title= 'Water table elevation',\n",
    "                   xaxis_title='Month',\n",
    "                   yaxis_title='Water table elevation [m]')\n",
    "fig.show()"
   ]
  },
  {
   "cell_type": "code",
   "execution_count": null,
   "metadata": {
    "extensions": {
     "jupyter_dashboards": {
      "version": 1,
      "views": {
       "grid_default": {},
       "report_default": {
        "hidden": true
       }
      }
     }
    }
   },
   "outputs": [],
   "source": []
  },
  {
   "cell_type": "code",
   "execution_count": null,
   "metadata": {},
   "outputs": [],
   "source": []
  }
 ],
 "metadata": {
  "extensions": {
   "jupyter_dashboards": {
    "activeView": "report_default",
    "version": 1,
    "views": {
     "grid_default": {
      "name": "grid",
      "type": "grid"
     },
     "report_default": {
      "name": "report",
      "type": "report"
     }
    }
   }
  },
  "kernelspec": {
   "display_name": "Python 3",
   "language": "python",
   "name": "python3"
  },
  "language_info": {
   "codemirror_mode": {
    "name": "ipython",
    "version": 3
   },
   "file_extension": ".py",
   "mimetype": "text/x-python",
   "name": "python",
   "nbconvert_exporter": "python",
   "pygments_lexer": "ipython3",
   "version": "3.7.5"
  }
 },
 "nbformat": 4,
 "nbformat_minor": 4
}
