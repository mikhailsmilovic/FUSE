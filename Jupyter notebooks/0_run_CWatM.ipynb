{
 "cells": [
  {
   "cell_type": "markdown",
   "metadata": {
    "extensions": {
     "jupyter_dashboards": {
      "version": 1,
      "views": {
       "grid_default": {},
       "report_default": {
        "hidden": false
       }
      }
     }
    }
   },
   "source": [
    "<img style=\"float: right;\" src=\"https://drive.google.com/uc?export=view&id=1qVA-sPHp5TY5D7enbU7mF4zZ8obu5wrC\" width=150 height=150 />\n",
    "\n",
    "### The Community Water Model (CWatM) is an open-source hydrological model developed at IIASA\n",
    "This notebook runs CWatM using the excel file cwatm_settings.xlsx. Presented thereafter are outputs of the entire system as well as several highlighted components.\n",
    "<br><br>\n",
    "\n",
    "The **output_folder** in the accompanied notebook should point to where the simulations are held. <br>\n",
    "The **basepath** should point to the folder \"CWatM_settings\" containing the two files:\n",
    " - *cwatm_settings.xlsx*: \n",
    " - *settings_CwatM_template.ini*\n",
    " \n",
    " "
   ]
  },
  {
   "cell_type": "raw",
   "metadata": {},
   "source": [
    "!pip install xlrd\n",
    "!pip install pandas\n",
    "!pip install matplotlib"
   ]
  },
  {
   "cell_type": "code",
   "execution_count": 7,
   "metadata": {
    "extensions": {
     "jupyter_dashboards": {
      "version": 1,
      "views": {
       "grid_default": {},
       "report_default": {
        "hidden": true
       }
      }
     }
    }
   },
   "outputs": [],
   "source": [
    "#basepath = 'C:\\GitHub\\FUSE\\CWatM_settings'\n",
    "output_folder = 'C:/CWatM_output/Bhima'\n",
    "#output_folder =r'C:\\GitHub\\bhima_repo\\modules\\hydro\\hydro_outputs'\n",
    "# cwatm_source_path must also be changed below\n",
    "\n",
    "#basepath = r'C:\\GitHub\\bhima_repo_clean\\modules\\hydro\\hydro_files\\settings'\n",
    "basepath = r'C:\\GitHub\\FUSE\\CWatM_settings'\n",
    "\n",
    "water_balance = True # most outputs\n",
    "outputsForNotebooks = True # for discharge and waterbodies. A small subset of water_balance for discharge and waterbodies\n",
    "AgricultureNotebook = True # For the LandCoverUse_CWatM notebook.\n",
    "#AgInputsNotebook = True #TODO: For the AgInputs notebook\n",
    "print_settings = False # Print the CWatM settings here\n",
    "\n"
   ]
  },
  {
   "cell_type": "code",
   "execution_count": 4,
   "metadata": {
    "extensions": {
     "jupyter_dashboards": {
      "version": 1,
      "views": {
       "grid_default": {},
       "report_default": {
        "hidden": true
       }
      }
     }
    }
   },
   "outputs": [],
   "source": [
    "def create_cwatm_settings_dict_obj_TEST(xl_settings_file_path):\n",
    "    import xlrd\n",
    "    import pandas as pd\n",
    "    # Create dictionary from excel file\n",
    "    settings_dict = {}\n",
    "    df = pd.read_excel(xl_settings_file_path, engine='openpyxl')\n",
    "    wb = xlrd.open_workbook(xl_settings_file_path)\n",
    "    sh = wb.sheet_by_index(0)\n",
    "    for i in range(len(df)+1): #MS\n",
    "        cell_key = sh.cell(i, 0).value\n",
    "        cell_value = sh.cell(i, 1).value\n",
    "        settings_dict[cell_key] = cell_value\n",
    "    return settings_dict\n",
    "\n",
    "    \n",
    "def define_cwatm_settings_TEST(settings_template, new_settings_file, settings_dictionary):\n",
    "    global Modflow\n",
    "    sourcefile = open(settings_template, \"r\")\n",
    "    newfile = open(new_settings_file, \"wt\")\n",
    "    keylist = list(settings_dictionary.keys())\n",
    "    for key in keylist:\n",
    "        if 'modflow_coupling' in key:\n",
    "            Modflow = settings_dictionary[key]\n",
    "            Modflow_found = True\n",
    "        \n",
    "    for line in sourcefile:\n",
    "\n",
    "        boolcheck = [elem in line for elem in keylist]\n",
    "        match = any(elem in line for elem in keylist)\n",
    "        ix = boolcheck.index(match)\n",
    "        if 'modflow_coupling' in line and not 'Modflow_found' in locals():\n",
    "            Modflow = False if line.split()[-1]==('False' or 'FALSE') else True\n",
    "        if match:\n",
    "            \n",
    "            key = keylist.pop(ix)\n",
    "            value = settings_dictionary[key]\n",
    "            \n",
    "            water_balance_outputs=''\n",
    "            if key == 'OUT_MAP_Daily':\n",
    "                if water_balance:\n",
    "                    #water_balance_outputs= 'pumping_actual, gwstore, returnFlow, act_SurfaceWaterAbstract,act_nonIrrConsumption,sum_runoff,sum_interceptEvap,sum_actBareSoilEvap,act_totalIrrConsumption, sum_gwRecharge, gwstore, capillar, baseflow, act_bigLakeResAbst, leakage, actTransTotal_nonpaddy, actTransTotal_paddy, actTransTotal_grasslands, actTransTotal_forest, pumping_actual, pumping, cellArea, totalET, Rain, EvapoChannel, EvapWaterBodyM,  channelStorage, lakeResStorage, totalSto, storGroundwater, gwstore, sum_actTransTotal, sum_actBareSoilEvap, sum_interceptEvap, sum_openWaterEvap, addtoevapotrans,   lakeResInflowDis, lakeResOutflowDis, lakeResOutflowM, lakeResInflowM, discharge'\n",
    "                    water_balance_outputs= 'act_indWithdrawal, act_domWithdrawal, act_livWithdrawal, act_indConsumption, act_domConsumption, act_livConsumption, lakeResInflowDis, lakeResOutflowDis, head_development, act_channelAbstract_Lift, act_nonLocalchannelAbstract_M, act_nonLocalLakeAbstract_M, sum_prefFlow_GW, sum_perc3toGW_GW, leakageIntoGw, leakageIntoRunoff,  riverbedExchangeM, act_bigLakeResAbst_alloc, act_LocalLakeAbstract, act_channelAbstract_Local, act_channelAbstract, act_irrWithdrawalGW, act_irrWithdrawalSW, act_nonIrrWithdrawalGW, act_nonIrrWithdrawalSW, act_nonIrrWithdrawal, act_irrWithdrawal, delivered_water, act_LocalLakeAbstract, resStorageTotal_alloc, pumping_actual, gwstore, returnFlow, act_SurfaceWaterAbstract,act_nonIrrConsumption,sum_runoff,sum_interceptEvap,sum_actBareSoilEvap,act_totalIrrConsumption, sum_gwRecharge, gwstore, capillar, baseflow, act_bigLakeResAbst, act_bigLakeResAbst_alloc, leakage, actTransTotal_nonpaddy, actTransTotal_paddy, actTransTotal_grasslands, actTransTotal_forest, pumping_actual, pumping, cellArea, totalET, Rain, EvapoChannel, EvapWaterBodyM,  channelStorage, lakeResStorage, totalSto, storGroundwater, gwstore, sum_actTransTotal, sum_actBareSoilEvap, sum_interceptEvap, sum_openWaterEvap, addtoevapotrans, lakeResOutflowM, lakeResInflowM, discharge'\n",
    "\n",
    "                elif outputsForNotebooks:\n",
    "                    water_balance_outputs= 'discharge, lakeResInflowDis, lakeResOutflowDis, lakeResStorage, act_bigLakeResAbst_alloc, act_LocalLakeAbstract, resStorageTotal_alloc'\n",
    "        \n",
    "                    \n",
    "                else:\n",
    "                    water_balance_outputs='discharge'\n",
    "                if str(value)!='':\n",
    "                    water_balance_outputs += ','\n",
    "                \n",
    "            if key == 'OUT_MAP_MonthEnd':\n",
    "                if AgricultureNotebook == True:\n",
    "                    water_balance_outputs= 'head_development, head_development_segments, modflowWaterLevel, fracVegCover[0], fracVegCover[1], fracVegCover[2], fracVegCover[3], fracVegCover[4], fracVegCover[5], frac_totalIrr, frac_totalnonIrr, fracCrops_Irr[0],  fracCrops_Irr[1], fracCrops_Irr[2], fracCrops_Irr[3], fracCrops_Irr[4], fracCrops_Irr[5], fracCrops_Irr[6], fracCrops_Irr[7], fracCrops_Irr[8], fracCrops_Irr[9], fracCrops_Irr[10], fracCrops_Irr[11], fracCrops_Irr[12], fracCrops_Irr[13], fracCrops_Irr[14], fracCrops_Irr[15], fracCrops_Irr[16], fracCrops_Irr[17], fracCrops_nonIrr[0], fracCrops_nonIrr[1], fracCrops_nonIrr[2], fracCrops_nonIrr[3], fracCrops_nonIrr[4], fracCrops_nonIrr[5], fracCrops_nonIrr[6], fracCrops_nonIrr[7],  fracCrops_nonIrr[8], fracCrops_nonIrr[9], fracCrops_nonIrr[10], fracCrops_nonIrr[11], fracCrops_nonIrr[12], fracCrops_nonIrr[13], fracCrops_nonIrr[14], fracCrops_nonIrr[15], fracCrops_nonIrr[16], fracCrops_nonIrr[17], fracCrops_IrrLandDemand[0],  fracCrops_IrrLandDemand[1], fracCrops_IrrLandDemand[2], fracCrops_IrrLandDemand[3], fracCrops_IrrLandDemand[4], fracCrops_IrrLandDemand[5], fracCrops_IrrLandDemand[6], fracCrops_IrrLandDemand[7],fracCrops_IrrLandDemand[8], fracCrops_IrrLandDemand[9], fracCrops_IrrLandDemand[10], fracCrops_IrrLandDemand[11], fracCrops_IrrLandDemand[12], fracCrops_IrrLandDemand[13], fracCrops_IrrLandDemand[14], fracCrops_IrrLandDemand[15], fracCrops_IrrLandDemand[16], fracCrops_IrrLandDemand[17], fracCrops_nonIrrLandDemand[0],  fracCrops_nonIrrLandDemand[1], fracCrops_nonIrrLandDemand[2], fracCrops_nonIrrLandDemand[3], fracCrops_nonIrrLandDemand[4], fracCrops_nonIrrLandDemand[5], fracCrops_nonIrrLandDemand[6], fracCrops_nonIrrLandDemand[7], fracCrops_nonIrrLandDemand[8], fracCrops_nonIrrLandDemand[9], fracCrops_nonIrrLandDemand[10], fracCrops_nonIrrLandDemand[11], fracCrops_nonIrrLandDemand[12], fracCrops_nonIrrLandDemand[13], fracCrops_nonIrrLandDemand[14], fracCrops_nonIrrLandDemand[15], fracCrops_nonIrrLandDemand[16], fracCrops_nonIrrLandDemand[17], fallowIrr, fallownonIrr, GeneralCrop_Irr, GeneralCrop_nonIrr, head_development, areaPaddy_Irr_segment, areaCrops_Irr_segment[0], areaCrops_nonIrr_segment[0], areaCrops_Irr_segment[1], areaCrops_nonIrr_segment[1], areaCrops_Irr_segment[2], areaCrops_nonIrr_segment[2], areaCrops_Irr_segment[3], areaCrops_nonIrr_segment[3], areaCrops_Irr_segment[4], areaCrops_nonIrr_segment[4], areaCrops_Irr_segment[5], areaCrops_nonIrr_segment[5], areaCrops_Irr_segment[6], areaCrops_nonIrr_segment[6], areaCrops_Irr_segment[7], areaCrops_nonIrr_segment[7], areaCrops_Irr_segment[8], areaCrops_nonIrr_segment[8], areaCrops_Irr_segment[9], areaCrops_nonIrr_segment[9], areaCrops_Irr_segment[10], areaCrops_nonIrr_segment[10], areaCrops_Irr_segment[11], areaCrops_nonIrr_segment[11], areaCrops_Irr_segment[12], areaCrops_nonIrr_segment[12], areaCrops_Irr_segment[13], areaCrops_nonIrr_segment[13], areaCrops_Irr_segment[14], areaCrops_nonIrr_segment[14], areaCrops_Irr_segment[15], areaCrops_nonIrr_segment[15] , areaCrops_Irr_segment[16], areaCrops_nonIrr_segment[16],  areaCrops_Irr_segment[17], areaCrops_nonIrr_segment[17], availableArableLand, availableArableLand_segment'\n",
    "                    if str(value)!='':\n",
    "                        water_balance_outputs += ','\n",
    "                        \n",
    "            newstring = key + ' = ' + water_balance_outputs + str(value) + '\\n'\n",
    "            newfile.write(newstring)\n",
    "            \n",
    "        else:\n",
    "            newfile.write(line)\n",
    "    sourcefile.close()\n",
    "    newfile.close()\n",
    "\n",
    "def show_cwatm_settings_file_TEST(settings_file_path):\n",
    "    file = open(settings_file_path, \"r\")\n",
    "    for line in file:\n",
    "        print(line)\n",
    "    file.close()\n",
    "\n",
    "def run_cwatm_TEST(settings_file_path):\n",
    "    import  os\n",
    "    cwatm_source_path = 'C:\\GitHub\\CWATM_priv_FUSE\\source_py3\\cwatm3.py'\n",
    "    #cwatm_source_path = r'C:\\GitHub\\bhima_repo_clean\\python_packages\\source_py3\\cwatm3.py'\n",
    "    command_str = 'python ' + cwatm_source_path + \" \" + settings_file_path + ' -l'\n",
    "    flag = os.system(command_str)\n",
    "    if flag == 0:\n",
    "        print('Successfully Finished Running CWATM\\n')"
   ]
  },
  {
   "cell_type": "code",
   "execution_count": 5,
   "metadata": {
    "extensions": {
     "jupyter_dashboards": {
      "version": 1,
      "views": {
       "grid_default": {},
       "report_default": {
        "hidden": false
       }
      }
     }
    },
    "scrolled": false
   },
   "outputs": [
    {
     "ename": "AttributeError",
     "evalue": "'ElementTree' object has no attribute 'getiterator'",
     "output_type": "error",
     "traceback": [
      "\u001b[1;31m---------------------------------------------------------------------------\u001b[0m",
      "\u001b[1;31mAttributeError\u001b[0m                            Traceback (most recent call last)",
      "\u001b[1;32m<ipython-input-5-5fae22c54905>\u001b[0m in \u001b[0;36m<module>\u001b[1;34m\u001b[0m\n\u001b[0;32m     11\u001b[0m \u001b[1;31m# Create an initial settings dictionary object from the excel file.\u001b[0m\u001b[1;33m\u001b[0m\u001b[1;33m\u001b[0m\u001b[1;33m\u001b[0m\u001b[0m\n\u001b[0;32m     12\u001b[0m \u001b[1;31m# This dictionary be modified by the urban and ag calculations to pass file paths or values\u001b[0m\u001b[1;33m\u001b[0m\u001b[1;33m\u001b[0m\u001b[1;33m\u001b[0m\u001b[0m\n\u001b[1;32m---> 13\u001b[1;33m \u001b[0msettings_dict\u001b[0m \u001b[1;33m=\u001b[0m \u001b[0mcreate_cwatm_settings_dict_obj_TEST\u001b[0m\u001b[1;33m(\u001b[0m\u001b[0mexcel_settings_file\u001b[0m\u001b[1;33m)\u001b[0m\u001b[1;33m\u001b[0m\u001b[1;33m\u001b[0m\u001b[0m\n\u001b[0m\u001b[0;32m     14\u001b[0m \u001b[1;33m\u001b[0m\u001b[0m\n\u001b[0;32m     15\u001b[0m \u001b[0mdefine_cwatm_settings_TEST\u001b[0m\u001b[1;33m(\u001b[0m\u001b[0msettings_template\u001b[0m\u001b[1;33m,\u001b[0m \u001b[0mnew_settings_file\u001b[0m\u001b[1;33m,\u001b[0m \u001b[0msettings_dict\u001b[0m\u001b[1;33m)\u001b[0m\u001b[1;33m\u001b[0m\u001b[1;33m\u001b[0m\u001b[0m\n",
      "\u001b[1;32m<ipython-input-4-df9a8bb05229>\u001b[0m in \u001b[0;36mcreate_cwatm_settings_dict_obj_TEST\u001b[1;34m(xl_settings_file_path)\u001b[0m\n\u001b[0;32m      5\u001b[0m     \u001b[0msettings_dict\u001b[0m \u001b[1;33m=\u001b[0m \u001b[1;33m{\u001b[0m\u001b[1;33m}\u001b[0m\u001b[1;33m\u001b[0m\u001b[1;33m\u001b[0m\u001b[0m\n\u001b[0;32m      6\u001b[0m     \u001b[0mdf\u001b[0m \u001b[1;33m=\u001b[0m \u001b[0mpd\u001b[0m\u001b[1;33m.\u001b[0m\u001b[0mread_excel\u001b[0m\u001b[1;33m(\u001b[0m\u001b[0mxl_settings_file_path\u001b[0m\u001b[1;33m,\u001b[0m \u001b[0mengine\u001b[0m\u001b[1;33m=\u001b[0m\u001b[1;34m'openpyxl'\u001b[0m\u001b[1;33m)\u001b[0m\u001b[1;33m\u001b[0m\u001b[1;33m\u001b[0m\u001b[0m\n\u001b[1;32m----> 7\u001b[1;33m     \u001b[0mwb\u001b[0m \u001b[1;33m=\u001b[0m \u001b[0mxlrd\u001b[0m\u001b[1;33m.\u001b[0m\u001b[0mopen_workbook\u001b[0m\u001b[1;33m(\u001b[0m\u001b[0mxl_settings_file_path\u001b[0m\u001b[1;33m)\u001b[0m\u001b[1;33m\u001b[0m\u001b[1;33m\u001b[0m\u001b[0m\n\u001b[0m\u001b[0;32m      8\u001b[0m     \u001b[0msh\u001b[0m \u001b[1;33m=\u001b[0m \u001b[0mwb\u001b[0m\u001b[1;33m.\u001b[0m\u001b[0msheet_by_index\u001b[0m\u001b[1;33m(\u001b[0m\u001b[1;36m0\u001b[0m\u001b[1;33m)\u001b[0m\u001b[1;33m\u001b[0m\u001b[1;33m\u001b[0m\u001b[0m\n\u001b[0;32m      9\u001b[0m     \u001b[1;32mfor\u001b[0m \u001b[0mi\u001b[0m \u001b[1;32min\u001b[0m \u001b[0mrange\u001b[0m\u001b[1;33m(\u001b[0m\u001b[0mlen\u001b[0m\u001b[1;33m(\u001b[0m\u001b[0mdf\u001b[0m\u001b[1;33m)\u001b[0m\u001b[1;33m+\u001b[0m\u001b[1;36m1\u001b[0m\u001b[1;33m)\u001b[0m\u001b[1;33m:\u001b[0m \u001b[1;31m#MS\u001b[0m\u001b[1;33m\u001b[0m\u001b[1;33m\u001b[0m\u001b[0m\n",
      "\u001b[1;32mc:\\users\\nb-smilovic\\envs\\iiasa\\lib\\site-packages\\xlrd\\__init__.py\u001b[0m in \u001b[0;36mopen_workbook\u001b[1;34m(filename, logfile, verbosity, use_mmap, file_contents, encoding_override, formatting_info, on_demand, ragged_rows)\u001b[0m\n\u001b[0;32m    128\u001b[0m         \u001b[1;32mif\u001b[0m \u001b[1;34m'xl/workbook.xml'\u001b[0m \u001b[1;32min\u001b[0m \u001b[0mcomponent_names\u001b[0m\u001b[1;33m:\u001b[0m\u001b[1;33m\u001b[0m\u001b[1;33m\u001b[0m\u001b[0m\n\u001b[0;32m    129\u001b[0m             \u001b[1;32mfrom\u001b[0m \u001b[1;33m.\u001b[0m \u001b[1;32mimport\u001b[0m \u001b[0mxlsx\u001b[0m\u001b[1;33m\u001b[0m\u001b[1;33m\u001b[0m\u001b[0m\n\u001b[1;32m--> 130\u001b[1;33m             bk = xlsx.open_workbook_2007_xml(\n\u001b[0m\u001b[0;32m    131\u001b[0m                 \u001b[0mzf\u001b[0m\u001b[1;33m,\u001b[0m\u001b[1;33m\u001b[0m\u001b[1;33m\u001b[0m\u001b[0m\n\u001b[0;32m    132\u001b[0m                 \u001b[0mcomponent_names\u001b[0m\u001b[1;33m,\u001b[0m\u001b[1;33m\u001b[0m\u001b[1;33m\u001b[0m\u001b[0m\n",
      "\u001b[1;32mc:\\users\\nb-smilovic\\envs\\iiasa\\lib\\site-packages\\xlrd\\xlsx.py\u001b[0m in \u001b[0;36mopen_workbook_2007_xml\u001b[1;34m(zf, component_names, logfile, verbosity, use_mmap, formatting_info, on_demand, ragged_rows)\u001b[0m\n\u001b[0;32m    810\u001b[0m     \u001b[1;32mdel\u001b[0m \u001b[0mzflo\u001b[0m\u001b[1;33m\u001b[0m\u001b[1;33m\u001b[0m\u001b[0m\n\u001b[0;32m    811\u001b[0m     \u001b[0mzflo\u001b[0m \u001b[1;33m=\u001b[0m \u001b[0mzf\u001b[0m\u001b[1;33m.\u001b[0m\u001b[0mopen\u001b[0m\u001b[1;33m(\u001b[0m\u001b[0mcomponent_names\u001b[0m\u001b[1;33m[\u001b[0m\u001b[1;34m'xl/workbook.xml'\u001b[0m\u001b[1;33m]\u001b[0m\u001b[1;33m)\u001b[0m\u001b[1;33m\u001b[0m\u001b[1;33m\u001b[0m\u001b[0m\n\u001b[1;32m--> 812\u001b[1;33m     \u001b[0mx12book\u001b[0m\u001b[1;33m.\u001b[0m\u001b[0mprocess_stream\u001b[0m\u001b[1;33m(\u001b[0m\u001b[0mzflo\u001b[0m\u001b[1;33m,\u001b[0m \u001b[1;34m'Workbook'\u001b[0m\u001b[1;33m)\u001b[0m\u001b[1;33m\u001b[0m\u001b[1;33m\u001b[0m\u001b[0m\n\u001b[0m\u001b[0;32m    813\u001b[0m     \u001b[1;32mdel\u001b[0m \u001b[0mzflo\u001b[0m\u001b[1;33m\u001b[0m\u001b[1;33m\u001b[0m\u001b[0m\n\u001b[0;32m    814\u001b[0m     \u001b[0mprops_name\u001b[0m \u001b[1;33m=\u001b[0m \u001b[1;34m'docprops/core.xml'\u001b[0m\u001b[1;33m\u001b[0m\u001b[1;33m\u001b[0m\u001b[0m\n",
      "\u001b[1;32mc:\\users\\nb-smilovic\\envs\\iiasa\\lib\\site-packages\\xlrd\\xlsx.py\u001b[0m in \u001b[0;36mprocess_stream\u001b[1;34m(self, stream, heading)\u001b[0m\n\u001b[0;32m    264\u001b[0m         \u001b[0mself\u001b[0m\u001b[1;33m.\u001b[0m\u001b[0mtree\u001b[0m \u001b[1;33m=\u001b[0m \u001b[0mET\u001b[0m\u001b[1;33m.\u001b[0m\u001b[0mparse\u001b[0m\u001b[1;33m(\u001b[0m\u001b[0mstream\u001b[0m\u001b[1;33m)\u001b[0m\u001b[1;33m\u001b[0m\u001b[1;33m\u001b[0m\u001b[0m\n\u001b[0;32m    265\u001b[0m         \u001b[0mgetmethod\u001b[0m \u001b[1;33m=\u001b[0m \u001b[0mself\u001b[0m\u001b[1;33m.\u001b[0m\u001b[0mtag2meth\u001b[0m\u001b[1;33m.\u001b[0m\u001b[0mget\u001b[0m\u001b[1;33m\u001b[0m\u001b[1;33m\u001b[0m\u001b[0m\n\u001b[1;32m--> 266\u001b[1;33m         \u001b[1;32mfor\u001b[0m \u001b[0melem\u001b[0m \u001b[1;32min\u001b[0m \u001b[0mself\u001b[0m\u001b[1;33m.\u001b[0m\u001b[0mtree\u001b[0m\u001b[1;33m.\u001b[0m\u001b[0miter\u001b[0m\u001b[1;33m(\u001b[0m\u001b[1;33m)\u001b[0m \u001b[1;32mif\u001b[0m \u001b[0mElement_has_iter\u001b[0m \u001b[1;32melse\u001b[0m \u001b[0mself\u001b[0m\u001b[1;33m.\u001b[0m\u001b[0mtree\u001b[0m\u001b[1;33m.\u001b[0m\u001b[0mgetiterator\u001b[0m\u001b[1;33m(\u001b[0m\u001b[1;33m)\u001b[0m\u001b[1;33m:\u001b[0m\u001b[1;33m\u001b[0m\u001b[1;33m\u001b[0m\u001b[0m\n\u001b[0m\u001b[0;32m    267\u001b[0m             \u001b[1;32mif\u001b[0m \u001b[0mself\u001b[0m\u001b[1;33m.\u001b[0m\u001b[0mverbosity\u001b[0m \u001b[1;33m>=\u001b[0m \u001b[1;36m3\u001b[0m\u001b[1;33m:\u001b[0m\u001b[1;33m\u001b[0m\u001b[1;33m\u001b[0m\u001b[0m\n\u001b[0;32m    268\u001b[0m                 \u001b[0mself\u001b[0m\u001b[1;33m.\u001b[0m\u001b[0mdump_elem\u001b[0m\u001b[1;33m(\u001b[0m\u001b[0melem\u001b[0m\u001b[1;33m)\u001b[0m\u001b[1;33m\u001b[0m\u001b[1;33m\u001b[0m\u001b[0m\n",
      "\u001b[1;31mAttributeError\u001b[0m: 'ElementTree' object has no attribute 'getiterator'"
     ]
    }
   ],
   "source": [
    "import time\n",
    "from datetime import date\n",
    "\n",
    "today = date.today().strftime(\"%B%d\")\n",
    "\n",
    "settings_template = basepath + r'\\settings_CWatM_template.ini'\n",
    "excel_settings_file =basepath + r'\\cwatm_settings.xlsx'\n",
    "#excel_settings_file =basepath + r'\\cwatm_settings_12Oct.xlsx'\n",
    "new_settings_file = basepath + r'\\settings_CWatM_'+today+'.ini'\n",
    "\n",
    "# Create an initial settings dictionary object from the excel file.\n",
    "# This dictionary be modified by the urban and ag calculations to pass file paths or values\n",
    "settings_dict = create_cwatm_settings_dict_obj_TEST(excel_settings_file)\n",
    "\n",
    "define_cwatm_settings_TEST(settings_template, new_settings_file, settings_dict)\n",
    "\n",
    "if print_settings == True:\n",
    "    show_cwatm_settings_file_TEST(new_settings_file)\n",
    "    \n",
    "\n",
    "run_cwatm_TEST(new_settings_file)"
   ]
  },
  {
   "cell_type": "code",
   "execution_count": null,
   "metadata": {},
   "outputs": [],
   "source": []
  },
  {
   "cell_type": "code",
   "execution_count": 9,
   "metadata": {
    "extensions": {
     "jupyter_dashboards": {
      "version": 1,
      "views": {
       "grid_default": {},
       "report_default": {
        "hidden": true
       }
      }
     }
    },
    "scrolled": false
   },
   "outputs": [
    {
     "ename": "RuntimeError",
     "evalue": "NetCDF: HDF error",
     "output_type": "error",
     "traceback": [
      "\u001b[1;31m---------------------------------------------------------------------------\u001b[0m",
      "\u001b[1;31mRuntimeError\u001b[0m                              Traceback (most recent call last)",
      "\u001b[1;32mC:\\GitHub\\FUSE\\Jupyter notebooks\\1_Balance_CWatM.ipynb\u001b[0m in \u001b[0;36m<module>\u001b[1;34m\u001b[0m\n\u001b[0;32m     14\u001b[0m \u001b[0mlon_idx\u001b[0m \u001b[1;33m=\u001b[0m \u001b[0mgeo_idx\u001b[0m\u001b[1;33m(\u001b[0m\u001b[0min_lon\u001b[0m\u001b[1;33m,\u001b[0m \u001b[0mlons\u001b[0m\u001b[1;33m)\u001b[0m\u001b[1;33m\u001b[0m\u001b[1;33m\u001b[0m\u001b[0m\n\u001b[0;32m     15\u001b[0m \u001b[1;33m\u001b[0m\u001b[0m\n\u001b[1;32m---> 16\u001b[1;33m \u001b[0mFLOWS_simulated\u001b[0m\u001b[1;33m.\u001b[0m\u001b[0mappend\u001b[0m\u001b[1;33m(\u001b[0m\u001b[0mnc_simulated\u001b[0m\u001b[1;33m.\u001b[0m\u001b[0mvariables\u001b[0m\u001b[1;33m[\u001b[0m\u001b[1;34m'discharge'\u001b[0m\u001b[1;33m]\u001b[0m\u001b[1;33m[\u001b[0m\u001b[1;33m:\u001b[0m\u001b[1;33m,\u001b[0m \u001b[0mlat_idx\u001b[0m\u001b[1;33m,\u001b[0m \u001b[0mlon_idx\u001b[0m\u001b[1;33m]\u001b[0m\u001b[1;33m)\u001b[0m\u001b[1;33m\u001b[0m\u001b[1;33m\u001b[0m\u001b[0m\n\u001b[0m",
      "\u001b[1;32msrc\\netCDF4\\_netCDF4.pyx\u001b[0m in \u001b[0;36mnetCDF4._netCDF4.Variable.__getitem__\u001b[1;34m()\u001b[0m\n",
      "\u001b[1;32msrc\\netCDF4\\_netCDF4.pyx\u001b[0m in \u001b[0;36mnetCDF4._netCDF4.Variable._get\u001b[1;34m()\u001b[0m\n",
      "\u001b[1;32msrc\\netCDF4\\_netCDF4.pyx\u001b[0m in \u001b[0;36mnetCDF4._netCDF4._ensure_nc_success\u001b[1;34m()\u001b[0m\n",
      "\u001b[1;31mRuntimeError\u001b[0m: NetCDF: HDF error"
     ]
    },
    {
     "ename": "RuntimeError",
     "evalue": "NetCDF: HDF error",
     "output_type": "error",
     "traceback": [
      "\u001b[1;31m---------------------------------------------------------------------------\u001b[0m",
      "\u001b[1;31mRuntimeError\u001b[0m                              Traceback (most recent call last)",
      "\u001b[1;32m<ipython-input-9-a48af6a38349>\u001b[0m in \u001b[0;36m<module>\u001b[1;34m\u001b[0m\n\u001b[1;32m----> 1\u001b[1;33m \u001b[0mget_ipython\u001b[0m\u001b[1;33m(\u001b[0m\u001b[1;33m)\u001b[0m\u001b[1;33m.\u001b[0m\u001b[0mrun_line_magic\u001b[0m\u001b[1;33m(\u001b[0m\u001b[1;34m'run'\u001b[0m\u001b[1;33m,\u001b[0m \u001b[1;34m'./1_Balance_CWatM.ipynb'\u001b[0m\u001b[1;33m)\u001b[0m\u001b[1;33m\u001b[0m\u001b[1;33m\u001b[0m\u001b[0m\n\u001b[0m",
      "\u001b[1;32mc:\\users\\nb-smilovic\\envs\\iiasa\\lib\\site-packages\\IPython\\core\\interactiveshell.py\u001b[0m in \u001b[0;36mrun_line_magic\u001b[1;34m(self, magic_name, line, _stack_depth)\u001b[0m\n\u001b[0;32m   2342\u001b[0m                 \u001b[0mkwargs\u001b[0m\u001b[1;33m[\u001b[0m\u001b[1;34m'local_ns'\u001b[0m\u001b[1;33m]\u001b[0m \u001b[1;33m=\u001b[0m \u001b[0mself\u001b[0m\u001b[1;33m.\u001b[0m\u001b[0mget_local_scope\u001b[0m\u001b[1;33m(\u001b[0m\u001b[0mstack_depth\u001b[0m\u001b[1;33m)\u001b[0m\u001b[1;33m\u001b[0m\u001b[1;33m\u001b[0m\u001b[0m\n\u001b[0;32m   2343\u001b[0m             \u001b[1;32mwith\u001b[0m \u001b[0mself\u001b[0m\u001b[1;33m.\u001b[0m\u001b[0mbuiltin_trap\u001b[0m\u001b[1;33m:\u001b[0m\u001b[1;33m\u001b[0m\u001b[1;33m\u001b[0m\u001b[0m\n\u001b[1;32m-> 2344\u001b[1;33m                 \u001b[0mresult\u001b[0m \u001b[1;33m=\u001b[0m \u001b[0mfn\u001b[0m\u001b[1;33m(\u001b[0m\u001b[1;33m*\u001b[0m\u001b[0margs\u001b[0m\u001b[1;33m,\u001b[0m \u001b[1;33m**\u001b[0m\u001b[0mkwargs\u001b[0m\u001b[1;33m)\u001b[0m\u001b[1;33m\u001b[0m\u001b[1;33m\u001b[0m\u001b[0m\n\u001b[0m\u001b[0;32m   2345\u001b[0m             \u001b[1;32mreturn\u001b[0m \u001b[0mresult\u001b[0m\u001b[1;33m\u001b[0m\u001b[1;33m\u001b[0m\u001b[0m\n\u001b[0;32m   2346\u001b[0m \u001b[1;33m\u001b[0m\u001b[0m\n",
      "\u001b[1;32m<decorator-gen-53>\u001b[0m in \u001b[0;36mrun\u001b[1;34m(self, parameter_s, runner, file_finder)\u001b[0m\n",
      "\u001b[1;32mc:\\users\\nb-smilovic\\envs\\iiasa\\lib\\site-packages\\IPython\\core\\magic.py\u001b[0m in \u001b[0;36m<lambda>\u001b[1;34m(f, *a, **k)\u001b[0m\n\u001b[0;32m    185\u001b[0m     \u001b[1;31m# but it's overkill for just that one bit of state.\u001b[0m\u001b[1;33m\u001b[0m\u001b[1;33m\u001b[0m\u001b[1;33m\u001b[0m\u001b[0m\n\u001b[0;32m    186\u001b[0m     \u001b[1;32mdef\u001b[0m \u001b[0mmagic_deco\u001b[0m\u001b[1;33m(\u001b[0m\u001b[0marg\u001b[0m\u001b[1;33m)\u001b[0m\u001b[1;33m:\u001b[0m\u001b[1;33m\u001b[0m\u001b[1;33m\u001b[0m\u001b[0m\n\u001b[1;32m--> 187\u001b[1;33m         \u001b[0mcall\u001b[0m \u001b[1;33m=\u001b[0m \u001b[1;32mlambda\u001b[0m \u001b[0mf\u001b[0m\u001b[1;33m,\u001b[0m \u001b[1;33m*\u001b[0m\u001b[0ma\u001b[0m\u001b[1;33m,\u001b[0m \u001b[1;33m**\u001b[0m\u001b[0mk\u001b[0m\u001b[1;33m:\u001b[0m \u001b[0mf\u001b[0m\u001b[1;33m(\u001b[0m\u001b[1;33m*\u001b[0m\u001b[0ma\u001b[0m\u001b[1;33m,\u001b[0m \u001b[1;33m**\u001b[0m\u001b[0mk\u001b[0m\u001b[1;33m)\u001b[0m\u001b[1;33m\u001b[0m\u001b[1;33m\u001b[0m\u001b[0m\n\u001b[0m\u001b[0;32m    188\u001b[0m \u001b[1;33m\u001b[0m\u001b[0m\n\u001b[0;32m    189\u001b[0m         \u001b[1;32mif\u001b[0m \u001b[0mcallable\u001b[0m\u001b[1;33m(\u001b[0m\u001b[0marg\u001b[0m\u001b[1;33m)\u001b[0m\u001b[1;33m:\u001b[0m\u001b[1;33m\u001b[0m\u001b[1;33m\u001b[0m\u001b[0m\n",
      "\u001b[1;32mc:\\users\\nb-smilovic\\envs\\iiasa\\lib\\site-packages\\IPython\\core\\magics\\execution.py\u001b[0m in \u001b[0;36mrun\u001b[1;34m(self, parameter_s, runner, file_finder)\u001b[0m\n\u001b[0;32m    722\u001b[0m             \u001b[1;32mwith\u001b[0m \u001b[0mpreserve_keys\u001b[0m\u001b[1;33m(\u001b[0m\u001b[0mself\u001b[0m\u001b[1;33m.\u001b[0m\u001b[0mshell\u001b[0m\u001b[1;33m.\u001b[0m\u001b[0muser_ns\u001b[0m\u001b[1;33m,\u001b[0m \u001b[1;34m'__file__'\u001b[0m\u001b[1;33m)\u001b[0m\u001b[1;33m:\u001b[0m\u001b[1;33m\u001b[0m\u001b[1;33m\u001b[0m\u001b[0m\n\u001b[0;32m    723\u001b[0m                 \u001b[0mself\u001b[0m\u001b[1;33m.\u001b[0m\u001b[0mshell\u001b[0m\u001b[1;33m.\u001b[0m\u001b[0muser_ns\u001b[0m\u001b[1;33m[\u001b[0m\u001b[1;34m'__file__'\u001b[0m\u001b[1;33m]\u001b[0m \u001b[1;33m=\u001b[0m \u001b[0mfilename\u001b[0m\u001b[1;33m\u001b[0m\u001b[1;33m\u001b[0m\u001b[0m\n\u001b[1;32m--> 724\u001b[1;33m                 \u001b[0mself\u001b[0m\u001b[1;33m.\u001b[0m\u001b[0mshell\u001b[0m\u001b[1;33m.\u001b[0m\u001b[0msafe_execfile_ipy\u001b[0m\u001b[1;33m(\u001b[0m\u001b[0mfilename\u001b[0m\u001b[1;33m,\u001b[0m \u001b[0mraise_exceptions\u001b[0m\u001b[1;33m=\u001b[0m\u001b[1;32mTrue\u001b[0m\u001b[1;33m)\u001b[0m\u001b[1;33m\u001b[0m\u001b[1;33m\u001b[0m\u001b[0m\n\u001b[0m\u001b[0;32m    725\u001b[0m             \u001b[1;32mreturn\u001b[0m\u001b[1;33m\u001b[0m\u001b[1;33m\u001b[0m\u001b[0m\n\u001b[0;32m    726\u001b[0m \u001b[1;33m\u001b[0m\u001b[0m\n",
      "\u001b[1;32mc:\\users\\nb-smilovic\\envs\\iiasa\\lib\\site-packages\\IPython\\core\\interactiveshell.py\u001b[0m in \u001b[0;36msafe_execfile_ipy\u001b[1;34m(self, fname, shell_futures, raise_exceptions)\u001b[0m\n\u001b[0;32m   2829\u001b[0m                     \u001b[0mresult\u001b[0m \u001b[1;33m=\u001b[0m \u001b[0mself\u001b[0m\u001b[1;33m.\u001b[0m\u001b[0mrun_cell\u001b[0m\u001b[1;33m(\u001b[0m\u001b[0mcell\u001b[0m\u001b[1;33m,\u001b[0m \u001b[0msilent\u001b[0m\u001b[1;33m=\u001b[0m\u001b[1;32mTrue\u001b[0m\u001b[1;33m,\u001b[0m \u001b[0mshell_futures\u001b[0m\u001b[1;33m=\u001b[0m\u001b[0mshell_futures\u001b[0m\u001b[1;33m)\u001b[0m\u001b[1;33m\u001b[0m\u001b[1;33m\u001b[0m\u001b[0m\n\u001b[0;32m   2830\u001b[0m                     \u001b[1;32mif\u001b[0m \u001b[0mraise_exceptions\u001b[0m\u001b[1;33m:\u001b[0m\u001b[1;33m\u001b[0m\u001b[1;33m\u001b[0m\u001b[0m\n\u001b[1;32m-> 2831\u001b[1;33m                         \u001b[0mresult\u001b[0m\u001b[1;33m.\u001b[0m\u001b[0mraise_error\u001b[0m\u001b[1;33m(\u001b[0m\u001b[1;33m)\u001b[0m\u001b[1;33m\u001b[0m\u001b[1;33m\u001b[0m\u001b[0m\n\u001b[0m\u001b[0;32m   2832\u001b[0m                     \u001b[1;32melif\u001b[0m \u001b[1;32mnot\u001b[0m \u001b[0mresult\u001b[0m\u001b[1;33m.\u001b[0m\u001b[0msuccess\u001b[0m\u001b[1;33m:\u001b[0m\u001b[1;33m\u001b[0m\u001b[1;33m\u001b[0m\u001b[0m\n\u001b[0;32m   2833\u001b[0m                         \u001b[1;32mbreak\u001b[0m\u001b[1;33m\u001b[0m\u001b[1;33m\u001b[0m\u001b[0m\n",
      "\u001b[1;32mc:\\users\\nb-smilovic\\envs\\iiasa\\lib\\site-packages\\IPython\\core\\interactiveshell.py\u001b[0m in \u001b[0;36mraise_error\u001b[1;34m(self)\u001b[0m\n\u001b[0;32m    329\u001b[0m             \u001b[1;32mraise\u001b[0m \u001b[0mself\u001b[0m\u001b[1;33m.\u001b[0m\u001b[0merror_before_exec\u001b[0m\u001b[1;33m\u001b[0m\u001b[1;33m\u001b[0m\u001b[0m\n\u001b[0;32m    330\u001b[0m         \u001b[1;32mif\u001b[0m \u001b[0mself\u001b[0m\u001b[1;33m.\u001b[0m\u001b[0merror_in_exec\u001b[0m \u001b[1;32mis\u001b[0m \u001b[1;32mnot\u001b[0m \u001b[1;32mNone\u001b[0m\u001b[1;33m:\u001b[0m\u001b[1;33m\u001b[0m\u001b[1;33m\u001b[0m\u001b[0m\n\u001b[1;32m--> 331\u001b[1;33m             \u001b[1;32mraise\u001b[0m \u001b[0mself\u001b[0m\u001b[1;33m.\u001b[0m\u001b[0merror_in_exec\u001b[0m\u001b[1;33m\u001b[0m\u001b[1;33m\u001b[0m\u001b[0m\n\u001b[0m\u001b[0;32m    332\u001b[0m \u001b[1;33m\u001b[0m\u001b[0m\n\u001b[0;32m    333\u001b[0m     \u001b[1;32mdef\u001b[0m \u001b[0m__repr__\u001b[0m\u001b[1;33m(\u001b[0m\u001b[0mself\u001b[0m\u001b[1;33m)\u001b[0m\u001b[1;33m:\u001b[0m\u001b[1;33m\u001b[0m\u001b[1;33m\u001b[0m\u001b[0m\n",
      "    \u001b[1;31m[... skipping hidden 1 frame]\u001b[0m\n",
      "\u001b[1;32m<ipython-input-9-4895fb77b908>\u001b[0m in \u001b[0;36m<module>\u001b[1;34m\u001b[0m\n\u001b[0;32m     14\u001b[0m \u001b[0mlon_idx\u001b[0m \u001b[1;33m=\u001b[0m \u001b[0mgeo_idx\u001b[0m\u001b[1;33m(\u001b[0m\u001b[0min_lon\u001b[0m\u001b[1;33m,\u001b[0m \u001b[0mlons\u001b[0m\u001b[1;33m)\u001b[0m\u001b[1;33m\u001b[0m\u001b[1;33m\u001b[0m\u001b[0m\n\u001b[0;32m     15\u001b[0m \u001b[1;33m\u001b[0m\u001b[0m\n\u001b[1;32m---> 16\u001b[1;33m \u001b[0mFLOWS_simulated\u001b[0m\u001b[1;33m.\u001b[0m\u001b[0mappend\u001b[0m\u001b[1;33m(\u001b[0m\u001b[0mnc_simulated\u001b[0m\u001b[1;33m.\u001b[0m\u001b[0mvariables\u001b[0m\u001b[1;33m[\u001b[0m\u001b[1;34m'discharge'\u001b[0m\u001b[1;33m]\u001b[0m\u001b[1;33m[\u001b[0m\u001b[1;33m:\u001b[0m\u001b[1;33m,\u001b[0m \u001b[0mlat_idx\u001b[0m\u001b[1;33m,\u001b[0m \u001b[0mlon_idx\u001b[0m\u001b[1;33m]\u001b[0m\u001b[1;33m)\u001b[0m\u001b[1;33m\u001b[0m\u001b[1;33m\u001b[0m\u001b[0m\n\u001b[0m",
      "\u001b[1;32msrc\\netCDF4\\_netCDF4.pyx\u001b[0m in \u001b[0;36mnetCDF4._netCDF4.Variable.__getitem__\u001b[1;34m()\u001b[0m\n",
      "\u001b[1;32msrc\\netCDF4\\_netCDF4.pyx\u001b[0m in \u001b[0;36mnetCDF4._netCDF4.Variable._get\u001b[1;34m()\u001b[0m\n",
      "\u001b[1;32msrc\\netCDF4\\_netCDF4.pyx\u001b[0m in \u001b[0;36mnetCDF4._netCDF4._ensure_nc_success\u001b[1;34m()\u001b[0m\n",
      "\u001b[1;31mRuntimeError\u001b[0m: NetCDF: HDF error"
     ]
    }
   ],
   "source": [
    "run ./1_Balance_CWatM.ipynb"
   ]
  },
  {
   "cell_type": "code",
   "execution_count": null,
   "metadata": {
    "extensions": {
     "jupyter_dashboards": {
      "version": 1,
      "views": {
       "grid_default": {},
       "report_default": {
        "hidden": true
       }
      }
     }
    }
   },
   "outputs": [],
   "source": []
  }
 ],
 "metadata": {
  "extensions": {
   "jupyter_dashboards": {
    "activeView": "report_default",
    "version": 1,
    "views": {
     "grid_default": {
      "name": "grid",
      "type": "grid"
     },
     "report_default": {
      "name": "report",
      "type": "report"
     }
    }
   }
  },
  "kernelspec": {
   "display_name": "Python 3",
   "language": "python",
   "name": "python3"
  },
  "language_info": {
   "codemirror_mode": {
    "name": "ipython",
    "version": 3
   },
   "file_extension": ".py",
   "mimetype": "text/x-python",
   "name": "python",
   "nbconvert_exporter": "python",
   "pygments_lexer": "ipython3",
   "version": "3.9.6"
  }
 },
 "nbformat": 4,
 "nbformat_minor": 2
}
