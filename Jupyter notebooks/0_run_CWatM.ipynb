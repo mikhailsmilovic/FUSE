{
 "cells": [
  {
   "cell_type": "markdown",
   "metadata": {
    "extensions": {
     "jupyter_dashboards": {
      "version": 1,
      "views": {
       "grid_default": {},
       "report_default": {
        "hidden": false
       }
      }
     }
    }
   },
   "source": [
    "<img style=\"float: right;\" src=\"https://drive.google.com/uc?export=view&id=1qVA-sPHp5TY5D7enbU7mF4zZ8obu5wrC\" width=150 height=150 />\n",
    "\n",
    "# CWatM: Community Water Model\n",
    "### CWatM is an open-source hydrological model developed at IIASA\n",
    "This notebook runs CWatM using the excel file cwatm_settings.xlsx.\n",
    "<br><br>\n",
    "\n",
    "The **output_folder** in the accompanied notebook should point to where the simulations are held. <br>\n",
    "The **basepath** should point to the folder \"CWatM_settings\" containing:\n",
    " - *cwatm_settings.xlsx*: \n",
    " - *settings_CwatM_template.ini*"
   ]
  },
  {
   "cell_type": "code",
   "execution_count": 1,
   "metadata": {
    "extensions": {
     "jupyter_dashboards": {
      "version": 1,
      "views": {
       "grid_default": {},
       "report_default": {
        "hidden": true
       }
      }
     }
    }
   },
   "outputs": [],
   "source": [
    "basepath = 'C:\\GitHub\\FUSE\\CWatM_settings'\n",
    "#For nira_repo change in 3 locations\n",
    "#basepath = r'C:\\GitHub\\nira_repo\\modules\\hydro\\hydro_files'\n",
    "water_balance = False\n",
    "outputsForNotebooks = True\n",
    "AgricultureNotebook = True\n",
    "AgInputsNotebook = True\n",
    "print_settings = False"
   ]
  },
  {
   "cell_type": "code",
   "execution_count": 2,
   "metadata": {
    "extensions": {
     "jupyter_dashboards": {
      "version": 1,
      "views": {
       "grid_default": {},
       "report_default": {
        "hidden": true
       }
      }
     }
    }
   },
   "outputs": [],
   "source": [
    "def create_cwatm_settings_dict_obj_TEST(xl_settings_file_path):\n",
    "    import xlrd\n",
    "    import pandas as pd\n",
    "    # Create dictionary from excel file\n",
    "    settings_dict = {}\n",
    "    df = pd.read_excel(xl_settings_file_path)\n",
    "    wb = xlrd.open_workbook(xl_settings_file_path)\n",
    "    sh = wb.sheet_by_index(0)\n",
    "    for i in range(len(df)+1): #MS\n",
    "        cell_key = sh.cell(i, 0).value\n",
    "        cell_value = sh.cell(i, 1).value\n",
    "        settings_dict[cell_key] = cell_value\n",
    "    return settings_dict\n",
    "    \n",
    "def define_cwatm_settings_TEST(settings_template, new_settings_file, settings_dictionary):\n",
    "    global Modflow\n",
    "    sourcefile = open(settings_template, \"r\")\n",
    "    newfile = open(new_settings_file, \"wt\")\n",
    "    keylist = list(settings_dictionary.keys())\n",
    "    for key in keylist:\n",
    "        if 'modflow_coupling' in key:\n",
    "            Modflow = settings_dictionary[key]\n",
    "            Modflow_found = True\n",
    "        \n",
    "    for line in sourcefile:\n",
    "\n",
    "        boolcheck = [elem in line for elem in keylist]\n",
    "        match = any(elem in line for elem in keylist)\n",
    "        ix = boolcheck.index(match)\n",
    "        if 'modflow_coupling' in line and not 'Modflow_found' in locals():\n",
    "            Modflow = False if line.split()[-1]==('False' or 'FALSE') else True\n",
    "        if match:\n",
    "            key = keylist.pop(ix)\n",
    "            value = settings_dictionary[key]\n",
    "            \n",
    "            water_balance_outputs=''\n",
    "            if key == 'OUT_MAP_Daily':\n",
    "                if water_balance:\n",
    "                    #water_balance_outputs= 'pumping_actual, gwstore, returnFlow, act_SurfaceWaterAbstract,act_nonIrrConsumption,sum_runoff,sum_interceptEvap,sum_actBareSoilEvap,act_totalIrrConsumption, sum_gwRecharge, gwstore, capillar, baseflow, act_bigLakeResAbst, leakage, actTransTotal_nonpaddy, actTransTotal_paddy, actTransTotal_grasslands, actTransTotal_forest, pumping_actual, pumping, cellArea, totalET, Rain, EvapoChannel, EvapWaterBodyM,  channelStorage, lakeResStorage, totalSto, storGroundwater, gwstore, sum_actTransTotal, sum_actBareSoilEvap, sum_interceptEvap, sum_openWaterEvap, addtoevapotrans,   lakeResInflowDis, lakeResOutflowDis, lakeResOutflowM, lakeResInflowM, discharge'\n",
    "                    water_balance_outputs= 'lakeResInflowDis, lakeResOutflowDis, head_development, act_channelAbstract_Lift, act_nonLocalchannelAbstract_M, act_nonLocalLakeAbstract_M, sum_prefFlow_GW, sum_perc3toGW_GW, leakageIntoGw, leakageIntoRunoff,  riverbedExchangeM, act_bigLakeResAbst_alloc, act_LocalLakeAbstract, act_channelAbstract_Local, act_channelAbstract, act_irrWithdrawalGW, act_irrWithdrawalSW, act_nonIrrWithdrawalGW, act_nonIrrWithdrawalSW, act_nonIrrWithdrawal, act_irrWithdrawal, delivered_water, act_LocalLakeAbstract, resStorageTotal_alloc, pumping_actual, gwstore, returnFlow, act_SurfaceWaterAbstract,act_nonIrrConsumption,sum_runoff,sum_interceptEvap,sum_actBareSoilEvap,act_totalIrrConsumption, sum_gwRecharge, gwstore, capillar, baseflow, act_bigLakeResAbst, act_bigLakeResAbst_alloc, leakage, actTransTotal_nonpaddy, actTransTotal_paddy, actTransTotal_grasslands, actTransTotal_forest, pumping_actual, pumping, cellArea, totalET, Rain, EvapoChannel, EvapWaterBodyM,  channelStorage, lakeResStorage, totalSto, storGroundwater, gwstore, sum_actTransTotal, sum_actBareSoilEvap, sum_interceptEvap, sum_openWaterEvap, addtoevapotrans, lakeResOutflowM, lakeResInflowM, discharge'\n",
    "\n",
    "                elif outputsForNotebooks:\n",
    "                    water_balance_outputs= 'cropKC[1], discharge, lakeResInflowDis, lakeResOutflowDis, lakeResStorage, act_bigLakeResAbst_alloc, act_LocalLakeAbstract, resStorageTotal_alloc'\n",
    "                else:\n",
    "                    water_balance_outputs='discharge'\n",
    "                if str(value)!='':\n",
    "                    water_balance_outputs += ','\n",
    "\n",
    "            newstring = key + ' = ' + water_balance_outputs + str(value) + '\\n'\n",
    "            newfile.write(newstring)\n",
    "            \n",
    "        else:\n",
    "            newfile.write(line)\n",
    "    sourcefile.close()\n",
    "    newfile.close()\n",
    "\n",
    "def show_cwatm_settings_file_TEST(settings_file_path):\n",
    "    file = open(settings_file_path, \"r\")\n",
    "    for line in file:\n",
    "        print(line)\n",
    "    file.close()\n",
    "\n",
    "def run_cwatm_TEST(settings_file_path):\n",
    "    import  os\n",
    "    cwatm_source_path = 'C:\\GitHub\\CWATM_priv\\source_py3\\cwatm3.py'\n",
    "    #cwatm_source_path = r'C:\\GitHub\\nira_repo\\python_packages\\source_py3\\cwatm3.py'\n",
    "    command_str = 'python ' + cwatm_source_path + \" \" + settings_file_path + ' -l'\n",
    "    flag = os.system(command_str)\n",
    "    if flag == 0:\n",
    "        print('Successfully Finished Running CWATM\\n')"
   ]
  },
  {
   "cell_type": "code",
   "execution_count": null,
   "metadata": {
    "extensions": {
     "jupyter_dashboards": {
      "version": 1,
      "views": {
       "grid_default": {},
       "report_default": {
        "hidden": false
       }
      }
     }
    },
    "scrolled": false
   },
   "outputs": [],
   "source": [
    "import time\n",
    "from datetime import date\n",
    "\n",
    "today = date.today().strftime(\"%B%d\")\n",
    "\n",
    "settings_template = basepath + r'\\settings_CWatM_template.ini'\n",
    "excel_settings_file =basepath + r'\\cwatm_settings.xlsx'\n",
    "#excel_settings_file =basepath + r'\\cwatm_settings_12Oct.xlsx'\n",
    "new_settings_file = basepath + r'\\settings_CWatM_'+today+'.ini'\n",
    "\n",
    "# Create an initial settings dictionary object from the excel file.\n",
    "# This dictionary be modified by the urban and ag calculations to pass file paths or values\n",
    "settings_dict = create_cwatm_settings_dict_obj_TEST(excel_settings_file)\n",
    "\n",
    "define_cwatm_settings_TEST(settings_template, new_settings_file, settings_dict)\n",
    "\n",
    "if print_settings == True:\n",
    "    show_cwatm_settings_file_TEST(new_settings_file)\n",
    "    \n",
    "\n",
    "run_cwatm_TEST(new_settings_file)"
   ]
  },
  {
   "cell_type": "code",
   "execution_count": null,
   "metadata": {},
   "outputs": [],
   "source": []
  },
  {
   "cell_type": "code",
   "execution_count": null,
   "metadata": {
    "extensions": {
     "jupyter_dashboards": {
      "version": 1,
      "views": {
       "grid_default": {},
       "report_default": {
        "hidden": true
       }
      }
     }
    },
    "scrolled": false
   },
   "outputs": [],
   "source": [
    "run ./1_Balance_CWatM.ipynb"
   ]
  },
  {
   "cell_type": "code",
   "execution_count": null,
   "metadata": {
    "extensions": {
     "jupyter_dashboards": {
      "version": 1,
      "views": {
       "grid_default": {},
       "report_default": {
        "hidden": true
       }
      }
     }
    }
   },
   "outputs": [],
   "source": []
  }
 ],
 "metadata": {
  "extensions": {
   "jupyter_dashboards": {
    "activeView": "report_default",
    "version": 1,
    "views": {
     "grid_default": {
      "name": "grid",
      "type": "grid"
     },
     "report_default": {
      "name": "report",
      "type": "report"
     }
    }
   }
  },
  "kernelspec": {
   "display_name": "Python 3",
   "language": "python",
   "name": "python3"
  },
  "language_info": {
   "codemirror_mode": {
    "name": "ipython",
    "version": 3
   },
   "file_extension": ".py",
   "mimetype": "text/x-python",
   "name": "python",
   "nbconvert_exporter": "python",
   "pygments_lexer": "ipython3",
   "version": "3.7.5"
  }
 },
 "nbformat": 4,
 "nbformat_minor": 2
}
